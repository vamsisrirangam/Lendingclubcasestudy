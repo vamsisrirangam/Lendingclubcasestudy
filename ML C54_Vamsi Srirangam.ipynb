{
  "nbformat": 4,
  "nbformat_minor": 0,
  "metadata": {
    "colab": {
      "provenance": []
    },
    "kernelspec": {
      "name": "python3",
      "display_name": "Python 3"
    },
    "language_info": {
      "name": "python"
    }
  },
  "cells": [
    {
      "cell_type": "markdown",
      "source": [
        "**Importing required libraries**"
      ],
      "metadata": {
        "id": "OWTLmYASEql6"
      }
    },
    {
      "cell_type": "code",
      "execution_count": 1,
      "metadata": {
        "id": "46bEHwXteNa1"
      },
      "outputs": [],
      "source": [
        "import matplotlib.pyplot as plt\n",
        "import numpy as np\n",
        "import pandas as pd\n",
        "from google.colab import drive\n",
        "import seaborn as sns\n",
        "import warnings\n",
        "warnings.filterwarnings('ignore')"
      ]
    },
    {
      "cell_type": "markdown",
      "source": [
        "**Connecting to google drive to access the file, where the data is saved.**"
      ],
      "metadata": {
        "id": "z5LRy1IqIkTE"
      }
    },
    {
      "cell_type": "code",
      "source": [
        "drive.mount('/content/drive')"
      ],
      "metadata": {
        "id": "wytmg0kbe1tp",
        "colab": {
          "base_uri": "https://localhost:8080/"
        },
        "outputId": "49215f69-629d-4676-a042-7af6769a6f92"
      },
      "execution_count": 2,
      "outputs": [
        {
          "output_type": "stream",
          "name": "stdout",
          "text": [
            "Mounted at /content/drive\n"
          ]
        }
      ]
    },
    {
      "cell_type": "markdown",
      "source": [
        "**Accessing the csv file where the loan details are saved.**"
      ],
      "metadata": {
        "id": "-hi2YpasE83X"
      }
    },
    {
      "cell_type": "code",
      "source": [
        "loan_data = pd.read_csv('drive/MyDrive/Samples/AI ML/Module 2/loan.csv')\n",
        "loan_data.head()"
      ],
      "metadata": {
        "id": "HHyJjqswe9O_",
        "colab": {
          "base_uri": "https://localhost:8080/",
          "height": 386
        },
        "outputId": "f38e3390-8324-4d5b-8696-0d6760e62205"
      },
      "execution_count": 3,
      "outputs": [
        {
          "output_type": "execute_result",
          "data": {
            "text/plain": [
              "        id  member_id  loan_amnt  funded_amnt  funded_amnt_inv        term  \\\n",
              "0  1077501    1296599       5000         5000           4975.0   36 months   \n",
              "1  1077430    1314167       2500         2500           2500.0   60 months   \n",
              "2  1077175    1313524       2400         2400           2400.0   36 months   \n",
              "3  1076863    1277178      10000        10000          10000.0   36 months   \n",
              "4  1075358    1311748       3000         3000           3000.0   60 months   \n",
              "\n",
              "  int_rate  installment grade sub_grade  ... num_tl_90g_dpd_24m  \\\n",
              "0   10.65%       162.87     B        B2  ...                NaN   \n",
              "1   15.27%        59.83     C        C4  ...                NaN   \n",
              "2   15.96%        84.33     C        C5  ...                NaN   \n",
              "3   13.49%       339.31     C        C1  ...                NaN   \n",
              "4   12.69%        67.79     B        B5  ...                NaN   \n",
              "\n",
              "  num_tl_op_past_12m pct_tl_nvr_dlq  percent_bc_gt_75 pub_rec_bankruptcies  \\\n",
              "0                NaN            NaN               NaN                  0.0   \n",
              "1                NaN            NaN               NaN                  0.0   \n",
              "2                NaN            NaN               NaN                  0.0   \n",
              "3                NaN            NaN               NaN                  0.0   \n",
              "4                NaN            NaN               NaN                  0.0   \n",
              "\n",
              "  tax_liens tot_hi_cred_lim total_bal_ex_mort total_bc_limit  \\\n",
              "0       0.0             NaN               NaN            NaN   \n",
              "1       0.0             NaN               NaN            NaN   \n",
              "2       0.0             NaN               NaN            NaN   \n",
              "3       0.0             NaN               NaN            NaN   \n",
              "4       0.0             NaN               NaN            NaN   \n",
              "\n",
              "  total_il_high_credit_limit  \n",
              "0                        NaN  \n",
              "1                        NaN  \n",
              "2                        NaN  \n",
              "3                        NaN  \n",
              "4                        NaN  \n",
              "\n",
              "[5 rows x 111 columns]"
            ],
            "text/html": [
              "\n",
              "\n",
              "  <div id=\"df-46be716e-568f-423a-99dc-0e90c83a5916\">\n",
              "    <div class=\"colab-df-container\">\n",
              "      <div>\n",
              "<style scoped>\n",
              "    .dataframe tbody tr th:only-of-type {\n",
              "        vertical-align: middle;\n",
              "    }\n",
              "\n",
              "    .dataframe tbody tr th {\n",
              "        vertical-align: top;\n",
              "    }\n",
              "\n",
              "    .dataframe thead th {\n",
              "        text-align: right;\n",
              "    }\n",
              "</style>\n",
              "<table border=\"1\" class=\"dataframe\">\n",
              "  <thead>\n",
              "    <tr style=\"text-align: right;\">\n",
              "      <th></th>\n",
              "      <th>id</th>\n",
              "      <th>member_id</th>\n",
              "      <th>loan_amnt</th>\n",
              "      <th>funded_amnt</th>\n",
              "      <th>funded_amnt_inv</th>\n",
              "      <th>term</th>\n",
              "      <th>int_rate</th>\n",
              "      <th>installment</th>\n",
              "      <th>grade</th>\n",
              "      <th>sub_grade</th>\n",
              "      <th>...</th>\n",
              "      <th>num_tl_90g_dpd_24m</th>\n",
              "      <th>num_tl_op_past_12m</th>\n",
              "      <th>pct_tl_nvr_dlq</th>\n",
              "      <th>percent_bc_gt_75</th>\n",
              "      <th>pub_rec_bankruptcies</th>\n",
              "      <th>tax_liens</th>\n",
              "      <th>tot_hi_cred_lim</th>\n",
              "      <th>total_bal_ex_mort</th>\n",
              "      <th>total_bc_limit</th>\n",
              "      <th>total_il_high_credit_limit</th>\n",
              "    </tr>\n",
              "  </thead>\n",
              "  <tbody>\n",
              "    <tr>\n",
              "      <th>0</th>\n",
              "      <td>1077501</td>\n",
              "      <td>1296599</td>\n",
              "      <td>5000</td>\n",
              "      <td>5000</td>\n",
              "      <td>4975.0</td>\n",
              "      <td>36 months</td>\n",
              "      <td>10.65%</td>\n",
              "      <td>162.87</td>\n",
              "      <td>B</td>\n",
              "      <td>B2</td>\n",
              "      <td>...</td>\n",
              "      <td>NaN</td>\n",
              "      <td>NaN</td>\n",
              "      <td>NaN</td>\n",
              "      <td>NaN</td>\n",
              "      <td>0.0</td>\n",
              "      <td>0.0</td>\n",
              "      <td>NaN</td>\n",
              "      <td>NaN</td>\n",
              "      <td>NaN</td>\n",
              "      <td>NaN</td>\n",
              "    </tr>\n",
              "    <tr>\n",
              "      <th>1</th>\n",
              "      <td>1077430</td>\n",
              "      <td>1314167</td>\n",
              "      <td>2500</td>\n",
              "      <td>2500</td>\n",
              "      <td>2500.0</td>\n",
              "      <td>60 months</td>\n",
              "      <td>15.27%</td>\n",
              "      <td>59.83</td>\n",
              "      <td>C</td>\n",
              "      <td>C4</td>\n",
              "      <td>...</td>\n",
              "      <td>NaN</td>\n",
              "      <td>NaN</td>\n",
              "      <td>NaN</td>\n",
              "      <td>NaN</td>\n",
              "      <td>0.0</td>\n",
              "      <td>0.0</td>\n",
              "      <td>NaN</td>\n",
              "      <td>NaN</td>\n",
              "      <td>NaN</td>\n",
              "      <td>NaN</td>\n",
              "    </tr>\n",
              "    <tr>\n",
              "      <th>2</th>\n",
              "      <td>1077175</td>\n",
              "      <td>1313524</td>\n",
              "      <td>2400</td>\n",
              "      <td>2400</td>\n",
              "      <td>2400.0</td>\n",
              "      <td>36 months</td>\n",
              "      <td>15.96%</td>\n",
              "      <td>84.33</td>\n",
              "      <td>C</td>\n",
              "      <td>C5</td>\n",
              "      <td>...</td>\n",
              "      <td>NaN</td>\n",
              "      <td>NaN</td>\n",
              "      <td>NaN</td>\n",
              "      <td>NaN</td>\n",
              "      <td>0.0</td>\n",
              "      <td>0.0</td>\n",
              "      <td>NaN</td>\n",
              "      <td>NaN</td>\n",
              "      <td>NaN</td>\n",
              "      <td>NaN</td>\n",
              "    </tr>\n",
              "    <tr>\n",
              "      <th>3</th>\n",
              "      <td>1076863</td>\n",
              "      <td>1277178</td>\n",
              "      <td>10000</td>\n",
              "      <td>10000</td>\n",
              "      <td>10000.0</td>\n",
              "      <td>36 months</td>\n",
              "      <td>13.49%</td>\n",
              "      <td>339.31</td>\n",
              "      <td>C</td>\n",
              "      <td>C1</td>\n",
              "      <td>...</td>\n",
              "      <td>NaN</td>\n",
              "      <td>NaN</td>\n",
              "      <td>NaN</td>\n",
              "      <td>NaN</td>\n",
              "      <td>0.0</td>\n",
              "      <td>0.0</td>\n",
              "      <td>NaN</td>\n",
              "      <td>NaN</td>\n",
              "      <td>NaN</td>\n",
              "      <td>NaN</td>\n",
              "    </tr>\n",
              "    <tr>\n",
              "      <th>4</th>\n",
              "      <td>1075358</td>\n",
              "      <td>1311748</td>\n",
              "      <td>3000</td>\n",
              "      <td>3000</td>\n",
              "      <td>3000.0</td>\n",
              "      <td>60 months</td>\n",
              "      <td>12.69%</td>\n",
              "      <td>67.79</td>\n",
              "      <td>B</td>\n",
              "      <td>B5</td>\n",
              "      <td>...</td>\n",
              "      <td>NaN</td>\n",
              "      <td>NaN</td>\n",
              "      <td>NaN</td>\n",
              "      <td>NaN</td>\n",
              "      <td>0.0</td>\n",
              "      <td>0.0</td>\n",
              "      <td>NaN</td>\n",
              "      <td>NaN</td>\n",
              "      <td>NaN</td>\n",
              "      <td>NaN</td>\n",
              "    </tr>\n",
              "  </tbody>\n",
              "</table>\n",
              "<p>5 rows × 111 columns</p>\n",
              "</div>\n",
              "      <button class=\"colab-df-convert\" onclick=\"convertToInteractive('df-46be716e-568f-423a-99dc-0e90c83a5916')\"\n",
              "              title=\"Convert this dataframe to an interactive table.\"\n",
              "              style=\"display:none;\">\n",
              "\n",
              "  <svg xmlns=\"http://www.w3.org/2000/svg\" height=\"24px\"viewBox=\"0 0 24 24\"\n",
              "       width=\"24px\">\n",
              "    <path d=\"M0 0h24v24H0V0z\" fill=\"none\"/>\n",
              "    <path d=\"M18.56 5.44l.94 2.06.94-2.06 2.06-.94-2.06-.94-.94-2.06-.94 2.06-2.06.94zm-11 1L8.5 8.5l.94-2.06 2.06-.94-2.06-.94L8.5 2.5l-.94 2.06-2.06.94zm10 10l.94 2.06.94-2.06 2.06-.94-2.06-.94-.94-2.06-.94 2.06-2.06.94z\"/><path d=\"M17.41 7.96l-1.37-1.37c-.4-.4-.92-.59-1.43-.59-.52 0-1.04.2-1.43.59L10.3 9.45l-7.72 7.72c-.78.78-.78 2.05 0 2.83L4 21.41c.39.39.9.59 1.41.59.51 0 1.02-.2 1.41-.59l7.78-7.78 2.81-2.81c.8-.78.8-2.07 0-2.86zM5.41 20L4 18.59l7.72-7.72 1.47 1.35L5.41 20z\"/>\n",
              "  </svg>\n",
              "      </button>\n",
              "\n",
              "\n",
              "\n",
              "    <div id=\"df-c4f46aac-b0ad-48a4-9a90-4b2fb50502e1\">\n",
              "      <button class=\"colab-df-quickchart\" onclick=\"quickchart('df-c4f46aac-b0ad-48a4-9a90-4b2fb50502e1')\"\n",
              "              title=\"Suggest charts.\"\n",
              "              style=\"display:none;\">\n",
              "\n",
              "<svg xmlns=\"http://www.w3.org/2000/svg\" height=\"24px\"viewBox=\"0 0 24 24\"\n",
              "     width=\"24px\">\n",
              "    <g>\n",
              "        <path d=\"M19 3H5c-1.1 0-2 .9-2 2v14c0 1.1.9 2 2 2h14c1.1 0 2-.9 2-2V5c0-1.1-.9-2-2-2zM9 17H7v-7h2v7zm4 0h-2V7h2v10zm4 0h-2v-4h2v4z\"/>\n",
              "    </g>\n",
              "</svg>\n",
              "      </button>\n",
              "    </div>\n",
              "\n",
              "<style>\n",
              "  .colab-df-quickchart {\n",
              "    background-color: #E8F0FE;\n",
              "    border: none;\n",
              "    border-radius: 50%;\n",
              "    cursor: pointer;\n",
              "    display: none;\n",
              "    fill: #1967D2;\n",
              "    height: 32px;\n",
              "    padding: 0 0 0 0;\n",
              "    width: 32px;\n",
              "  }\n",
              "\n",
              "  .colab-df-quickchart:hover {\n",
              "    background-color: #E2EBFA;\n",
              "    box-shadow: 0px 1px 2px rgba(60, 64, 67, 0.3), 0px 1px 3px 1px rgba(60, 64, 67, 0.15);\n",
              "    fill: #174EA6;\n",
              "  }\n",
              "\n",
              "  [theme=dark] .colab-df-quickchart {\n",
              "    background-color: #3B4455;\n",
              "    fill: #D2E3FC;\n",
              "  }\n",
              "\n",
              "  [theme=dark] .colab-df-quickchart:hover {\n",
              "    background-color: #434B5C;\n",
              "    box-shadow: 0px 1px 3px 1px rgba(0, 0, 0, 0.15);\n",
              "    filter: drop-shadow(0px 1px 2px rgba(0, 0, 0, 0.3));\n",
              "    fill: #FFFFFF;\n",
              "  }\n",
              "</style>\n",
              "\n",
              "    <script>\n",
              "      async function quickchart(key) {\n",
              "        const containerElement = document.querySelector('#' + key);\n",
              "        const charts = await google.colab.kernel.invokeFunction(\n",
              "            'suggestCharts', [key], {});\n",
              "      }\n",
              "    </script>\n",
              "\n",
              "      <script>\n",
              "\n",
              "function displayQuickchartButton(domScope) {\n",
              "  let quickchartButtonEl =\n",
              "    domScope.querySelector('#df-c4f46aac-b0ad-48a4-9a90-4b2fb50502e1 button.colab-df-quickchart');\n",
              "  quickchartButtonEl.style.display =\n",
              "    google.colab.kernel.accessAllowed ? 'block' : 'none';\n",
              "}\n",
              "\n",
              "        displayQuickchartButton(document);\n",
              "      </script>\n",
              "      <style>\n",
              "    .colab-df-container {\n",
              "      display:flex;\n",
              "      flex-wrap:wrap;\n",
              "      gap: 12px;\n",
              "    }\n",
              "\n",
              "    .colab-df-convert {\n",
              "      background-color: #E8F0FE;\n",
              "      border: none;\n",
              "      border-radius: 50%;\n",
              "      cursor: pointer;\n",
              "      display: none;\n",
              "      fill: #1967D2;\n",
              "      height: 32px;\n",
              "      padding: 0 0 0 0;\n",
              "      width: 32px;\n",
              "    }\n",
              "\n",
              "    .colab-df-convert:hover {\n",
              "      background-color: #E2EBFA;\n",
              "      box-shadow: 0px 1px 2px rgba(60, 64, 67, 0.3), 0px 1px 3px 1px rgba(60, 64, 67, 0.15);\n",
              "      fill: #174EA6;\n",
              "    }\n",
              "\n",
              "    [theme=dark] .colab-df-convert {\n",
              "      background-color: #3B4455;\n",
              "      fill: #D2E3FC;\n",
              "    }\n",
              "\n",
              "    [theme=dark] .colab-df-convert:hover {\n",
              "      background-color: #434B5C;\n",
              "      box-shadow: 0px 1px 3px 1px rgba(0, 0, 0, 0.15);\n",
              "      filter: drop-shadow(0px 1px 2px rgba(0, 0, 0, 0.3));\n",
              "      fill: #FFFFFF;\n",
              "    }\n",
              "  </style>\n",
              "\n",
              "      <script>\n",
              "        const buttonEl =\n",
              "          document.querySelector('#df-46be716e-568f-423a-99dc-0e90c83a5916 button.colab-df-convert');\n",
              "        buttonEl.style.display =\n",
              "          google.colab.kernel.accessAllowed ? 'block' : 'none';\n",
              "\n",
              "        async function convertToInteractive(key) {\n",
              "          const element = document.querySelector('#df-46be716e-568f-423a-99dc-0e90c83a5916');\n",
              "          const dataTable =\n",
              "            await google.colab.kernel.invokeFunction('convertToInteractive',\n",
              "                                                     [key], {});\n",
              "          if (!dataTable) return;\n",
              "\n",
              "          const docLinkHtml = 'Like what you see? Visit the ' +\n",
              "            '<a target=\"_blank\" href=https://colab.research.google.com/notebooks/data_table.ipynb>data table notebook</a>'\n",
              "            + ' to learn more about interactive tables.';\n",
              "          element.innerHTML = '';\n",
              "          dataTable['output_type'] = 'display_data';\n",
              "          await google.colab.output.renderOutput(dataTable, element);\n",
              "          const docLink = document.createElement('div');\n",
              "          docLink.innerHTML = docLinkHtml;\n",
              "          element.appendChild(docLink);\n",
              "        }\n",
              "      </script>\n",
              "    </div>\n",
              "  </div>\n"
            ]
          },
          "metadata": {},
          "execution_count": 3
        }
      ]
    },
    {
      "cell_type": "code",
      "source": [
        "na_columns = loan_data.isna().sum().loc[lambda x : x > 0]"
      ],
      "metadata": {
        "id": "orLsx3hffWPr"
      },
      "execution_count": 4,
      "outputs": []
    },
    {
      "cell_type": "markdown",
      "source": [
        "**Data cleaning**"
      ],
      "metadata": {
        "id": "gdO-zCM2FuTH"
      }
    },
    {
      "cell_type": "markdown",
      "source": [
        "Looking at the data, some columns seems to have NA values. Lets check how many columns has all null values and delete them"
      ],
      "metadata": {
        "id": "PnA-l09gFRxM"
      }
    },
    {
      "cell_type": "code",
      "source": [
        "len(na_columns.loc[lambda x : x == 39717])"
      ],
      "metadata": {
        "id": "ztvAsz_Do1eG",
        "colab": {
          "base_uri": "https://localhost:8080/"
        },
        "outputId": "54ab0628-0134-4a42-bdd3-9c2dd6970b3d"
      },
      "execution_count": 5,
      "outputs": [
        {
          "output_type": "execute_result",
          "data": {
            "text/plain": [
              "54"
            ]
          },
          "metadata": {},
          "execution_count": 5
        }
      ]
    },
    {
      "cell_type": "code",
      "source": [
        "with pd.option_context('display.max_rows', None, 'display.max_columns', None):\n",
        "    print(na_columns.sort_values(ascending=True))"
      ],
      "metadata": {
        "id": "DPtOV7-4g8FC",
        "colab": {
          "base_uri": "https://localhost:8080/"
        },
        "outputId": "b0401bae-b0ee-494d-946e-b3dc0a65914a"
      },
      "execution_count": 6,
      "outputs": [
        {
          "output_type": "stream",
          "name": "stdout",
          "text": [
            "last_credit_pull_d                    2\n",
            "title                                11\n",
            "tax_liens                            39\n",
            "revol_util                           50\n",
            "collections_12_mths_ex_med           56\n",
            "chargeoff_within_12_mths             56\n",
            "last_pymnt_d                         71\n",
            "pub_rec_bankruptcies                697\n",
            "emp_length                         1075\n",
            "emp_title                          2459\n",
            "desc                              12940\n",
            "mths_since_last_delinq            25682\n",
            "mths_since_last_record            36931\n",
            "next_pymnt_d                      38577\n",
            "num_actv_bc_tl                    39717\n",
            "num_actv_rev_tl                   39717\n",
            "num_bc_sats                       39717\n",
            "num_accts_ever_120_pd             39717\n",
            "mort_acc                          39717\n",
            "mths_since_recent_inq             39717\n",
            "mths_since_recent_bc_dlq          39717\n",
            "mths_since_recent_bc              39717\n",
            "num_bc_tl                         39717\n",
            "mths_since_recent_revol_delinq    39717\n",
            "num_il_tl                         39717\n",
            "num_tl_30dpd                      39717\n",
            "num_rev_accts                     39717\n",
            "num_rev_tl_bal_gt_0               39717\n",
            "num_sats                          39717\n",
            "num_tl_120dpd_2m                  39717\n",
            "mo_sin_rcnt_tl                    39717\n",
            "num_tl_90g_dpd_24m                39717\n",
            "num_tl_op_past_12m                39717\n",
            "pct_tl_nvr_dlq                    39717\n",
            "percent_bc_gt_75                  39717\n",
            "tot_hi_cred_lim                   39717\n",
            "total_bal_ex_mort                 39717\n",
            "num_op_rev_tl                     39717\n",
            "mo_sin_rcnt_rev_tl_op             39717\n",
            "avg_cur_bal                       39717\n",
            "mo_sin_old_il_acct                39717\n",
            "mths_since_last_major_derog       39717\n",
            "annual_inc_joint                  39717\n",
            "dti_joint                         39717\n",
            "verification_status_joint         39717\n",
            "tot_coll_amt                      39717\n",
            "tot_cur_bal                       39717\n",
            "open_acc_6m                       39717\n",
            "open_il_6m                        39717\n",
            "open_il_12m                       39717\n",
            "open_il_24m                       39717\n",
            "mths_since_rcnt_il                39717\n",
            "total_bal_il                      39717\n",
            "il_util                           39717\n",
            "open_rv_12m                       39717\n",
            "open_rv_24m                       39717\n",
            "max_bal_bc                        39717\n",
            "all_util                          39717\n",
            "total_rev_hi_lim                  39717\n",
            "inq_fi                            39717\n",
            "total_cu_tl                       39717\n",
            "inq_last_12m                      39717\n",
            "acc_open_past_24mths              39717\n",
            "total_bc_limit                    39717\n",
            "bc_open_to_buy                    39717\n",
            "bc_util                           39717\n",
            "mo_sin_old_rev_tl_op              39717\n",
            "total_il_high_credit_limit        39717\n",
            "dtype: int64\n"
          ]
        }
      ]
    },
    {
      "cell_type": "code",
      "source": [
        "loan_data.shape"
      ],
      "metadata": {
        "id": "I92RB24Mf3Nh",
        "colab": {
          "base_uri": "https://localhost:8080/"
        },
        "outputId": "766cca60-b8c7-43c4-a975-e9f3f8d80e49"
      },
      "execution_count": 7,
      "outputs": [
        {
          "output_type": "execute_result",
          "data": {
            "text/plain": [
              "(39717, 111)"
            ]
          },
          "metadata": {},
          "execution_count": 7
        }
      ]
    },
    {
      "cell_type": "markdown",
      "source": [
        "**Remove columns which has all null values**"
      ],
      "metadata": {
        "id": "2ZX_C5O6tcbG"
      }
    },
    {
      "cell_type": "code",
      "source": [
        "loan_data = loan_data.dropna(how='all',axis=1)\n",
        "loan_data.shape"
      ],
      "metadata": {
        "id": "cqSs_XWdi_qL",
        "colab": {
          "base_uri": "https://localhost:8080/"
        },
        "outputId": "edbc0c7e-079f-45df-e29b-9bca31fc11b0"
      },
      "execution_count": 8,
      "outputs": [
        {
          "output_type": "execute_result",
          "data": {
            "text/plain": [
              "(39717, 57)"
            ]
          },
          "metadata": {},
          "execution_count": 8
        }
      ]
    },
    {
      "cell_type": "code",
      "source": [
        "loan_data.isna().sum().loc[lambda x : x > 0]"
      ],
      "metadata": {
        "id": "CexZgac6klEN",
        "colab": {
          "base_uri": "https://localhost:8080/"
        },
        "outputId": "c82cde25-115a-4257-bcab-8c2188d64dc1"
      },
      "execution_count": 9,
      "outputs": [
        {
          "output_type": "execute_result",
          "data": {
            "text/plain": [
              "emp_title                      2459\n",
              "emp_length                     1075\n",
              "desc                          12940\n",
              "title                            11\n",
              "mths_since_last_delinq        25682\n",
              "mths_since_last_record        36931\n",
              "revol_util                       50\n",
              "last_pymnt_d                     71\n",
              "next_pymnt_d                  38577\n",
              "last_credit_pull_d                2\n",
              "collections_12_mths_ex_med       56\n",
              "chargeoff_within_12_mths         56\n",
              "pub_rec_bankruptcies            697\n",
              "tax_liens                        39\n",
              "dtype: int64"
            ]
          },
          "metadata": {},
          "execution_count": 9
        }
      ]
    },
    {
      "cell_type": "markdown",
      "source": [
        "**Analysing emp_title column. fill the empty values with empty space**"
      ],
      "metadata": {
        "id": "Gd01ixWrGAux"
      }
    },
    {
      "cell_type": "code",
      "source": [
        "loan_data['emp_title'].info()"
      ],
      "metadata": {
        "id": "P4BBTJzT6PGJ",
        "colab": {
          "base_uri": "https://localhost:8080/"
        },
        "outputId": "b3675c2f-526c-42c0-ac82-14c1a307dd93"
      },
      "execution_count": 10,
      "outputs": [
        {
          "output_type": "stream",
          "name": "stdout",
          "text": [
            "<class 'pandas.core.series.Series'>\n",
            "RangeIndex: 39717 entries, 0 to 39716\n",
            "Series name: emp_title\n",
            "Non-Null Count  Dtype \n",
            "--------------  ----- \n",
            "37258 non-null  object\n",
            "dtypes: object(1)\n",
            "memory usage: 310.4+ KB\n"
          ]
        }
      ]
    },
    {
      "cell_type": "code",
      "source": [
        "loan_data['emp_title'].value_counts()"
      ],
      "metadata": {
        "id": "nCHq9qU07eYQ",
        "colab": {
          "base_uri": "https://localhost:8080/"
        },
        "outputId": "1c271411-b63f-4dd5-8e21-bd9ad9be5df2"
      },
      "execution_count": 11,
      "outputs": [
        {
          "output_type": "execute_result",
          "data": {
            "text/plain": [
              "US Army                              134\n",
              "Bank of America                      109\n",
              "IBM                                   66\n",
              "AT&T                                  59\n",
              "Kaiser Permanente                     56\n",
              "                                    ... \n",
              "Community College of Philadelphia      1\n",
              "AMEC                                   1\n",
              "lee county sheriff                     1\n",
              "Bacon County Board of Education        1\n",
              "Evergreen Center                       1\n",
              "Name: emp_title, Length: 28820, dtype: int64"
            ]
          },
          "metadata": {},
          "execution_count": 11
        }
      ]
    },
    {
      "cell_type": "code",
      "source": [
        "loan_data['emp_title'] = loan_data['emp_title'].fillna('')"
      ],
      "metadata": {
        "id": "_wObgknh78_s"
      },
      "execution_count": 12,
      "outputs": []
    },
    {
      "cell_type": "markdown",
      "source": [
        "**Converting the column type to string**"
      ],
      "metadata": {
        "id": "uZlcSDUwGKu4"
      }
    },
    {
      "cell_type": "code",
      "source": [
        "loan_data['emp_title'] = loan_data['emp_title'].astype('string')\n",
        "loan_data['emp_title'].info()"
      ],
      "metadata": {
        "id": "aTo-EYU38Thn",
        "colab": {
          "base_uri": "https://localhost:8080/"
        },
        "outputId": "9d70ebd0-eea3-4b94-d462-be05d784a5fd"
      },
      "execution_count": 13,
      "outputs": [
        {
          "output_type": "stream",
          "name": "stdout",
          "text": [
            "<class 'pandas.core.series.Series'>\n",
            "RangeIndex: 39717 entries, 0 to 39716\n",
            "Series name: emp_title\n",
            "Non-Null Count  Dtype \n",
            "--------------  ----- \n",
            "39717 non-null  string\n",
            "dtypes: string(1)\n",
            "memory usage: 310.4 KB\n"
          ]
        }
      ]
    },
    {
      "cell_type": "markdown",
      "source": [
        "**Int_rate column has % in text. We need to remove it**"
      ],
      "metadata": {
        "id": "LubL9ACMuPJ6"
      }
    },
    {
      "cell_type": "code",
      "source": [
        "loan_data['int_rate'].apply(lambda x : x.replace('%',''))"
      ],
      "metadata": {
        "id": "Et3j_ana9Jqe",
        "colab": {
          "base_uri": "https://localhost:8080/"
        },
        "outputId": "eea15e71-3061-46f1-9277-d72afad16d35"
      },
      "execution_count": 14,
      "outputs": [
        {
          "output_type": "execute_result",
          "data": {
            "text/plain": [
              "0        10.65\n",
              "1        15.27\n",
              "2        15.96\n",
              "3        13.49\n",
              "4        12.69\n",
              "         ...  \n",
              "39712     8.07\n",
              "39713    10.28\n",
              "39714     8.07\n",
              "39715     7.43\n",
              "39716    13.75\n",
              "Name: int_rate, Length: 39717, dtype: object"
            ]
          },
          "metadata": {},
          "execution_count": 14
        }
      ]
    },
    {
      "cell_type": "code",
      "source": [
        "loan_data['int_rate'] = loan_data['int_rate'].apply(lambda x : x.replace('%',''))"
      ],
      "metadata": {
        "id": "RkCeEjJdvMRq"
      },
      "execution_count": 15,
      "outputs": []
    },
    {
      "cell_type": "markdown",
      "source": [
        "**Set int_rate column dtype to float**"
      ],
      "metadata": {
        "id": "dVpirZKDvusa"
      }
    },
    {
      "cell_type": "code",
      "source": [
        "loan_data['int_rate'] = loan_data['int_rate'].astype('float')\n",
        "loan_data['int_rate'].info()"
      ],
      "metadata": {
        "id": "ERfChKjVv050",
        "colab": {
          "base_uri": "https://localhost:8080/"
        },
        "outputId": "caa44417-3bbe-44ea-95da-510407a6431c"
      },
      "execution_count": 16,
      "outputs": [
        {
          "output_type": "stream",
          "name": "stdout",
          "text": [
            "<class 'pandas.core.series.Series'>\n",
            "RangeIndex: 39717 entries, 0 to 39716\n",
            "Series name: int_rate\n",
            "Non-Null Count  Dtype  \n",
            "--------------  -----  \n",
            "39717 non-null  float64\n",
            "dtypes: float64(1)\n",
            "memory usage: 310.4 KB\n"
          ]
        }
      ]
    },
    {
      "cell_type": "markdown",
      "source": [
        "**It seems pymnt_plan has only one value 'n'. Lets check**"
      ],
      "metadata": {
        "id": "1ExvoOqqxIv9"
      }
    },
    {
      "cell_type": "code",
      "source": [
        "loan_data['pymnt_plan'].value_counts()"
      ],
      "metadata": {
        "id": "b1_MnE93xIPp",
        "colab": {
          "base_uri": "https://localhost:8080/"
        },
        "outputId": "5984e862-0b0b-4057-ebdf-1d747caa1955"
      },
      "execution_count": 17,
      "outputs": [
        {
          "output_type": "execute_result",
          "data": {
            "text/plain": [
              "n    39717\n",
              "Name: pymnt_plan, dtype: int64"
            ]
          },
          "metadata": {},
          "execution_count": 17
        }
      ]
    },
    {
      "cell_type": "markdown",
      "source": [
        "**Removing pymnt_plan column, since it will not help us in analysing data**"
      ],
      "metadata": {
        "id": "F6B-IR2bx9qq"
      }
    },
    {
      "cell_type": "code",
      "source": [
        "loan_data = loan_data.drop('pymnt_plan',axis=1)"
      ],
      "metadata": {
        "id": "Z5zzXvW3xZ-n"
      },
      "execution_count": 18,
      "outputs": []
    },
    {
      "cell_type": "code",
      "source": [
        "loan_data.columns"
      ],
      "metadata": {
        "id": "yPh71YiLyGZD",
        "colab": {
          "base_uri": "https://localhost:8080/"
        },
        "outputId": "348b0652-e028-4e2f-f9b9-cc049a7950d3"
      },
      "execution_count": 19,
      "outputs": [
        {
          "output_type": "execute_result",
          "data": {
            "text/plain": [
              "Index(['id', 'member_id', 'loan_amnt', 'funded_amnt', 'funded_amnt_inv',\n",
              "       'term', 'int_rate', 'installment', 'grade', 'sub_grade', 'emp_title',\n",
              "       'emp_length', 'home_ownership', 'annual_inc', 'verification_status',\n",
              "       'issue_d', 'loan_status', 'url', 'desc', 'purpose', 'title', 'zip_code',\n",
              "       'addr_state', 'dti', 'delinq_2yrs', 'earliest_cr_line',\n",
              "       'inq_last_6mths', 'mths_since_last_delinq', 'mths_since_last_record',\n",
              "       'open_acc', 'pub_rec', 'revol_bal', 'revol_util', 'total_acc',\n",
              "       'initial_list_status', 'out_prncp', 'out_prncp_inv', 'total_pymnt',\n",
              "       'total_pymnt_inv', 'total_rec_prncp', 'total_rec_int',\n",
              "       'total_rec_late_fee', 'recoveries', 'collection_recovery_fee',\n",
              "       'last_pymnt_d', 'last_pymnt_amnt', 'next_pymnt_d', 'last_credit_pull_d',\n",
              "       'collections_12_mths_ex_med', 'policy_code', 'application_type',\n",
              "       'acc_now_delinq', 'chargeoff_within_12_mths', 'delinq_amnt',\n",
              "       'pub_rec_bankruptcies', 'tax_liens'],\n",
              "      dtype='object')"
            ]
          },
          "metadata": {},
          "execution_count": 19
        }
      ]
    },
    {
      "cell_type": "markdown",
      "source": [
        "**url column just contains the https://lendingclub.com/browse/loanDetail.action?loan_id=[id]. We can remove this**"
      ],
      "metadata": {
        "id": "HwEbn_v42GsL"
      }
    },
    {
      "cell_type": "code",
      "source": [
        "loan_data = loan_data.drop('url',axis=1)"
      ],
      "metadata": {
        "id": "w501T9ae17L7"
      },
      "execution_count": 20,
      "outputs": []
    },
    {
      "cell_type": "code",
      "source": [
        "loan_data.shape"
      ],
      "metadata": {
        "id": "67jCCU0x2YDm",
        "colab": {
          "base_uri": "https://localhost:8080/"
        },
        "outputId": "765ecf03-9386-4a75-eacc-630f100eaeda"
      },
      "execution_count": 21,
      "outputs": [
        {
          "output_type": "execute_result",
          "data": {
            "text/plain": [
              "(39717, 55)"
            ]
          },
          "metadata": {},
          "execution_count": 21
        }
      ]
    },
    {
      "cell_type": "markdown",
      "source": [
        "**initial_list_status has only one value f. We can remove this column too**"
      ],
      "metadata": {
        "id": "UhMzcLJu3W-1"
      }
    },
    {
      "cell_type": "code",
      "source": [
        "loan_data['initial_list_status'].value_counts()"
      ],
      "metadata": {
        "id": "dzFiRtN33vGW",
        "colab": {
          "base_uri": "https://localhost:8080/"
        },
        "outputId": "b3a22d88-5bb3-4dd6-88a8-3a5fa70c9e31"
      },
      "execution_count": 22,
      "outputs": [
        {
          "output_type": "execute_result",
          "data": {
            "text/plain": [
              "f    39717\n",
              "Name: initial_list_status, dtype: int64"
            ]
          },
          "metadata": {},
          "execution_count": 22
        }
      ]
    },
    {
      "cell_type": "code",
      "source": [
        "loan_data = loan_data.drop('initial_list_status',axis=1)"
      ],
      "metadata": {
        "id": "KPr2q1KU3SRX"
      },
      "execution_count": 23,
      "outputs": []
    },
    {
      "cell_type": "markdown",
      "source": [
        "**Seems policy_code has only value 1. Lets check, if true lets delete it**"
      ],
      "metadata": {
        "id": "EXCDwShd4aDa"
      }
    },
    {
      "cell_type": "code",
      "source": [
        "loan_data['policy_code'].value_counts()"
      ],
      "metadata": {
        "id": "sBHeDYW34eDV",
        "colab": {
          "base_uri": "https://localhost:8080/"
        },
        "outputId": "5af59daa-1c22-4e32-f8ac-11e26831ffac"
      },
      "execution_count": 24,
      "outputs": [
        {
          "output_type": "execute_result",
          "data": {
            "text/plain": [
              "1    39717\n",
              "Name: policy_code, dtype: int64"
            ]
          },
          "metadata": {},
          "execution_count": 24
        }
      ]
    },
    {
      "cell_type": "code",
      "source": [
        "loan_data = loan_data.drop('policy_code',axis=1)"
      ],
      "metadata": {
        "id": "THOWqtzx4ogt"
      },
      "execution_count": 25,
      "outputs": []
    },
    {
      "cell_type": "markdown",
      "source": [
        "**collections_12_mths_ex_med column has only 0 or NA values. We can remove this column**"
      ],
      "metadata": {
        "id": "Rz27YpCw4nzd"
      }
    },
    {
      "cell_type": "code",
      "source": [
        "loan_data['collections_12_mths_ex_med'].value_counts()"
      ],
      "metadata": {
        "id": "BtsA2iPy47tG",
        "colab": {
          "base_uri": "https://localhost:8080/"
        },
        "outputId": "c4c0cf8b-da49-4161-8686-a2833ed98a19"
      },
      "execution_count": 26,
      "outputs": [
        {
          "output_type": "execute_result",
          "data": {
            "text/plain": [
              "0.0    39661\n",
              "Name: collections_12_mths_ex_med, dtype: int64"
            ]
          },
          "metadata": {},
          "execution_count": 26
        }
      ]
    },
    {
      "cell_type": "code",
      "source": [
        "loan_data = loan_data.drop('collections_12_mths_ex_med',axis=1)"
      ],
      "metadata": {
        "id": "lcuMUlLC5CE3"
      },
      "execution_count": 27,
      "outputs": []
    },
    {
      "cell_type": "markdown",
      "source": [
        "**application_type has only one value INDIVIDUAL. We can remove this column**"
      ],
      "metadata": {
        "id": "mbcHP2T45O-n"
      }
    },
    {
      "cell_type": "code",
      "source": [
        "loan_data['application_type'].value_counts()"
      ],
      "metadata": {
        "id": "rj4QX8TO5OsL",
        "colab": {
          "base_uri": "https://localhost:8080/"
        },
        "outputId": "629dd1cd-2453-4b51-8af3-b9092c7e3421"
      },
      "execution_count": 28,
      "outputs": [
        {
          "output_type": "execute_result",
          "data": {
            "text/plain": [
              "INDIVIDUAL    39717\n",
              "Name: application_type, dtype: int64"
            ]
          },
          "metadata": {},
          "execution_count": 28
        }
      ]
    },
    {
      "cell_type": "code",
      "source": [
        "loan_data = loan_data.drop('application_type',axis=1)"
      ],
      "metadata": {
        "id": "jgBcXAgy5a58"
      },
      "execution_count": 29,
      "outputs": []
    },
    {
      "cell_type": "code",
      "source": [
        "loan_data.shape"
      ],
      "metadata": {
        "id": "J4yapJ_W5ece",
        "colab": {
          "base_uri": "https://localhost:8080/"
        },
        "outputId": "9803185f-4fcb-42db-f6da-97c2878607e3"
      },
      "execution_count": 30,
      "outputs": [
        {
          "output_type": "execute_result",
          "data": {
            "text/plain": [
              "(39717, 51)"
            ]
          },
          "metadata": {},
          "execution_count": 30
        }
      ]
    },
    {
      "cell_type": "markdown",
      "source": [
        "**acc_now_delinq column has only one value 0. We can remove this column too.**"
      ],
      "metadata": {
        "id": "SSVUszlTHL3A"
      }
    },
    {
      "cell_type": "code",
      "source": [
        "loan_data['acc_now_delinq'].value_counts()"
      ],
      "metadata": {
        "id": "Q1fe5Lll5sxW",
        "colab": {
          "base_uri": "https://localhost:8080/"
        },
        "outputId": "bdcdcc3f-1252-4c9d-aef9-47131a1ad541"
      },
      "execution_count": 31,
      "outputs": [
        {
          "output_type": "execute_result",
          "data": {
            "text/plain": [
              "0    39717\n",
              "Name: acc_now_delinq, dtype: int64"
            ]
          },
          "metadata": {},
          "execution_count": 31
        }
      ]
    },
    {
      "cell_type": "code",
      "source": [
        "loan_data = loan_data.drop('acc_now_delinq',axis=1)"
      ],
      "metadata": {
        "id": "IJox3Kjn6IHf"
      },
      "execution_count": 32,
      "outputs": []
    },
    {
      "cell_type": "markdown",
      "source": [
        "**delinq_amnt column has only one value 0. We can remove this column too.**"
      ],
      "metadata": {
        "id": "ianl8_FK7YQo"
      }
    },
    {
      "cell_type": "code",
      "source": [
        "loan_data['delinq_amnt'].value_counts()"
      ],
      "metadata": {
        "id": "mfWYV7g97LhY",
        "colab": {
          "base_uri": "https://localhost:8080/"
        },
        "outputId": "f595fc1f-6bbd-48bb-a43f-036946ca32d4"
      },
      "execution_count": 33,
      "outputs": [
        {
          "output_type": "execute_result",
          "data": {
            "text/plain": [
              "0    39717\n",
              "Name: delinq_amnt, dtype: int64"
            ]
          },
          "metadata": {},
          "execution_count": 33
        }
      ]
    },
    {
      "cell_type": "code",
      "source": [
        "loan_data = loan_data.drop('delinq_amnt',axis=1)"
      ],
      "metadata": {
        "id": "e_eek0kI7VKC"
      },
      "execution_count": 34,
      "outputs": []
    },
    {
      "cell_type": "markdown",
      "source": [
        "**term column has values '36 months' and '60 months'. We can remove ' months' and convert the column type to integer.**"
      ],
      "metadata": {
        "id": "Txp381XkHhA4"
      }
    },
    {
      "cell_type": "code",
      "source": [
        "loan_data['term'].value_counts()"
      ],
      "metadata": {
        "id": "Ve7usVDPpAgB",
        "colab": {
          "base_uri": "https://localhost:8080/"
        },
        "outputId": "68549ef7-ddb9-4b47-dbbe-9c3eac4c1b62"
      },
      "execution_count": 35,
      "outputs": [
        {
          "output_type": "execute_result",
          "data": {
            "text/plain": [
              " 36 months    29096\n",
              " 60 months    10621\n",
              "Name: term, dtype: int64"
            ]
          },
          "metadata": {},
          "execution_count": 35
        }
      ]
    },
    {
      "cell_type": "code",
      "source": [
        "loan_data['term'] = loan_data['term'].apply(lambda x : x.replace(' months',''))"
      ],
      "metadata": {
        "id": "uvchZwBLohtg"
      },
      "execution_count": 36,
      "outputs": []
    },
    {
      "cell_type": "code",
      "source": [
        "loan_data['term'].describe()"
      ],
      "metadata": {
        "colab": {
          "base_uri": "https://localhost:8080/"
        },
        "id": "RgzrbQEEKI4f",
        "outputId": "bc45ae6e-ee1b-4de9-ace0-1eb2de840b68"
      },
      "execution_count": 37,
      "outputs": [
        {
          "output_type": "execute_result",
          "data": {
            "text/plain": [
              "count     39717\n",
              "unique        2\n",
              "top          36\n",
              "freq      29096\n",
              "Name: term, dtype: object"
            ]
          },
          "metadata": {},
          "execution_count": 37
        }
      ]
    },
    {
      "cell_type": "markdown",
      "source": [
        "**All id and member_id values are unique, these columns are not useful for us in the analysis**"
      ],
      "metadata": {
        "id": "b8CQb4kiJcx6"
      }
    },
    {
      "cell_type": "code",
      "source": [
        "len(loan_data.id.unique())"
      ],
      "metadata": {
        "colab": {
          "base_uri": "https://localhost:8080/"
        },
        "id": "m66agX9LI586",
        "outputId": "defd6226-7298-4659-ac9b-842466473356"
      },
      "execution_count": 38,
      "outputs": [
        {
          "output_type": "execute_result",
          "data": {
            "text/plain": [
              "39717"
            ]
          },
          "metadata": {},
          "execution_count": 38
        }
      ]
    },
    {
      "cell_type": "code",
      "source": [
        "len(loan_data.member_id.unique())"
      ],
      "metadata": {
        "colab": {
          "base_uri": "https://localhost:8080/"
        },
        "id": "PXoLEJq3JYvk",
        "outputId": "0b04cd2b-af64-4ad5-d884-2803a5e6b9ff"
      },
      "execution_count": 39,
      "outputs": [
        {
          "output_type": "execute_result",
          "data": {
            "text/plain": [
              "39717"
            ]
          },
          "metadata": {},
          "execution_count": 39
        }
      ]
    },
    {
      "cell_type": "code",
      "source": [
        "loan_data = loan_data.drop(['id','member_id'],axis=1)"
      ],
      "metadata": {
        "id": "B10QlLQIJwHq"
      },
      "execution_count": 40,
      "outputs": []
    },
    {
      "cell_type": "markdown",
      "source": [
        "**tax_liens has only a value of 0, so we can remove this column. Also, zip_code will not be useful in our analysis. we can dro this column**"
      ],
      "metadata": {
        "id": "Qdtc561HMHW0"
      }
    },
    {
      "cell_type": "code",
      "source": [
        "loan_data['tax_liens'].value_counts()"
      ],
      "metadata": {
        "colab": {
          "base_uri": "https://localhost:8080/"
        },
        "id": "OvmsZ7JvMIHu",
        "outputId": "8d32e660-4817-4a8e-c06a-70b234eb98d3"
      },
      "execution_count": 41,
      "outputs": [
        {
          "output_type": "execute_result",
          "data": {
            "text/plain": [
              "0.0    39678\n",
              "Name: tax_liens, dtype: int64"
            ]
          },
          "metadata": {},
          "execution_count": 41
        }
      ]
    },
    {
      "cell_type": "code",
      "source": [
        "loan_data = loan_data.drop(['tax_liens','zip_code'],axis=1)"
      ],
      "metadata": {
        "id": "7u4iS1mcMWIO"
      },
      "execution_count": 42,
      "outputs": []
    },
    {
      "cell_type": "code",
      "source": [
        "loan_data.columns"
      ],
      "metadata": {
        "colab": {
          "base_uri": "https://localhost:8080/"
        },
        "id": "28JuWVxgI_q3",
        "outputId": "75df46a7-74f5-47d4-dd93-51575265206c"
      },
      "execution_count": 43,
      "outputs": [
        {
          "output_type": "execute_result",
          "data": {
            "text/plain": [
              "Index(['loan_amnt', 'funded_amnt', 'funded_amnt_inv', 'term', 'int_rate',\n",
              "       'installment', 'grade', 'sub_grade', 'emp_title', 'emp_length',\n",
              "       'home_ownership', 'annual_inc', 'verification_status', 'issue_d',\n",
              "       'loan_status', 'desc', 'purpose', 'title', 'addr_state', 'dti',\n",
              "       'delinq_2yrs', 'earliest_cr_line', 'inq_last_6mths',\n",
              "       'mths_since_last_delinq', 'mths_since_last_record', 'open_acc',\n",
              "       'pub_rec', 'revol_bal', 'revol_util', 'total_acc', 'out_prncp',\n",
              "       'out_prncp_inv', 'total_pymnt', 'total_pymnt_inv', 'total_rec_prncp',\n",
              "       'total_rec_int', 'total_rec_late_fee', 'recoveries',\n",
              "       'collection_recovery_fee', 'last_pymnt_d', 'last_pymnt_amnt',\n",
              "       'next_pymnt_d', 'last_credit_pull_d', 'chargeoff_within_12_mths',\n",
              "       'pub_rec_bankruptcies'],\n",
              "      dtype='object')"
            ]
          },
          "metadata": {},
          "execution_count": 43
        }
      ]
    },
    {
      "cell_type": "markdown",
      "source": [
        "Got to know of the DataFrame.var() which gives us the variation of the values in a column. This will help us in finding columns which only one value."
      ],
      "metadata": {
        "id": "YG_R6c1sNHI5"
      }
    },
    {
      "cell_type": "code",
      "source": [
        "loan_data.var()"
      ],
      "metadata": {
        "colab": {
          "base_uri": "https://localhost:8080/"
        },
        "id": "jsLkQ8clMcxd",
        "outputId": "d55b31e4-4b2d-460b-9b6c-b769739556c9"
      },
      "execution_count": 44,
      "outputs": [
        {
          "output_type": "execute_result",
          "data": {
            "text/plain": [
              "loan_amnt                   5.560194e+07\n",
              "funded_amnt                 5.165640e+07\n",
              "funded_amnt_inv             5.081481e+07\n",
              "int_rate                    1.387432e+01\n",
              "installment                 4.362871e+04\n",
              "annual_inc                  4.069645e+09\n",
              "dti                         4.460361e+01\n",
              "delinq_2yrs                 2.418786e-01\n",
              "inq_last_6mths              1.145369e+00\n",
              "mths_since_last_delinq      4.848830e+02\n",
              "mths_since_last_record      1.920414e+03\n",
              "open_acc                    1.936249e+01\n",
              "pub_rec                     5.626382e-02\n",
              "revol_bal                   2.523338e+08\n",
              "total_acc                   1.299990e+02\n",
              "out_prncp                   1.407547e+05\n",
              "out_prncp_inv               1.397447e+05\n",
              "total_pymnt                 8.175850e+07\n",
              "total_pymnt_inv             7.997139e+07\n",
              "total_rec_prncp             4.992160e+07\n",
              "total_rec_int               6.802248e+06\n",
              "total_rec_late_fee          5.314380e+01\n",
              "recoveries                  4.743694e+05\n",
              "collection_recovery_fee     2.210324e+04\n",
              "last_pymnt_amnt             1.977702e+07\n",
              "chargeoff_within_12_mths    0.000000e+00\n",
              "pub_rec_bankruptcies        4.174831e-02\n",
              "dtype: float64"
            ]
          },
          "metadata": {},
          "execution_count": 44
        }
      ]
    },
    {
      "cell_type": "markdown",
      "source": [
        "**chargeoff_within_12_mths has only 0 as value. We can remove this column**"
      ],
      "metadata": {
        "id": "R5hr0OgTPBi7"
      }
    },
    {
      "cell_type": "code",
      "source": [
        "loan_data = loan_data.drop(['chargeoff_within_12_mths'],axis=1)"
      ],
      "metadata": {
        "id": "9aJmv_HKPHzT"
      },
      "execution_count": 45,
      "outputs": []
    },
    {
      "cell_type": "code",
      "source": [
        "loan_data.shape"
      ],
      "metadata": {
        "id": "aRibEchfo6dw",
        "colab": {
          "base_uri": "https://localhost:8080/"
        },
        "outputId": "3a4053e6-ba0d-4310-9cdf-8d875f145a97"
      },
      "execution_count": 46,
      "outputs": [
        {
          "output_type": "execute_result",
          "data": {
            "text/plain": [
              "(39717, 44)"
            ]
          },
          "metadata": {},
          "execution_count": 46
        }
      ]
    },
    {
      "cell_type": "markdown",
      "source": [
        "**Even delinq_2yrs, pub_rec_bankruptcies and pub_rec has very low variance, we can remove these columns.**"
      ],
      "metadata": {
        "id": "dcOR_gNoRrAW"
      }
    },
    {
      "cell_type": "code",
      "source": [
        "loan_data['delinq_2yrs'].value_counts()"
      ],
      "metadata": {
        "colab": {
          "base_uri": "https://localhost:8080/"
        },
        "id": "rl_1qJykRbEo",
        "outputId": "b075a0a3-f490-4a2d-f65f-6cca1020b919"
      },
      "execution_count": 47,
      "outputs": [
        {
          "output_type": "execute_result",
          "data": {
            "text/plain": [
              "0     35405\n",
              "1      3303\n",
              "2       687\n",
              "3       220\n",
              "4        62\n",
              "5        22\n",
              "6        10\n",
              "7         4\n",
              "8         2\n",
              "9         1\n",
              "11        1\n",
              "Name: delinq_2yrs, dtype: int64"
            ]
          },
          "metadata": {},
          "execution_count": 47
        }
      ]
    },
    {
      "cell_type": "code",
      "source": [
        "loan_data['pub_rec'].value_counts()"
      ],
      "metadata": {
        "colab": {
          "base_uri": "https://localhost:8080/"
        },
        "id": "dJ_vEWH0RjaM",
        "outputId": "41b11dad-d54f-4c3c-d808-cdb191934951"
      },
      "execution_count": 48,
      "outputs": [
        {
          "output_type": "execute_result",
          "data": {
            "text/plain": [
              "0    37601\n",
              "1     2056\n",
              "2       51\n",
              "3        7\n",
              "4        2\n",
              "Name: pub_rec, dtype: int64"
            ]
          },
          "metadata": {},
          "execution_count": 48
        }
      ]
    },
    {
      "cell_type": "code",
      "source": [
        "loan_data['pub_rec_bankruptcies'].value_counts()"
      ],
      "metadata": {
        "colab": {
          "base_uri": "https://localhost:8080/"
        },
        "id": "ZuAhSbr3SP6R",
        "outputId": "0bb4c7b8-b6b2-4a2e-d19e-52747dca28b5"
      },
      "execution_count": 49,
      "outputs": [
        {
          "output_type": "execute_result",
          "data": {
            "text/plain": [
              "0.0    37339\n",
              "1.0     1674\n",
              "2.0        7\n",
              "Name: pub_rec_bankruptcies, dtype: int64"
            ]
          },
          "metadata": {},
          "execution_count": 49
        }
      ]
    },
    {
      "cell_type": "code",
      "source": [
        "loan_data = loan_data.drop(['delinq_2yrs','pub_rec','pub_rec_bankruptcies'],axis=1)"
      ],
      "metadata": {
        "id": "IvZCa4FFR2iC"
      },
      "execution_count": 50,
      "outputs": []
    },
    {
      "cell_type": "markdown",
      "source": [
        "desc has multi-line content. This will not help us in analysis. This can be deleted."
      ],
      "metadata": {
        "id": "sQmrTLp5Sqcp"
      }
    },
    {
      "cell_type": "code",
      "source": [
        "loan_data = loan_data.drop('desc',axis=1)"
      ],
      "metadata": {
        "id": "ENkP98f3S5Ug"
      },
      "execution_count": 51,
      "outputs": []
    },
    {
      "cell_type": "markdown",
      "source": [
        "title column has junk values. We can remove this column"
      ],
      "metadata": {
        "id": "_h50MwqTUMYt"
      }
    },
    {
      "cell_type": "code",
      "source": [
        "loan_data = loan_data.drop('title',axis=1)"
      ],
      "metadata": {
        "id": "7tjG_L9HUTj1"
      },
      "execution_count": 52,
      "outputs": []
    },
    {
      "cell_type": "code",
      "source": [
        "loan_data.isna().sum()"
      ],
      "metadata": {
        "colab": {
          "base_uri": "https://localhost:8080/"
        },
        "id": "5ecPkQp3sjZe",
        "outputId": "d47137a0-8967-4c50-8cf5-29a63621b433"
      },
      "execution_count": 53,
      "outputs": [
        {
          "output_type": "execute_result",
          "data": {
            "text/plain": [
              "loan_amnt                      0\n",
              "funded_amnt                    0\n",
              "funded_amnt_inv                0\n",
              "term                           0\n",
              "int_rate                       0\n",
              "installment                    0\n",
              "grade                          0\n",
              "sub_grade                      0\n",
              "emp_title                      0\n",
              "emp_length                  1075\n",
              "home_ownership                 0\n",
              "annual_inc                     0\n",
              "verification_status            0\n",
              "issue_d                        0\n",
              "loan_status                    0\n",
              "purpose                        0\n",
              "addr_state                     0\n",
              "dti                            0\n",
              "earliest_cr_line               0\n",
              "inq_last_6mths                 0\n",
              "mths_since_last_delinq     25682\n",
              "mths_since_last_record     36931\n",
              "open_acc                       0\n",
              "revol_bal                      0\n",
              "revol_util                    50\n",
              "total_acc                      0\n",
              "out_prncp                      0\n",
              "out_prncp_inv                  0\n",
              "total_pymnt                    0\n",
              "total_pymnt_inv                0\n",
              "total_rec_prncp                0\n",
              "total_rec_int                  0\n",
              "total_rec_late_fee             0\n",
              "recoveries                     0\n",
              "collection_recovery_fee        0\n",
              "last_pymnt_d                  71\n",
              "last_pymnt_amnt                0\n",
              "next_pymnt_d               38577\n",
              "last_credit_pull_d             2\n",
              "dtype: int64"
            ]
          },
          "metadata": {},
          "execution_count": 53
        }
      ]
    },
    {
      "cell_type": "markdown",
      "source": [
        "**mths_since_last_record, mths_since_last_delinq,next_pymnt_d  has around 33k null values. We can delete this column**"
      ],
      "metadata": {
        "id": "5WlNJBUTsTwP"
      }
    },
    {
      "cell_type": "code",
      "source": [
        "loan_data = loan_data.drop(['mths_since_last_record','mths_since_last_delinq','next_pymnt_d'],axis=1)"
      ],
      "metadata": {
        "id": "h1tGAcoXsq3b"
      },
      "execution_count": 54,
      "outputs": []
    },
    {
      "cell_type": "code",
      "source": [
        "loan_data.columns"
      ],
      "metadata": {
        "colab": {
          "base_uri": "https://localhost:8080/"
        },
        "id": "23EEO0xlPT4C",
        "outputId": "78940846-979a-4c82-feb9-0e76efd7554f"
      },
      "execution_count": 55,
      "outputs": [
        {
          "output_type": "execute_result",
          "data": {
            "text/plain": [
              "Index(['loan_amnt', 'funded_amnt', 'funded_amnt_inv', 'term', 'int_rate',\n",
              "       'installment', 'grade', 'sub_grade', 'emp_title', 'emp_length',\n",
              "       'home_ownership', 'annual_inc', 'verification_status', 'issue_d',\n",
              "       'loan_status', 'purpose', 'addr_state', 'dti', 'earliest_cr_line',\n",
              "       'inq_last_6mths', 'open_acc', 'revol_bal', 'revol_util', 'total_acc',\n",
              "       'out_prncp', 'out_prncp_inv', 'total_pymnt', 'total_pymnt_inv',\n",
              "       'total_rec_prncp', 'total_rec_int', 'total_rec_late_fee', 'recoveries',\n",
              "       'collection_recovery_fee', 'last_pymnt_d', 'last_pymnt_amnt',\n",
              "       'last_credit_pull_d'],\n",
              "      dtype='object')"
            ]
          },
          "metadata": {},
          "execution_count": 55
        }
      ]
    },
    {
      "cell_type": "markdown",
      "source": [
        "**Issue date doesn't correspond to customer's ability to pay loan. So we can remove earliest_cr_line and issue_d. Also emp_title has too many values and is not useful in analysis**\n",
        "\n",
        "*   issue_d - The month which the loan was funded. This info is not needed to issue future loans\n",
        "*   earliest_cr_line - The month the borrower's earliest reported credit line was opened\n",
        "\n",
        "\n",
        "\n",
        "### Post behavioural info\n",
        "\n",
        "Info in the below columns is related to the behaviour of the customer after taking the loan. This information is not useful for the analysis, since we cant predict the customer behaviour before giving the loan\n",
        "\n",
        "*   funded_amnt - The total amount committed to that loan at that point in time.\n",
        "*   funded_amnt_inv - The total amount committed by investors for that loan at that point in time.\n",
        "*   last_credit_pull_d - The most recent month LC pulled credit for this loan\n",
        "*   open_acc - This is no of pre-approved loans the customer has with the bank. This info is not needed, since if the customer already has preapproved loans, bank can already provide the loan.\n",
        "*   out_prncp - Remaining outstanding principal for total amount funded\n",
        "*   out_prncp_inv - This is similar info, not required for analysis\n",
        "*   recoveries - post charge off gross recovery\n",
        "*   revol_bal - Total credit revolving balance\n",
        "*   revol_util -Revolving line utilization rate, or the amount of credit the borrower is using relative to all available revolving credit.\n",
        "*   total_rec_int - Interest received to date\n",
        "*   total_rec_late_fee - Late fees received to date\n",
        "*   total_rec_prncp - Principal received to date\n",
        "*   inq_last_6mths - The number of inquiries in past 6 months (excluding auto and mortgage inquiries)\n",
        "*   last_pymnt_amnt - Last total payment amount received\n",
        "*   last_pymnt_d - Last month payment was received\n",
        "*   collection_recovery_fee - post charge off collection fee\n",
        "*   dti - A ratio calculated using the borrower’s total monthly debt payments on the total debt obligations, excluding mortgage and the requested LC loan, divided by the borrower’s self-reported monthly income.\n",
        "*   total_pymnt -\n",
        "*   total_pymnt_inv -\n",
        "*   total_acc -\n",
        "\n",
        "\n"
      ],
      "metadata": {
        "id": "WPeLxtXYYBf4"
      }
    },
    {
      "cell_type": "code",
      "source": [
        "loan_data = loan_data.drop(['last_credit_pull_d','issue_d','earliest_cr_line','funded_amnt','funded_amnt_inv','open_acc','out_prncp','out_prncp_inv','recoveries','revol_bal','revol_util','total_rec_int','total_rec_late_fee','total_rec_prncp','inq_last_6mths','last_pymnt_amnt','last_pymnt_d','collection_recovery_fee','dti','emp_title','total_pymnt','total_pymnt_inv','total_acc'],axis=1)"
      ],
      "metadata": {
        "id": "0ed8T37giyix"
      },
      "execution_count": 56,
      "outputs": []
    },
    {
      "cell_type": "code",
      "source": [
        "loan_data.shape"
      ],
      "metadata": {
        "colab": {
          "base_uri": "https://localhost:8080/"
        },
        "id": "OhKxKCJ-kNhI",
        "outputId": "04557b0e-f510-4aec-8130-b8223a3429bd"
      },
      "execution_count": 57,
      "outputs": [
        {
          "output_type": "execute_result",
          "data": {
            "text/plain": [
              "(39717, 13)"
            ]
          },
          "metadata": {},
          "execution_count": 57
        }
      ]
    },
    {
      "cell_type": "markdown",
      "source": [
        "**Types of remaining columns**\n",
        "\n",
        "\n",
        "---\n",
        "\n",
        "\n",
        "\n",
        "Sequential\n",
        "loan_amnt, annual_inc, ( can be considered as categorical)\n",
        "\n",
        "\n",
        "---\n",
        "\n",
        "\n",
        "\n",
        "Categorical\n",
        "\n",
        "Ordered\n",
        "grade,sub_grade,emp_length,loan_status\n",
        "\n",
        "Un-ordered\n",
        "Term,emp_title,home_ownership,verification_status,purpose,addr_state\n",
        "\n",
        "**Target column : loan_status  -- We need to findout which customers are likely to re-pay and who are like to default**"
      ],
      "metadata": {
        "id": "XTaNgQu2a4bm"
      }
    },
    {
      "cell_type": "markdown",
      "source": [
        "**Cleaning Rows**"
      ],
      "metadata": {
        "id": "k9RTjw_X7pHE"
      }
    },
    {
      "cell_type": "markdown",
      "source": [
        "If we look at loan_status we can analyse Fully Paid and Charged-off customers. But Current customers, we cannot analyse since they have not completed their term. So we can drop all the columns where loan_status is Current and copy to new dataframe loan_data_status"
      ],
      "metadata": {
        "id": "J9DHUD0-7ulx"
      }
    },
    {
      "cell_type": "code",
      "source": [
        "loan_data.loan_status.value_counts()"
      ],
      "metadata": {
        "colab": {
          "base_uri": "https://localhost:8080/"
        },
        "id": "ryU1eF2t8L1S",
        "outputId": "9eff92e8-0fd3-4feb-d88c-6294ed18fb42"
      },
      "execution_count": 58,
      "outputs": [
        {
          "output_type": "execute_result",
          "data": {
            "text/plain": [
              "Fully Paid     32950\n",
              "Charged Off     5627\n",
              "Current         1140\n",
              "Name: loan_status, dtype: int64"
            ]
          },
          "metadata": {},
          "execution_count": 58
        }
      ]
    },
    {
      "cell_type": "code",
      "source": [
        "loan_data_status = loan_data[loan_data['loan_status'] != 'Current']"
      ],
      "metadata": {
        "id": "Dsj3gFDI8cyz"
      },
      "execution_count": 59,
      "outputs": []
    },
    {
      "cell_type": "markdown",
      "source": [
        "**Converting the values of emp_length column**"
      ],
      "metadata": {
        "id": "xEX8YKAu9aFW"
      }
    },
    {
      "cell_type": "code",
      "source": [
        "loan_data_status.emp_length.value_counts()"
      ],
      "metadata": {
        "colab": {
          "base_uri": "https://localhost:8080/"
        },
        "id": "Duz3WCFn-XxM",
        "outputId": "abea8753-2e78-456d-f371-8ba3cec8eeda"
      },
      "execution_count": 60,
      "outputs": [
        {
          "output_type": "execute_result",
          "data": {
            "text/plain": [
              "10+ years    8488\n",
              "< 1 year     4508\n",
              "2 years      4291\n",
              "3 years      4012\n",
              "4 years      3342\n",
              "5 years      3194\n",
              "1 year       3169\n",
              "6 years      2168\n",
              "7 years      1711\n",
              "8 years      1435\n",
              "9 years      1226\n",
              "Name: emp_length, dtype: int64"
            ]
          },
          "metadata": {},
          "execution_count": 60
        }
      ]
    },
    {
      "cell_type": "code",
      "source": [
        "loan_data_status.emp_length.info()"
      ],
      "metadata": {
        "colab": {
          "base_uri": "https://localhost:8080/"
        },
        "id": "NE2Yt4le_6m-",
        "outputId": "672de9c8-a70e-4ca8-db4a-750b4e468f76"
      },
      "execution_count": 61,
      "outputs": [
        {
          "output_type": "stream",
          "name": "stdout",
          "text": [
            "<class 'pandas.core.series.Series'>\n",
            "Int64Index: 38577 entries, 0 to 39716\n",
            "Series name: emp_length\n",
            "Non-Null Count  Dtype \n",
            "--------------  ----- \n",
            "37544 non-null  object\n",
            "dtypes: object(1)\n",
            "memory usage: 602.8+ KB\n"
          ]
        }
      ]
    },
    {
      "cell_type": "code",
      "source": [
        "loan_data_status['emp_length'] = loan_data_status['emp_length'].fillna(0)\n",
        "loan_data_status.emp_length = loan_data_status.emp_length.apply(lambda x : str(x).replace('< 1 year','0').replace(' years','').replace(' year','').replace('+',''))\n",
        "loan_data_status.emp_length.value_counts()"
      ],
      "metadata": {
        "colab": {
          "base_uri": "https://localhost:8080/"
        },
        "id": "ut-QzkYl-uGW",
        "outputId": "f19f4ea6-420f-452a-c818-f4f5d0e2b6e7"
      },
      "execution_count": 62,
      "outputs": [
        {
          "output_type": "execute_result",
          "data": {
            "text/plain": [
              "10    8488\n",
              "0     5541\n",
              "2     4291\n",
              "3     4012\n",
              "4     3342\n",
              "5     3194\n",
              "1     3169\n",
              "6     2168\n",
              "7     1711\n",
              "8     1435\n",
              "9     1226\n",
              "Name: emp_length, dtype: int64"
            ]
          },
          "metadata": {},
          "execution_count": 62
        }
      ]
    },
    {
      "cell_type": "markdown",
      "source": [
        "**Set the dtype of the emp_length column to integer**"
      ],
      "metadata": {
        "id": "RHyjcLRkFY5E"
      }
    },
    {
      "cell_type": "code",
      "source": [
        "loan_data_status.emp_length = loan_data_status.emp_length.astype(int)\n",
        "loan_data_status.info()"
      ],
      "metadata": {
        "colab": {
          "base_uri": "https://localhost:8080/"
        },
        "id": "AlCdBvUdFlO5",
        "outputId": "ab2026ab-3565-4b51-8ea4-87609054045d"
      },
      "execution_count": 63,
      "outputs": [
        {
          "output_type": "stream",
          "name": "stdout",
          "text": [
            "<class 'pandas.core.frame.DataFrame'>\n",
            "Int64Index: 38577 entries, 0 to 39716\n",
            "Data columns (total 13 columns):\n",
            " #   Column               Non-Null Count  Dtype  \n",
            "---  ------               --------------  -----  \n",
            " 0   loan_amnt            38577 non-null  int64  \n",
            " 1   term                 38577 non-null  object \n",
            " 2   int_rate             38577 non-null  float64\n",
            " 3   installment          38577 non-null  float64\n",
            " 4   grade                38577 non-null  object \n",
            " 5   sub_grade            38577 non-null  object \n",
            " 6   emp_length           38577 non-null  int64  \n",
            " 7   home_ownership       38577 non-null  object \n",
            " 8   annual_inc           38577 non-null  float64\n",
            " 9   verification_status  38577 non-null  object \n",
            " 10  loan_status          38577 non-null  object \n",
            " 11  purpose              38577 non-null  object \n",
            " 12  addr_state           38577 non-null  object \n",
            "dtypes: float64(3), int64(2), object(8)\n",
            "memory usage: 4.1+ MB\n"
          ]
        }
      ]
    },
    {
      "cell_type": "markdown",
      "source": [
        "**Univariant Analysis**\n",
        "\n",
        "Check outliers in annual_inc column"
      ],
      "metadata": {
        "id": "OOODvfn9IBe4"
      }
    },
    {
      "cell_type": "code",
      "source": [
        "loan_data_status.annual_inc.describe()"
      ],
      "metadata": {
        "colab": {
          "base_uri": "https://localhost:8080/"
        },
        "id": "DbVK7b41xwYC",
        "outputId": "4c5e23d5-cfd2-401f-de25-359de3e84700"
      },
      "execution_count": 64,
      "outputs": [
        {
          "output_type": "execute_result",
          "data": {
            "text/plain": [
              "count    3.857700e+04\n",
              "mean     6.877797e+04\n",
              "std      6.421868e+04\n",
              "min      4.000000e+03\n",
              "25%      4.000000e+04\n",
              "50%      5.886800e+04\n",
              "75%      8.200000e+04\n",
              "max      6.000000e+06\n",
              "Name: annual_inc, dtype: float64"
            ]
          },
          "metadata": {},
          "execution_count": 64
        }
      ]
    },
    {
      "cell_type": "code",
      "source": [
        "sns.boxplot(loan_data_status.annual_inc)"
      ],
      "metadata": {
        "colab": {
          "base_uri": "https://localhost:8080/",
          "height": 462
        },
        "id": "yvnzVOcsFSkU",
        "outputId": "13949dd1-684a-4b60-a17f-23b4f2287053"
      },
      "execution_count": 65,
      "outputs": [
        {
          "output_type": "execute_result",
          "data": {
            "text/plain": [
              "<Axes: >"
            ]
          },
          "metadata": {},
          "execution_count": 65
        },
        {
          "output_type": "display_data",
          "data": {
            "text/plain": [
              "<Figure size 640x480 with 1 Axes>"
            ],
            "image/png": "[encoded data removed]"
          },
          "metadata": {}
        }
      ]
    },
    {
      "cell_type": "code",
      "source": [
        "loan_data_status = loan_data_status[loan_data_status['annual_inc'] < 1000000]"
      ],
      "metadata": {
        "id": "ZgIEKBo9Kma7"
      },
      "execution_count": 66,
      "outputs": []
    },
    {
      "cell_type": "markdown",
      "source": [
        "Boxplot shows the annual income above 1 million are outliers, so we can remove this data"
      ],
      "metadata": {
        "id": "7GMNT7rRJuOv"
      }
    },
    {
      "cell_type": "code",
      "source": [
        "sns.boxplot(loan_data_status['annual_inc'])"
      ],
      "metadata": {
        "colab": {
          "base_uri": "https://localhost:8080/",
          "height": 447
        },
        "id": "n_BolKaJJ5yn",
        "outputId": "57a5bf1d-c73f-4c85-86b3-1818e2e6b22f"
      },
      "execution_count": 67,
      "outputs": [
        {
          "output_type": "execute_result",
          "data": {
            "text/plain": [
              "<Axes: >"
            ]
          },
          "metadata": {},
          "execution_count": 67
        },
        {
          "output_type": "display_data",
          "data": {
            "text/plain": [
              "<Figure size 640x480 with 1 Axes>"
            ],
            "image/png": "[encoded data removed]"
          },
          "metadata": {}
        }
      ]
    },
    {
      "cell_type": "markdown",
      "source": [
        "**Boxplot still shows the annual income above 200 thousand are outliers, so we can remove this data**"
      ],
      "metadata": {
        "id": "41sr1QWZLb_W"
      }
    },
    {
      "cell_type": "code",
      "source": [
        "loan_data_status = loan_data_status[loan_data_status['annual_inc'] < 200000]"
      ],
      "metadata": {
        "id": "CJZt0Cp_Lj-L"
      },
      "execution_count": 68,
      "outputs": []
    },
    {
      "cell_type": "code",
      "source": [
        "sns.boxplot(loan_data_status['annual_inc'])"
      ],
      "metadata": {
        "colab": {
          "base_uri": "https://localhost:8080/",
          "height": 447
        },
        "id": "2TPdOjqPLosT",
        "outputId": "7f4dd08d-8bc4-4448-b622-0dda784eaca8"
      },
      "execution_count": 69,
      "outputs": [
        {
          "output_type": "execute_result",
          "data": {
            "text/plain": [
              "<Axes: >"
            ]
          },
          "metadata": {},
          "execution_count": 69
        },
        {
          "output_type": "display_data",
          "data": {
            "text/plain": [
              "<Figure size 640x480 with 1 Axes>"
            ],
            "image/png": "[encoded data removed]"
          },
          "metadata": {}
        }
      ]
    },
    {
      "cell_type": "code",
      "source": [
        "loan_data_status = loan_data_status[loan_data_status['annual_inc'] < 150000]\n",
        "sns.boxplot(loan_data_status['annual_inc'])"
      ],
      "metadata": {
        "colab": {
          "base_uri": "https://localhost:8080/",
          "height": 447
        },
        "id": "U8XOAwdzL1DA",
        "outputId": "b9d582d0-6abb-408d-974e-d9afa999a834"
      },
      "execution_count": 70,
      "outputs": [
        {
          "output_type": "execute_result",
          "data": {
            "text/plain": [
              "<Axes: >"
            ]
          },
          "metadata": {},
          "execution_count": 70
        },
        {
          "output_type": "display_data",
          "data": {
            "text/plain": [
              "<Figure size 640x480 with 1 Axes>"
            ],
            "image/png": "[encoded data removed]"
          },
          "metadata": {}
        }
      ]
    },
    {
      "cell_type": "markdown",
      "source": [
        "**Finally we have removed all the outliers based on annual_inc**"
      ],
      "metadata": {
        "id": "uXGKntLcytQX"
      }
    },
    {
      "cell_type": "code",
      "source": [
        "loan_data_status = loan_data_status[loan_data_status['annual_inc'] < 127000]\n",
        "sns.boxplot(loan_data_status['annual_inc'])"
      ],
      "metadata": {
        "colab": {
          "base_uri": "https://localhost:8080/",
          "height": 447
        },
        "id": "taYE-CB8MFaP",
        "outputId": "80aa0b9f-3952-4fc9-ef63-a7202fbf366b"
      },
      "execution_count": 71,
      "outputs": [
        {
          "output_type": "execute_result",
          "data": {
            "text/plain": [
              "<Axes: >"
            ]
          },
          "metadata": {},
          "execution_count": 71
        },
        {
          "output_type": "display_data",
          "data": {
            "text/plain": [
              "<Figure size 640x480 with 1 Axes>"
            ],
            "image/png": "[encoded data removed]"
          },
          "metadata": {}
        }
      ]
    },
    {
      "cell_type": "code",
      "source": [
        "loan_data_status['annual_inc_range'] = pd.cut(x=loan_data_status['annual_inc'],bins=[0,20000, 40000, 80000, 100000, 120000,140000])"
      ],
      "metadata": {
        "id": "EsR4jFXnZdc2"
      },
      "execution_count": 72,
      "outputs": []
    },
    {
      "cell_type": "code",
      "source": [
        "loan_data_status.head()"
      ],
      "metadata": {
        "colab": {
          "base_uri": "https://localhost:8080/",
          "height": 270
        },
        "id": "PvgH8lS9aOrQ",
        "outputId": "9a732a93-3baf-4466-c10a-57699b593cd7"
      },
      "execution_count": 73,
      "outputs": [
        {
          "output_type": "execute_result",
          "data": {
            "text/plain": [
              "   loan_amnt term  int_rate  installment grade sub_grade  emp_length  \\\n",
              "0       5000   36     10.65       162.87     B        B2          10   \n",
              "1       2500   60     15.27        59.83     C        C4           0   \n",
              "2       2400   36     15.96        84.33     C        C5          10   \n",
              "3      10000   36     13.49       339.31     C        C1          10   \n",
              "5       5000   36      7.90       156.46     A        A4           3   \n",
              "\n",
              "  home_ownership  annual_inc verification_status  loan_status         purpose  \\\n",
              "0           RENT     24000.0            Verified   Fully Paid     credit_card   \n",
              "1           RENT     30000.0     Source Verified  Charged Off             car   \n",
              "2           RENT     12252.0        Not Verified   Fully Paid  small_business   \n",
              "3           RENT     49200.0     Source Verified   Fully Paid           other   \n",
              "5           RENT     36000.0     Source Verified   Fully Paid         wedding   \n",
              "\n",
              "  addr_state annual_inc_range  \n",
              "0         AZ   (20000, 40000]  \n",
              "1         GA   (20000, 40000]  \n",
              "2         IL       (0, 20000]  \n",
              "3         CA   (40000, 80000]  \n",
              "5         AZ   (20000, 40000]  "
            ],
            "text/html": [
              "\n",
              "\n",
              "  <div id=\"df-6791d58b-dee3-4d8a-83be-625636b869da\">\n",
              "    <div class=\"colab-df-container\">\n",
              "      <div>\n",
              "<style scoped>\n",
              "    .dataframe tbody tr th:only-of-type {\n",
              "        vertical-align: middle;\n",
              "    }\n",
              "\n",
              "    .dataframe tbody tr th {\n",
              "        vertical-align: top;\n",
              "    }\n",
              "\n",
              "    .dataframe thead th {\n",
              "        text-align: right;\n",
              "    }\n",
              "</style>\n",
              "<table border=\"1\" class=\"dataframe\">\n",
              "  <thead>\n",
              "    <tr style=\"text-align: right;\">\n",
              "      <th></th>\n",
              "      <th>loan_amnt</th>\n",
              "      <th>term</th>\n",
              "      <th>int_rate</th>\n",
              "      <th>installment</th>\n",
              "      <th>grade</th>\n",
              "      <th>sub_grade</th>\n",
              "      <th>emp_length</th>\n",
              "      <th>home_ownership</th>\n",
              "      <th>annual_inc</th>\n",
              "      <th>verification_status</th>\n",
              "      <th>loan_status</th>\n",
              "      <th>purpose</th>\n",
              "      <th>addr_state</th>\n",
              "      <th>annual_inc_range</th>\n",
              "    </tr>\n",
              "  </thead>\n",
              "  <tbody>\n",
              "    <tr>\n",
              "      <th>0</th>\n",
              "      <td>5000</td>\n",
              "      <td>36</td>\n",
              "      <td>10.65</td>\n",
              "      <td>162.87</td>\n",
              "      <td>B</td>\n",
              "      <td>B2</td>\n",
              "      <td>10</td>\n",
              "      <td>RENT</td>\n",
              "      <td>24000.0</td>\n",
              "      <td>Verified</td>\n",
              "      <td>Fully Paid</td>\n",
              "      <td>credit_card</td>\n",
              "      <td>AZ</td>\n",
              "      <td>(20000, 40000]</td>\n",
              "    </tr>\n",
              "    <tr>\n",
              "      <th>1</th>\n",
              "      <td>2500</td>\n",
              "      <td>60</td>\n",
              "      <td>15.27</td>\n",
              "      <td>59.83</td>\n",
              "      <td>C</td>\n",
              "      <td>C4</td>\n",
              "      <td>0</td>\n",
              "      <td>RENT</td>\n",
              "      <td>30000.0</td>\n",
              "      <td>Source Verified</td>\n",
              "      <td>Charged Off</td>\n",
              "      <td>car</td>\n",
              "      <td>GA</td>\n",
              "      <td>(20000, 40000]</td>\n",
              "    </tr>\n",
              "    <tr>\n",
              "      <th>2</th>\n",
              "      <td>2400</td>\n",
              "      <td>36</td>\n",
              "      <td>15.96</td>\n",
              "      <td>84.33</td>\n",
              "      <td>C</td>\n",
              "      <td>C5</td>\n",
              "      <td>10</td>\n",
              "      <td>RENT</td>\n",
              "      <td>12252.0</td>\n",
              "      <td>Not Verified</td>\n",
              "      <td>Fully Paid</td>\n",
              "      <td>small_business</td>\n",
              "      <td>IL</td>\n",
              "      <td>(0, 20000]</td>\n",
              "    </tr>\n",
              "    <tr>\n",
              "      <th>3</th>\n",
              "      <td>10000</td>\n",
              "      <td>36</td>\n",
              "      <td>13.49</td>\n",
              "      <td>339.31</td>\n",
              "      <td>C</td>\n",
              "      <td>C1</td>\n",
              "      <td>10</td>\n",
              "      <td>RENT</td>\n",
              "      <td>49200.0</td>\n",
              "      <td>Source Verified</td>\n",
              "      <td>Fully Paid</td>\n",
              "      <td>other</td>\n",
              "      <td>CA</td>\n",
              "      <td>(40000, 80000]</td>\n",
              "    </tr>\n",
              "    <tr>\n",
              "      <th>5</th>\n",
              "      <td>5000</td>\n",
              "      <td>36</td>\n",
              "      <td>7.90</td>\n",
              "      <td>156.46</td>\n",
              "      <td>A</td>\n",
              "      <td>A4</td>\n",
              "      <td>3</td>\n",
              "      <td>RENT</td>\n",
              "      <td>36000.0</td>\n",
              "      <td>Source Verified</td>\n",
              "      <td>Fully Paid</td>\n",
              "      <td>wedding</td>\n",
              "      <td>AZ</td>\n",
              "      <td>(20000, 40000]</td>\n",
              "    </tr>\n",
              "  </tbody>\n",
              "</table>\n",
              "</div>\n",
              "      <button class=\"colab-df-convert\" onclick=\"convertToInteractive('df-6791d58b-dee3-4d8a-83be-625636b869da')\"\n",
              "              title=\"Convert this dataframe to an interactive table.\"\n",
              "              style=\"display:none;\">\n",
              "\n",
              "  <svg xmlns=\"http://www.w3.org/2000/svg\" height=\"24px\"viewBox=\"0 0 24 24\"\n",
              "       width=\"24px\">\n",
              "    <path d=\"M0 0h24v24H0V0z\" fill=\"none\"/>\n",
              "    <path d=\"M18.56 5.44l.94 2.06.94-2.06 2.06-.94-2.06-.94-.94-2.06-.94 2.06-2.06.94zm-11 1L8.5 8.5l.94-2.06 2.06-.94-2.06-.94L8.5 2.5l-.94 2.06-2.06.94zm10 10l.94 2.06.94-2.06 2.06-.94-2.06-.94-.94-2.06-.94 2.06-2.06.94z\"/><path d=\"M17.41 7.96l-1.37-1.37c-.4-.4-.92-.59-1.43-.59-.52 0-1.04.2-1.43.59L10.3 9.45l-7.72 7.72c-.78.78-.78 2.05 0 2.83L4 21.41c.39.39.9.59 1.41.59.51 0 1.02-.2 1.41-.59l7.78-7.78 2.81-2.81c.8-.78.8-2.07 0-2.86zM5.41 20L4 18.59l7.72-7.72 1.47 1.35L5.41 20z\"/>\n",
              "  </svg>\n",
              "      </button>\n",
              "\n",
              "\n",
              "\n",
              "    <div id=\"df-ea845be8-211b-4852-9742-f51a8b1583a1\">\n",
              "      <button class=\"colab-df-quickchart\" onclick=\"quickchart('df-ea845be8-211b-4852-9742-f51a8b1583a1')\"\n",
              "              title=\"Suggest charts.\"\n",
              "              style=\"display:none;\">\n",
              "\n",
              "<svg xmlns=\"http://www.w3.org/2000/svg\" height=\"24px\"viewBox=\"0 0 24 24\"\n",
              "     width=\"24px\">\n",
              "    <g>\n",
              "        <path d=\"M19 3H5c-1.1 0-2 .9-2 2v14c0 1.1.9 2 2 2h14c1.1 0 2-.9 2-2V5c0-1.1-.9-2-2-2zM9 17H7v-7h2v7zm4 0h-2V7h2v10zm4 0h-2v-4h2v4z\"/>\n",
              "    </g>\n",
              "</svg>\n",
              "      </button>\n",
              "    </div>\n",
              "\n",
              "<style>\n",
              "  .colab-df-quickchart {\n",
              "    background-color: #E8F0FE;\n",
              "    border: none;\n",
              "    border-radius: 50%;\n",
              "    cursor: pointer;\n",
              "    display: none;\n",
              "    fill: #1967D2;\n",
              "    height: 32px;\n",
              "    padding: 0 0 0 0;\n",
              "    width: 32px;\n",
              "  }\n",
              "\n",
              "  .colab-df-quickchart:hover {\n",
              "    background-color: #E2EBFA;\n",
              "    box-shadow: 0px 1px 2px rgba(60, 64, 67, 0.3), 0px 1px 3px 1px rgba(60, 64, 67, 0.15);\n",
              "    fill: #174EA6;\n",
              "  }\n",
              "\n",
              "  [theme=dark] .colab-df-quickchart {\n",
              "    background-color: #3B4455;\n",
              "    fill: #D2E3FC;\n",
              "  }\n",
              "\n",
              "  [theme=dark] .colab-df-quickchart:hover {\n",
              "    background-color: #434B5C;\n",
              "    box-shadow: 0px 1px 3px 1px rgba(0, 0, 0, 0.15);\n",
              "    filter: drop-shadow(0px 1px 2px rgba(0, 0, 0, 0.3));\n",
              "    fill: #FFFFFF;\n",
              "  }\n",
              "</style>\n",
              "\n",
              "    <script>\n",
              "      async function quickchart(key) {\n",
              "        const containerElement = document.querySelector('#' + key);\n",
              "        const charts = await google.colab.kernel.invokeFunction(\n",
              "            'suggestCharts', [key], {});\n",
              "      }\n",
              "    </script>\n",
              "\n",
              "      <script>\n",
              "\n",
              "function displayQuickchartButton(domScope) {\n",
              "  let quickchartButtonEl =\n",
              "    domScope.querySelector('#df-ea845be8-211b-4852-9742-f51a8b1583a1 button.colab-df-quickchart');\n",
              "  quickchartButtonEl.style.display =\n",
              "    google.colab.kernel.accessAllowed ? 'block' : 'none';\n",
              "}\n",
              "\n",
              "        displayQuickchartButton(document);\n",
              "      </script>\n",
              "      <style>\n",
              "    .colab-df-container {\n",
              "      display:flex;\n",
              "      flex-wrap:wrap;\n",
              "      gap: 12px;\n",
              "    }\n",
              "\n",
              "    .colab-df-convert {\n",
              "      background-color: #E8F0FE;\n",
              "      border: none;\n",
              "      border-radius: 50%;\n",
              "      cursor: pointer;\n",
              "      display: none;\n",
              "      fill: #1967D2;\n",
              "      height: 32px;\n",
              "      padding: 0 0 0 0;\n",
              "      width: 32px;\n",
              "    }\n",
              "\n",
              "    .colab-df-convert:hover {\n",
              "      background-color: #E2EBFA;\n",
              "      box-shadow: 0px 1px 2px rgba(60, 64, 67, 0.3), 0px 1px 3px 1px rgba(60, 64, 67, 0.15);\n",
              "      fill: #174EA6;\n",
              "    }\n",
              "\n",
              "    [theme=dark] .colab-df-convert {\n",
              "      background-color: #3B4455;\n",
              "      fill: #D2E3FC;\n",
              "    }\n",
              "\n",
              "    [theme=dark] .colab-df-convert:hover {\n",
              "      background-color: #434B5C;\n",
              "      box-shadow: 0px 1px 3px 1px rgba(0, 0, 0, 0.15);\n",
              "      filter: drop-shadow(0px 1px 2px rgba(0, 0, 0, 0.3));\n",
              "      fill: #FFFFFF;\n",
              "    }\n",
              "  </style>\n",
              "\n",
              "      <script>\n",
              "        const buttonEl =\n",
              "          document.querySelector('#df-6791d58b-dee3-4d8a-83be-625636b869da button.colab-df-convert');\n",
              "        buttonEl.style.display =\n",
              "          google.colab.kernel.accessAllowed ? 'block' : 'none';\n",
              "\n",
              "        async function convertToInteractive(key) {\n",
              "          const element = document.querySelector('#df-6791d58b-dee3-4d8a-83be-625636b869da');\n",
              "          const dataTable =\n",
              "            await google.colab.kernel.invokeFunction('convertToInteractive',\n",
              "                                                     [key], {});\n",
              "          if (!dataTable) return;\n",
              "\n",
              "          const docLinkHtml = 'Like what you see? Visit the ' +\n",
              "            '<a target=\"_blank\" href=https://colab.research.google.com/notebooks/data_table.ipynb>data table notebook</a>'\n",
              "            + ' to learn more about interactive tables.';\n",
              "          element.innerHTML = '';\n",
              "          dataTable['output_type'] = 'display_data';\n",
              "          await google.colab.output.renderOutput(dataTable, element);\n",
              "          const docLink = document.createElement('div');\n",
              "          docLink.innerHTML = docLinkHtml;\n",
              "          element.appendChild(docLink);\n",
              "        }\n",
              "      </script>\n",
              "    </div>\n",
              "  </div>\n"
            ]
          },
          "metadata": {},
          "execution_count": 73
        }
      ]
    },
    {
      "cell_type": "code",
      "source": [
        "len(loan_data_status)"
      ],
      "metadata": {
        "colab": {
          "base_uri": "https://localhost:8080/"
        },
        "id": "K6PLKIS8rnYt",
        "outputId": "e5f832ee-e088-4ae8-b8a5-dc78b8a4d9dd"
      },
      "execution_count": 74,
      "outputs": [
        {
          "output_type": "execute_result",
          "data": {
            "text/plain": [
              "35857"
            ]
          },
          "metadata": {},
          "execution_count": 74
        }
      ]
    },
    {
      "cell_type": "code",
      "source": [
        "loan_data_status.isna().sum()"
      ],
      "metadata": {
        "colab": {
          "base_uri": "https://localhost:8080/"
        },
        "id": "vLCKFbzikTXl",
        "outputId": "cfeaad94-db70-4fbc-b8fe-a638a24b1545"
      },
      "execution_count": 75,
      "outputs": [
        {
          "output_type": "execute_result",
          "data": {
            "text/plain": [
              "loan_amnt              0\n",
              "term                   0\n",
              "int_rate               0\n",
              "installment            0\n",
              "grade                  0\n",
              "sub_grade              0\n",
              "emp_length             0\n",
              "home_ownership         0\n",
              "annual_inc             0\n",
              "verification_status    0\n",
              "loan_status            0\n",
              "purpose                0\n",
              "addr_state             0\n",
              "annual_inc_range       0\n",
              "dtype: int64"
            ]
          },
          "metadata": {},
          "execution_count": 75
        }
      ]
    },
    {
      "cell_type": "code",
      "source": [
        "loan_data_status.columns"
      ],
      "metadata": {
        "id": "ZMEHwOY_L6oN",
        "colab": {
          "base_uri": "https://localhost:8080/"
        },
        "outputId": "5be37678-c4e7-4adc-fdad-c1fccaa9e479"
      },
      "execution_count": 76,
      "outputs": [
        {
          "output_type": "execute_result",
          "data": {
            "text/plain": [
              "Index(['loan_amnt', 'term', 'int_rate', 'installment', 'grade', 'sub_grade',\n",
              "       'emp_length', 'home_ownership', 'annual_inc', 'verification_status',\n",
              "       'loan_status', 'purpose', 'addr_state', 'annual_inc_range'],\n",
              "      dtype='object')"
            ]
          },
          "metadata": {},
          "execution_count": 76
        }
      ]
    },
    {
      "cell_type": "code",
      "source": [
        "sns.countplot(x=loan_data.term)"
      ],
      "metadata": {
        "colab": {
          "base_uri": "https://localhost:8080/",
          "height": 466
        },
        "id": "UJtLfSi90s7X",
        "outputId": "87327b24-aec6-4a80-a990-e41998249626"
      },
      "execution_count": 77,
      "outputs": [
        {
          "output_type": "execute_result",
          "data": {
            "text/plain": [
              "<Axes: xlabel='term', ylabel='count'>"
            ]
          },
          "metadata": {},
          "execution_count": 77
        },
        {
          "output_type": "display_data",
          "data": {
            "text/plain": [
              "<Figure size 640x480 with 1 Axes>"
            ],
            "image/png": "[encoded data removed]"
          },
          "metadata": {}
        }
      ]
    },
    {
      "cell_type": "markdown",
      "source": [
        "Analyse the loan_amnt and fit it into bins"
      ],
      "metadata": {
        "id": "iUOfzx5Ugcjc"
      }
    },
    {
      "cell_type": "code",
      "source": [
        "loan_data_status['loan_amnt'].describe()"
      ],
      "metadata": {
        "colab": {
          "base_uri": "https://localhost:8080/"
        },
        "id": "ShrvBSGxgi2v",
        "outputId": "8c285605-942c-4f91-efdd-eba3201c488d"
      },
      "execution_count": 78,
      "outputs": [
        {
          "output_type": "execute_result",
          "data": {
            "text/plain": [
              "count    35857.000000\n",
              "mean     10554.709680\n",
              "std       6952.086514\n",
              "min        500.000000\n",
              "25%       5000.000000\n",
              "50%       9000.000000\n",
              "75%      14500.000000\n",
              "max      35000.000000\n",
              "Name: loan_amnt, dtype: float64"
            ]
          },
          "metadata": {},
          "execution_count": 78
        }
      ]
    },
    {
      "cell_type": "markdown",
      "source": [
        "**verification_status** we can change Source Verified to Verified"
      ],
      "metadata": {
        "id": "GpQgrghwfB6U"
      }
    },
    {
      "cell_type": "code",
      "source": [
        "loan_data_status.verification_status.value_counts()"
      ],
      "metadata": {
        "colab": {
          "base_uri": "https://localhost:8080/"
        },
        "id": "N4Xu9YocfJOn",
        "outputId": "ee4cff99-8f19-4431-cc68-a3009a38188f"
      },
      "execution_count": 79,
      "outputs": [
        {
          "output_type": "execute_result",
          "data": {
            "text/plain": [
              "Not Verified       16076\n",
              "Verified           10822\n",
              "Source Verified     8959\n",
              "Name: verification_status, dtype: int64"
            ]
          },
          "metadata": {},
          "execution_count": 79
        }
      ]
    },
    {
      "cell_type": "code",
      "source": [
        "loan_data_status.verification_status = loan_data_status.verification_status.replace('Source Verified','Verified')"
      ],
      "metadata": {
        "id": "IuGlnXslhQsT"
      },
      "execution_count": 80,
      "outputs": []
    },
    {
      "cell_type": "markdown",
      "source": [
        "**Since loan_status is string, we dont see the insights in the below table. Let's change loan_status to int by setting 'Fully Paid' to 1 'Charged Off' to 0**"
      ],
      "metadata": {
        "id": "I9lvoaH1JvU0"
      }
    },
    {
      "cell_type": "code",
      "source": [
        "loan_data_status.loan_status = loan_data_status.loan_status.apply(lambda x : 1 if x == 'Fully Paid' else 0)"
      ],
      "metadata": {
        "id": "45ekWvQ9J1fV"
      },
      "execution_count": 81,
      "outputs": []
    },
    {
      "cell_type": "code",
      "source": [
        "pd.pivot_table(index='purpose',columns='home_ownership',values='loan_status',aggfunc=np.mean,data=loan_data_status)\n",
        "#sns.pivot(x=loan_data_status['emp_length'])"
      ],
      "metadata": {
        "colab": {
          "base_uri": "https://localhost:8080/",
          "height": 520
        },
        "id": "D4PPulCu3Wh3",
        "outputId": "d2400835-1e40-4501-a9ee-ee91a6e9f3b6"
      },
      "execution_count": 82,
      "outputs": [
        {
          "output_type": "execute_result",
          "data": {
            "text/plain": [
              "home_ownership      MORTGAGE  NONE     OTHER       OWN      RENT\n",
              "purpose                                                         \n",
              "car                 0.900293   NaN  0.500000  0.895833  0.876667\n",
              "credit_card         0.891382   NaN  0.818182  0.865455  0.891780\n",
              "debt_consolidation  0.842230   1.0  0.842105  0.842845  0.846343\n",
              "educational         0.864198   NaN  1.000000  0.750000  0.816425\n",
              "home_improvement    0.878074   NaN  0.800000  0.864111  0.847107\n",
              "house               0.872881   NaN  1.000000  0.892857  0.810811\n",
              "major_purchase      0.915049   NaN  1.000000  0.879630  0.877339\n",
              "medical             0.847059   NaN  1.000000  0.843750  0.830065\n",
              "moving              0.906977   NaN  0.000000  0.750000  0.823389\n",
              "other               0.866878   1.0  0.846154  0.836620  0.816246\n",
              "renewable_energy    0.820000   NaN       NaN  0.888889  0.764706\n",
              "small_business      0.745740   NaN  0.600000  0.673469  0.695467\n",
              "vacation            0.910569   NaN       NaN  0.866667  0.825243\n",
              "wedding             0.875502   NaN  1.000000  0.941176  0.901408"
            ],
            "text/html": [
              "\n",
              "\n",
              "  <div id=\"df-2128ae8f-9b96-4f51-9750-b3753f3eea06\">\n",
              "    <div class=\"colab-df-container\">\n",
              "      <div>\n",
              "<style scoped>\n",
              "    .dataframe tbody tr th:only-of-type {\n",
              "        vertical-align: middle;\n",
              "    }\n",
              "\n",
              "    .dataframe tbody tr th {\n",
              "        vertical-align: top;\n",
              "    }\n",
              "\n",
              "    .dataframe thead th {\n",
              "        text-align: right;\n",
              "    }\n",
              "</style>\n",
              "<table border=\"1\" class=\"dataframe\">\n",
              "  <thead>\n",
              "    <tr style=\"text-align: right;\">\n",
              "      <th>home_ownership</th>\n",
              "      <th>MORTGAGE</th>\n",
              "      <th>NONE</th>\n",
              "      <th>OTHER</th>\n",
              "      <th>OWN</th>\n",
              "      <th>RENT</th>\n",
              "    </tr>\n",
              "    <tr>\n",
              "      <th>purpose</th>\n",
              "      <th></th>\n",
              "      <th></th>\n",
              "      <th></th>\n",
              "      <th></th>\n",
              "      <th></th>\n",
              "    </tr>\n",
              "  </thead>\n",
              "  <tbody>\n",
              "    <tr>\n",
              "      <th>car</th>\n",
              "      <td>0.900293</td>\n",
              "      <td>NaN</td>\n",
              "      <td>0.500000</td>\n",
              "      <td>0.895833</td>\n",
              "      <td>0.876667</td>\n",
              "    </tr>\n",
              "    <tr>\n",
              "      <th>credit_card</th>\n",
              "      <td>0.891382</td>\n",
              "      <td>NaN</td>\n",
              "      <td>0.818182</td>\n",
              "      <td>0.865455</td>\n",
              "      <td>0.891780</td>\n",
              "    </tr>\n",
              "    <tr>\n",
              "      <th>debt_consolidation</th>\n",
              "      <td>0.842230</td>\n",
              "      <td>1.0</td>\n",
              "      <td>0.842105</td>\n",
              "      <td>0.842845</td>\n",
              "      <td>0.846343</td>\n",
              "    </tr>\n",
              "    <tr>\n",
              "      <th>educational</th>\n",
              "      <td>0.864198</td>\n",
              "      <td>NaN</td>\n",
              "      <td>1.000000</td>\n",
              "      <td>0.750000</td>\n",
              "      <td>0.816425</td>\n",
              "    </tr>\n",
              "    <tr>\n",
              "      <th>home_improvement</th>\n",
              "      <td>0.878074</td>\n",
              "      <td>NaN</td>\n",
              "      <td>0.800000</td>\n",
              "      <td>0.864111</td>\n",
              "      <td>0.847107</td>\n",
              "    </tr>\n",
              "    <tr>\n",
              "      <th>house</th>\n",
              "      <td>0.872881</td>\n",
              "      <td>NaN</td>\n",
              "      <td>1.000000</td>\n",
              "      <td>0.892857</td>\n",
              "      <td>0.810811</td>\n",
              "    </tr>\n",
              "    <tr>\n",
              "      <th>major_purchase</th>\n",
              "      <td>0.915049</td>\n",
              "      <td>NaN</td>\n",
              "      <td>1.000000</td>\n",
              "      <td>0.879630</td>\n",
              "      <td>0.877339</td>\n",
              "    </tr>\n",
              "    <tr>\n",
              "      <th>medical</th>\n",
              "      <td>0.847059</td>\n",
              "      <td>NaN</td>\n",
              "      <td>1.000000</td>\n",
              "      <td>0.843750</td>\n",
              "      <td>0.830065</td>\n",
              "    </tr>\n",
              "    <tr>\n",
              "      <th>moving</th>\n",
              "      <td>0.906977</td>\n",
              "      <td>NaN</td>\n",
              "      <td>0.000000</td>\n",
              "      <td>0.750000</td>\n",
              "      <td>0.823389</td>\n",
              "    </tr>\n",
              "    <tr>\n",
              "      <th>other</th>\n",
              "      <td>0.866878</td>\n",
              "      <td>1.0</td>\n",
              "      <td>0.846154</td>\n",
              "      <td>0.836620</td>\n",
              "      <td>0.816246</td>\n",
              "    </tr>\n",
              "    <tr>\n",
              "      <th>renewable_energy</th>\n",
              "      <td>0.820000</td>\n",
              "      <td>NaN</td>\n",
              "      <td>NaN</td>\n",
              "      <td>0.888889</td>\n",
              "      <td>0.764706</td>\n",
              "    </tr>\n",
              "    <tr>\n",
              "      <th>small_business</th>\n",
              "      <td>0.745740</td>\n",
              "      <td>NaN</td>\n",
              "      <td>0.600000</td>\n",
              "      <td>0.673469</td>\n",
              "      <td>0.695467</td>\n",
              "    </tr>\n",
              "    <tr>\n",
              "      <th>vacation</th>\n",
              "      <td>0.910569</td>\n",
              "      <td>NaN</td>\n",
              "      <td>NaN</td>\n",
              "      <td>0.866667</td>\n",
              "      <td>0.825243</td>\n",
              "    </tr>\n",
              "    <tr>\n",
              "      <th>wedding</th>\n",
              "      <td>0.875502</td>\n",
              "      <td>NaN</td>\n",
              "      <td>1.000000</td>\n",
              "      <td>0.941176</td>\n",
              "      <td>0.901408</td>\n",
              "    </tr>\n",
              "  </tbody>\n",
              "</table>\n",
              "</div>\n",
              "      <button class=\"colab-df-convert\" onclick=\"convertToInteractive('df-2128ae8f-9b96-4f51-9750-b3753f3eea06')\"\n",
              "              title=\"Convert this dataframe to an interactive table.\"\n",
              "              style=\"display:none;\">\n",
              "\n",
              "  <svg xmlns=\"http://www.w3.org/2000/svg\" height=\"24px\"viewBox=\"0 0 24 24\"\n",
              "       width=\"24px\">\n",
              "    <path d=\"M0 0h24v24H0V0z\" fill=\"none\"/>\n",
              "    <path d=\"M18.56 5.44l.94 2.06.94-2.06 2.06-.94-2.06-.94-.94-2.06-.94 2.06-2.06.94zm-11 1L8.5 8.5l.94-2.06 2.06-.94-2.06-.94L8.5 2.5l-.94 2.06-2.06.94zm10 10l.94 2.06.94-2.06 2.06-.94-2.06-.94-.94-2.06-.94 2.06-2.06.94z\"/><path d=\"M17.41 7.96l-1.37-1.37c-.4-.4-.92-.59-1.43-.59-.52 0-1.04.2-1.43.59L10.3 9.45l-7.72 7.72c-.78.78-.78 2.05 0 2.83L4 21.41c.39.39.9.59 1.41.59.51 0 1.02-.2 1.41-.59l7.78-7.78 2.81-2.81c.8-.78.8-2.07 0-2.86zM5.41 20L4 18.59l7.72-7.72 1.47 1.35L5.41 20z\"/>\n",
              "  </svg>\n",
              "      </button>\n",
              "\n",
              "\n",
              "\n",
              "    <div id=\"df-99d14e4d-7850-4bb8-a7af-28c2bf030b8c\">\n",
              "      <button class=\"colab-df-quickchart\" onclick=\"quickchart('df-99d14e4d-7850-4bb8-a7af-28c2bf030b8c')\"\n",
              "              title=\"Suggest charts.\"\n",
              "              style=\"display:none;\">\n",
              "\n",
              "<svg xmlns=\"http://www.w3.org/2000/svg\" height=\"24px\"viewBox=\"0 0 24 24\"\n",
              "     width=\"24px\">\n",
              "    <g>\n",
              "        <path d=\"M19 3H5c-1.1 0-2 .9-2 2v14c0 1.1.9 2 2 2h14c1.1 0 2-.9 2-2V5c0-1.1-.9-2-2-2zM9 17H7v-7h2v7zm4 0h-2V7h2v10zm4 0h-2v-4h2v4z\"/>\n",
              "    </g>\n",
              "</svg>\n",
              "      </button>\n",
              "    </div>\n",
              "\n",
              "<style>\n",
              "  .colab-df-quickchart {\n",
              "    background-color: #E8F0FE;\n",
              "    border: none;\n",
              "    border-radius: 50%;\n",
              "    cursor: pointer;\n",
              "    display: none;\n",
              "    fill: #1967D2;\n",
              "    height: 32px;\n",
              "    padding: 0 0 0 0;\n",
              "    width: 32px;\n",
              "  }\n",
              "\n",
              "  .colab-df-quickchart:hover {\n",
              "    background-color: #E2EBFA;\n",
              "    box-shadow: 0px 1px 2px rgba(60, 64, 67, 0.3), 0px 1px 3px 1px rgba(60, 64, 67, 0.15);\n",
              "    fill: #174EA6;\n",
              "  }\n",
              "\n",
              "  [theme=dark] .colab-df-quickchart {\n",
              "    background-color: #3B4455;\n",
              "    fill: #D2E3FC;\n",
              "  }\n",
              "\n",
              "  [theme=dark] .colab-df-quickchart:hover {\n",
              "    background-color: #434B5C;\n",
              "    box-shadow: 0px 1px 3px 1px rgba(0, 0, 0, 0.15);\n",
              "    filter: drop-shadow(0px 1px 2px rgba(0, 0, 0, 0.3));\n",
              "    fill: #FFFFFF;\n",
              "  }\n",
              "</style>\n",
              "\n",
              "    <script>\n",
              "      async function quickchart(key) {\n",
              "        const containerElement = document.querySelector('#' + key);\n",
              "        const charts = await google.colab.kernel.invokeFunction(\n",
              "            'suggestCharts', [key], {});\n",
              "      }\n",
              "    </script>\n",
              "\n",
              "      <script>\n",
              "\n",
              "function displayQuickchartButton(domScope) {\n",
              "  let quickchartButtonEl =\n",
              "    domScope.querySelector('#df-99d14e4d-7850-4bb8-a7af-28c2bf030b8c button.colab-df-quickchart');\n",
              "  quickchartButtonEl.style.display =\n",
              "    google.colab.kernel.accessAllowed ? 'block' : 'none';\n",
              "}\n",
              "\n",
              "        displayQuickchartButton(document);\n",
              "      </script>\n",
              "      <style>\n",
              "    .colab-df-container {\n",
              "      display:flex;\n",
              "      flex-wrap:wrap;\n",
              "      gap: 12px;\n",
              "    }\n",
              "\n",
              "    .colab-df-convert {\n",
              "      background-color: #E8F0FE;\n",
              "      border: none;\n",
              "      border-radius: 50%;\n",
              "      cursor: pointer;\n",
              "      display: none;\n",
              "      fill: #1967D2;\n",
              "      height: 32px;\n",
              "      padding: 0 0 0 0;\n",
              "      width: 32px;\n",
              "    }\n",
              "\n",
              "    .colab-df-convert:hover {\n",
              "      background-color: #E2EBFA;\n",
              "      box-shadow: 0px 1px 2px rgba(60, 64, 67, 0.3), 0px 1px 3px 1px rgba(60, 64, 67, 0.15);\n",
              "      fill: #174EA6;\n",
              "    }\n",
              "\n",
              "    [theme=dark] .colab-df-convert {\n",
              "      background-color: #3B4455;\n",
              "      fill: #D2E3FC;\n",
              "    }\n",
              "\n",
              "    [theme=dark] .colab-df-convert:hover {\n",
              "      background-color: #434B5C;\n",
              "      box-shadow: 0px 1px 3px 1px rgba(0, 0, 0, 0.15);\n",
              "      filter: drop-shadow(0px 1px 2px rgba(0, 0, 0, 0.3));\n",
              "      fill: #FFFFFF;\n",
              "    }\n",
              "  </style>\n",
              "\n",
              "      <script>\n",
              "        const buttonEl =\n",
              "          document.querySelector('#df-2128ae8f-9b96-4f51-9750-b3753f3eea06 button.colab-df-convert');\n",
              "        buttonEl.style.display =\n",
              "          google.colab.kernel.accessAllowed ? 'block' : 'none';\n",
              "\n",
              "        async function convertToInteractive(key) {\n",
              "          const element = document.querySelector('#df-2128ae8f-9b96-4f51-9750-b3753f3eea06');\n",
              "          const dataTable =\n",
              "            await google.colab.kernel.invokeFunction('convertToInteractive',\n",
              "                                                     [key], {});\n",
              "          if (!dataTable) return;\n",
              "\n",
              "          const docLinkHtml = 'Like what you see? Visit the ' +\n",
              "            '<a target=\"_blank\" href=https://colab.research.google.com/notebooks/data_table.ipynb>data table notebook</a>'\n",
              "            + ' to learn more about interactive tables.';\n",
              "          element.innerHTML = '';\n",
              "          dataTable['output_type'] = 'display_data';\n",
              "          await google.colab.output.renderOutput(dataTable, element);\n",
              "          const docLink = document.createElement('div');\n",
              "          docLink.innerHTML = docLinkHtml;\n",
              "          element.appendChild(docLink);\n",
              "        }\n",
              "      </script>\n",
              "    </div>\n",
              "  </div>\n"
            ]
          },
          "metadata": {},
          "execution_count": 82
        }
      ]
    },
    {
      "cell_type": "markdown",
      "source": [
        "**Looking at above data home ownership doesn't look like a driver variable. We can ignore this column**"
      ],
      "metadata": {
        "id": "UhJ0S0hKmhG4"
      }
    },
    {
      "cell_type": "markdown",
      "source": [
        "**Lets check the loan_amnt shows any variance of the loan status**"
      ],
      "metadata": {
        "id": "soJrjcVAoymL"
      }
    },
    {
      "cell_type": "code",
      "source": [
        "sns.boxplot(y='loan_amnt',x='loan_status',data=loan_data_status)\n",
        "plt.xticks(rotation=90)\n",
        "plt.show()"
      ],
      "metadata": {
        "colab": {
          "base_uri": "https://localhost:8080/",
          "height": 444
        },
        "id": "0-BaACq1o6m8",
        "outputId": "b3552702-16bf-4b93-92a9-8ecdc961d470"
      },
      "execution_count": 83,
      "outputs": [
        {
          "output_type": "display_data",
          "data": {
            "text/plain": [
              "<Figure size 640x480 with 1 Axes>"
            ],
            "image/png": "[encoded data removed]"
          },
          "metadata": {}
        }
      ]
    },
    {
      "cell_type": "code",
      "source": [
        "sns.boxplot(y='loan_amnt',x='annual_inc_range',hue='loan_status',data=loan_data_status)\n",
        "#sns.boxplot(y='loan_amnt',x='loan_status',data=loan_data_status)\n",
        "plt.xticks(rotation=90)\n",
        "plt.show()"
      ],
      "metadata": {
        "colab": {
          "base_uri": "https://localhost:8080/",
          "height": 561
        },
        "id": "zNREL1i4pWFM",
        "outputId": "c14f9653-8208-4ea8-cb00-b9f3e4746146"
      },
      "execution_count": 84,
      "outputs": [
        {
          "output_type": "display_data",
          "data": {
            "text/plain": [
              "<Figure size 640x480 with 1 Axes>"
            ],
            "image/png": "[encoded data removed]"
          },
          "metadata": {}
        }
      ]
    },
    {
      "cell_type": "code",
      "source": [
        "sns.boxplot(y='loan_amnt',x='purpose',hue='loan_status',data=loan_data_status)\n",
        "#sns.boxplot(y='loan_amnt',x='loan_status',data=loan_data_status)\n",
        "plt.xticks(rotation=90)\n",
        "plt.show()"
      ],
      "metadata": {
        "colab": {
          "base_uri": "https://localhost:8080/",
          "height": 575
        },
        "id": "7jy6-klj3oEF",
        "outputId": "aded25ee-0b74-437c-fc7e-ce463d3e670d"
      },
      "execution_count": 85,
      "outputs": [
        {
          "output_type": "display_data",
          "data": {
            "text/plain": [
              "<Figure size 640x480 with 1 Axes>"
            ],
            "image/png": "[encoded data removed]"
          },
          "metadata": {}
        }
      ]
    },
    {
      "cell_type": "code",
      "source": [
        "sns.boxplot(y='int_rate',x='purpose',hue='loan_status',data=loan_data_status)\n",
        "#sns.boxplot(y='loan_amnt',x='loan_status',data=loan_data_status)\n",
        "plt.xticks(rotation=90)\n",
        "plt.show()"
      ],
      "metadata": {
        "colab": {
          "base_uri": "https://localhost:8080/",
          "height": 575
        },
        "id": "g4J_Z0lBq9Z6",
        "outputId": "15d496d3-d6d2-48a4-8a4a-89c4991f217e"
      },
      "execution_count": 86,
      "outputs": [
        {
          "output_type": "display_data",
          "data": {
            "text/plain": [
              "<Figure size 640x480 with 1 Axes>"
            ],
            "image/png": "[encoded data removed]"
          },
          "metadata": {}
        }
      ]
    },
    {
      "cell_type": "code",
      "source": [
        "loan_data_status.columns"
      ],
      "metadata": {
        "colab": {
          "base_uri": "https://localhost:8080/"
        },
        "id": "t_EsHzeqr-xi",
        "outputId": "439b3bf6-bf76-461c-a9ef-e56062fe62d0"
      },
      "execution_count": 87,
      "outputs": [
        {
          "output_type": "execute_result",
          "data": {
            "text/plain": [
              "Index(['loan_amnt', 'term', 'int_rate', 'installment', 'grade', 'sub_grade',\n",
              "       'emp_length', 'home_ownership', 'annual_inc', 'verification_status',\n",
              "       'loan_status', 'purpose', 'addr_state', 'annual_inc_range'],\n",
              "      dtype='object')"
            ]
          },
          "metadata": {},
          "execution_count": 87
        }
      ]
    },
    {
      "cell_type": "markdown",
      "source": [
        "**Lets group the data by purpose and see what insights we are getting.**"
      ],
      "metadata": {
        "id": "30Iv0ignDVH3"
      }
    },
    {
      "cell_type": "code",
      "source": [
        "loan_data_status.groupby(by='purpose').mean()"
      ],
      "metadata": {
        "colab": {
          "base_uri": "https://localhost:8080/",
          "height": 520
        },
        "id": "d19Lx0INDhTd",
        "outputId": "0f780d37-8b84-49b7-d379-2371f2eaa7da"
      },
      "execution_count": 88,
      "outputs": [
        {
          "output_type": "execute_result",
          "data": {
            "text/plain": [
              "                       loan_amnt   int_rate  installment  emp_length  \\\n",
              "purpose                                                                \n",
              "car                  6597.058824  10.477640   185.930427    4.683473   \n",
              "credit_card         11139.995716  11.559501   332.570088    4.688303   \n",
              "debt_consolidation  12055.568986  12.328587   351.147284    4.869399   \n",
              "educational          6618.971061  11.627974   211.360965    3.340836   \n",
              "home_improvement    10199.877301  11.157894   288.057591    5.548466   \n",
              "house               11742.771084  12.012410   337.652801    4.487952   \n",
              "major_purchase       7623.854011  10.775755   223.245655    4.491779   \n",
              "medical              7779.266348  11.425247   224.815167    4.827751   \n",
              "moving               5879.575472  11.519660   175.395698    3.407547   \n",
              "other                7574.856204  11.660507   225.828036    4.499863   \n",
              "renewable_energy     8008.333333  11.285914   225.941505    5.268817   \n",
              "small_business      12656.689918  12.851211   363.569391    4.374128   \n",
              "vacation             5270.334262  10.790111   156.596267    5.125348   \n",
              "wedding              9358.803222  11.731853   279.895259    3.855006   \n",
              "\n",
              "                      annual_inc  loan_status  \n",
              "purpose                                        \n",
              "car                 56659.465420     0.889356  \n",
              "credit_card         61766.576894     0.889889  \n",
              "debt_consolidation  59201.469468     0.844458  \n",
              "educational         47228.169068     0.826367  \n",
              "home_improvement    66894.148613     0.873211  \n",
              "house               61678.241446     0.840361  \n",
              "major_purchase      56293.393279     0.893373  \n",
              "medical             56348.509777     0.838915  \n",
              "moving              51313.738094     0.832075  \n",
              "other               54918.698447     0.835935  \n",
              "renewable_energy    59413.662688     0.806452  \n",
              "small_business      62437.207806     0.717819  \n",
              "vacation            54850.712117     0.857939  \n",
              "wedding             59990.561623     0.896433  "
            ],
            "text/html": [
              "\n",
              "\n",
              "  <div id=\"df-429a01dc-b664-4ced-a78d-ce9c4533dcd5\">\n",
              "    <div class=\"colab-df-container\">\n",
              "      <div>\n",
              "<style scoped>\n",
              "    .dataframe tbody tr th:only-of-type {\n",
              "        vertical-align: middle;\n",
              "    }\n",
              "\n",
              "    .dataframe tbody tr th {\n",
              "        vertical-align: top;\n",
              "    }\n",
              "\n",
              "    .dataframe thead th {\n",
              "        text-align: right;\n",
              "    }\n",
              "</style>\n",
              "<table border=\"1\" class=\"dataframe\">\n",
              "  <thead>\n",
              "    <tr style=\"text-align: right;\">\n",
              "      <th></th>\n",
              "      <th>loan_amnt</th>\n",
              "      <th>int_rate</th>\n",
              "      <th>installment</th>\n",
              "      <th>emp_length</th>\n",
              "      <th>annual_inc</th>\n",
              "      <th>loan_status</th>\n",
              "    </tr>\n",
              "    <tr>\n",
              "      <th>purpose</th>\n",
              "      <th></th>\n",
              "      <th></th>\n",
              "      <th></th>\n",
              "      <th></th>\n",
              "      <th></th>\n",
              "      <th></th>\n",
              "    </tr>\n",
              "  </thead>\n",
              "  <tbody>\n",
              "    <tr>\n",
              "      <th>car</th>\n",
              "      <td>6597.058824</td>\n",
              "      <td>10.477640</td>\n",
              "      <td>185.930427</td>\n",
              "      <td>4.683473</td>\n",
              "      <td>56659.465420</td>\n",
              "      <td>0.889356</td>\n",
              "    </tr>\n",
              "    <tr>\n",
              "      <th>credit_card</th>\n",
              "      <td>11139.995716</td>\n",
              "      <td>11.559501</td>\n",
              "      <td>332.570088</td>\n",
              "      <td>4.688303</td>\n",
              "      <td>61766.576894</td>\n",
              "      <td>0.889889</td>\n",
              "    </tr>\n",
              "    <tr>\n",
              "      <th>debt_consolidation</th>\n",
              "      <td>12055.568986</td>\n",
              "      <td>12.328587</td>\n",
              "      <td>351.147284</td>\n",
              "      <td>4.869399</td>\n",
              "      <td>59201.469468</td>\n",
              "      <td>0.844458</td>\n",
              "    </tr>\n",
              "    <tr>\n",
              "      <th>educational</th>\n",
              "      <td>6618.971061</td>\n",
              "      <td>11.627974</td>\n",
              "      <td>211.360965</td>\n",
              "      <td>3.340836</td>\n",
              "      <td>47228.169068</td>\n",
              "      <td>0.826367</td>\n",
              "    </tr>\n",
              "    <tr>\n",
              "      <th>home_improvement</th>\n",
              "      <td>10199.877301</td>\n",
              "      <td>11.157894</td>\n",
              "      <td>288.057591</td>\n",
              "      <td>5.548466</td>\n",
              "      <td>66894.148613</td>\n",
              "      <td>0.873211</td>\n",
              "    </tr>\n",
              "    <tr>\n",
              "      <th>house</th>\n",
              "      <td>11742.771084</td>\n",
              "      <td>12.012410</td>\n",
              "      <td>337.652801</td>\n",
              "      <td>4.487952</td>\n",
              "      <td>61678.241446</td>\n",
              "      <td>0.840361</td>\n",
              "    </tr>\n",
              "    <tr>\n",
              "      <th>major_purchase</th>\n",
              "      <td>7623.854011</td>\n",
              "      <td>10.775755</td>\n",
              "      <td>223.245655</td>\n",
              "      <td>4.491779</td>\n",
              "      <td>56293.393279</td>\n",
              "      <td>0.893373</td>\n",
              "    </tr>\n",
              "    <tr>\n",
              "      <th>medical</th>\n",
              "      <td>7779.266348</td>\n",
              "      <td>11.425247</td>\n",
              "      <td>224.815167</td>\n",
              "      <td>4.827751</td>\n",
              "      <td>56348.509777</td>\n",
              "      <td>0.838915</td>\n",
              "    </tr>\n",
              "    <tr>\n",
              "      <th>moving</th>\n",
              "      <td>5879.575472</td>\n",
              "      <td>11.519660</td>\n",
              "      <td>175.395698</td>\n",
              "      <td>3.407547</td>\n",
              "      <td>51313.738094</td>\n",
              "      <td>0.832075</td>\n",
              "    </tr>\n",
              "    <tr>\n",
              "      <th>other</th>\n",
              "      <td>7574.856204</td>\n",
              "      <td>11.660507</td>\n",
              "      <td>225.828036</td>\n",
              "      <td>4.499863</td>\n",
              "      <td>54918.698447</td>\n",
              "      <td>0.835935</td>\n",
              "    </tr>\n",
              "    <tr>\n",
              "      <th>renewable_energy</th>\n",
              "      <td>8008.333333</td>\n",
              "      <td>11.285914</td>\n",
              "      <td>225.941505</td>\n",
              "      <td>5.268817</td>\n",
              "      <td>59413.662688</td>\n",
              "      <td>0.806452</td>\n",
              "    </tr>\n",
              "    <tr>\n",
              "      <th>small_business</th>\n",
              "      <td>12656.689918</td>\n",
              "      <td>12.851211</td>\n",
              "      <td>363.569391</td>\n",
              "      <td>4.374128</td>\n",
              "      <td>62437.207806</td>\n",
              "      <td>0.717819</td>\n",
              "    </tr>\n",
              "    <tr>\n",
              "      <th>vacation</th>\n",
              "      <td>5270.334262</td>\n",
              "      <td>10.790111</td>\n",
              "      <td>156.596267</td>\n",
              "      <td>5.125348</td>\n",
              "      <td>54850.712117</td>\n",
              "      <td>0.857939</td>\n",
              "    </tr>\n",
              "    <tr>\n",
              "      <th>wedding</th>\n",
              "      <td>9358.803222</td>\n",
              "      <td>11.731853</td>\n",
              "      <td>279.895259</td>\n",
              "      <td>3.855006</td>\n",
              "      <td>59990.561623</td>\n",
              "      <td>0.896433</td>\n",
              "    </tr>\n",
              "  </tbody>\n",
              "</table>\n",
              "</div>\n",
              "      <button class=\"colab-df-convert\" onclick=\"convertToInteractive('df-429a01dc-b664-4ced-a78d-ce9c4533dcd5')\"\n",
              "              title=\"Convert this dataframe to an interactive table.\"\n",
              "              style=\"display:none;\">\n",
              "\n",
              "  <svg xmlns=\"http://www.w3.org/2000/svg\" height=\"24px\"viewBox=\"0 0 24 24\"\n",
              "       width=\"24px\">\n",
              "    <path d=\"M0 0h24v24H0V0z\" fill=\"none\"/>\n",
              "    <path d=\"M18.56 5.44l.94 2.06.94-2.06 2.06-.94-2.06-.94-.94-2.06-.94 2.06-2.06.94zm-11 1L8.5 8.5l.94-2.06 2.06-.94-2.06-.94L8.5 2.5l-.94 2.06-2.06.94zm10 10l.94 2.06.94-2.06 2.06-.94-2.06-.94-.94-2.06-.94 2.06-2.06.94z\"/><path d=\"M17.41 7.96l-1.37-1.37c-.4-.4-.92-.59-1.43-.59-.52 0-1.04.2-1.43.59L10.3 9.45l-7.72 7.72c-.78.78-.78 2.05 0 2.83L4 21.41c.39.39.9.59 1.41.59.51 0 1.02-.2 1.41-.59l7.78-7.78 2.81-2.81c.8-.78.8-2.07 0-2.86zM5.41 20L4 18.59l7.72-7.72 1.47 1.35L5.41 20z\"/>\n",
              "  </svg>\n",
              "      </button>\n",
              "\n",
              "\n",
              "\n",
              "    <div id=\"df-823da7f6-8e99-40e5-90b6-3423367209c9\">\n",
              "      <button class=\"colab-df-quickchart\" onclick=\"quickchart('df-823da7f6-8e99-40e5-90b6-3423367209c9')\"\n",
              "              title=\"Suggest charts.\"\n",
              "              style=\"display:none;\">\n",
              "\n",
              "<svg xmlns=\"http://www.w3.org/2000/svg\" height=\"24px\"viewBox=\"0 0 24 24\"\n",
              "     width=\"24px\">\n",
              "    <g>\n",
              "        <path d=\"M19 3H5c-1.1 0-2 .9-2 2v14c0 1.1.9 2 2 2h14c1.1 0 2-.9 2-2V5c0-1.1-.9-2-2-2zM9 17H7v-7h2v7zm4 0h-2V7h2v10zm4 0h-2v-4h2v4z\"/>\n",
              "    </g>\n",
              "</svg>\n",
              "      </button>\n",
              "    </div>\n",
              "\n",
              "<style>\n",
              "  .colab-df-quickchart {\n",
              "    background-color: #E8F0FE;\n",
              "    border: none;\n",
              "    border-radius: 50%;\n",
              "    cursor: pointer;\n",
              "    display: none;\n",
              "    fill: #1967D2;\n",
              "    height: 32px;\n",
              "    padding: 0 0 0 0;\n",
              "    width: 32px;\n",
              "  }\n",
              "\n",
              "  .colab-df-quickchart:hover {\n",
              "    background-color: #E2EBFA;\n",
              "    box-shadow: 0px 1px 2px rgba(60, 64, 67, 0.3), 0px 1px 3px 1px rgba(60, 64, 67, 0.15);\n",
              "    fill: #174EA6;\n",
              "  }\n",
              "\n",
              "  [theme=dark] .colab-df-quickchart {\n",
              "    background-color: #3B4455;\n",
              "    fill: #D2E3FC;\n",
              "  }\n",
              "\n",
              "  [theme=dark] .colab-df-quickchart:hover {\n",
              "    background-color: #434B5C;\n",
              "    box-shadow: 0px 1px 3px 1px rgba(0, 0, 0, 0.15);\n",
              "    filter: drop-shadow(0px 1px 2px rgba(0, 0, 0, 0.3));\n",
              "    fill: #FFFFFF;\n",
              "  }\n",
              "</style>\n",
              "\n",
              "    <script>\n",
              "      async function quickchart(key) {\n",
              "        const containerElement = document.querySelector('#' + key);\n",
              "        const charts = await google.colab.kernel.invokeFunction(\n",
              "            'suggestCharts', [key], {});\n",
              "      }\n",
              "    </script>\n",
              "\n",
              "      <script>\n",
              "\n",
              "function displayQuickchartButton(domScope) {\n",
              "  let quickchartButtonEl =\n",
              "    domScope.querySelector('#df-823da7f6-8e99-40e5-90b6-3423367209c9 button.colab-df-quickchart');\n",
              "  quickchartButtonEl.style.display =\n",
              "    google.colab.kernel.accessAllowed ? 'block' : 'none';\n",
              "}\n",
              "\n",
              "        displayQuickchartButton(document);\n",
              "      </script>\n",
              "      <style>\n",
              "    .colab-df-container {\n",
              "      display:flex;\n",
              "      flex-wrap:wrap;\n",
              "      gap: 12px;\n",
              "    }\n",
              "\n",
              "    .colab-df-convert {\n",
              "      background-color: #E8F0FE;\n",
              "      border: none;\n",
              "      border-radius: 50%;\n",
              "      cursor: pointer;\n",
              "      display: none;\n",
              "      fill: #1967D2;\n",
              "      height: 32px;\n",
              "      padding: 0 0 0 0;\n",
              "      width: 32px;\n",
              "    }\n",
              "\n",
              "    .colab-df-convert:hover {\n",
              "      background-color: #E2EBFA;\n",
              "      box-shadow: 0px 1px 2px rgba(60, 64, 67, 0.3), 0px 1px 3px 1px rgba(60, 64, 67, 0.15);\n",
              "      fill: #174EA6;\n",
              "    }\n",
              "\n",
              "    [theme=dark] .colab-df-convert {\n",
              "      background-color: #3B4455;\n",
              "      fill: #D2E3FC;\n",
              "    }\n",
              "\n",
              "    [theme=dark] .colab-df-convert:hover {\n",
              "      background-color: #434B5C;\n",
              "      box-shadow: 0px 1px 3px 1px rgba(0, 0, 0, 0.15);\n",
              "      filter: drop-shadow(0px 1px 2px rgba(0, 0, 0, 0.3));\n",
              "      fill: #FFFFFF;\n",
              "    }\n",
              "  </style>\n",
              "\n",
              "      <script>\n",
              "        const buttonEl =\n",
              "          document.querySelector('#df-429a01dc-b664-4ced-a78d-ce9c4533dcd5 button.colab-df-convert');\n",
              "        buttonEl.style.display =\n",
              "          google.colab.kernel.accessAllowed ? 'block' : 'none';\n",
              "\n",
              "        async function convertToInteractive(key) {\n",
              "          const element = document.querySelector('#df-429a01dc-b664-4ced-a78d-ce9c4533dcd5');\n",
              "          const dataTable =\n",
              "            await google.colab.kernel.invokeFunction('convertToInteractive',\n",
              "                                                     [key], {});\n",
              "          if (!dataTable) return;\n",
              "\n",
              "          const docLinkHtml = 'Like what you see? Visit the ' +\n",
              "            '<a target=\"_blank\" href=https://colab.research.google.com/notebooks/data_table.ipynb>data table notebook</a>'\n",
              "            + ' to learn more about interactive tables.';\n",
              "          element.innerHTML = '';\n",
              "          dataTable['output_type'] = 'display_data';\n",
              "          await google.colab.output.renderOutput(dataTable, element);\n",
              "          const docLink = document.createElement('div');\n",
              "          docLink.innerHTML = docLinkHtml;\n",
              "          element.appendChild(docLink);\n",
              "        }\n",
              "      </script>\n",
              "    </div>\n",
              "  </div>\n"
            ]
          },
          "metadata": {},
          "execution_count": 88
        }
      ]
    },
    {
      "cell_type": "markdown",
      "source": [
        "**Lets see now what group by purpose will give us**"
      ],
      "metadata": {
        "id": "KiZR0gMYKQNg"
      }
    },
    {
      "cell_type": "code",
      "source": [
        "loan_data_status.groupby(by='purpose').mean().sort_values(by='loan_status',ascending=True)"
      ],
      "metadata": {
        "colab": {
          "base_uri": "https://localhost:8080/",
          "height": 520
        },
        "id": "aO60kOtJKZ3s",
        "outputId": "917dd3b0-4e51-4904-b908-0ab030614f1e"
      },
      "execution_count": 89,
      "outputs": [
        {
          "output_type": "execute_result",
          "data": {
            "text/plain": [
              "                       loan_amnt   int_rate  installment  emp_length  \\\n",
              "purpose                                                                \n",
              "small_business      12656.689918  12.851211   363.569391    4.374128   \n",
              "renewable_energy     8008.333333  11.285914   225.941505    5.268817   \n",
              "educational          6618.971061  11.627974   211.360965    3.340836   \n",
              "moving               5879.575472  11.519660   175.395698    3.407547   \n",
              "other                7574.856204  11.660507   225.828036    4.499863   \n",
              "medical              7779.266348  11.425247   224.815167    4.827751   \n",
              "house               11742.771084  12.012410   337.652801    4.487952   \n",
              "debt_consolidation  12055.568986  12.328587   351.147284    4.869399   \n",
              "vacation             5270.334262  10.790111   156.596267    5.125348   \n",
              "home_improvement    10199.877301  11.157894   288.057591    5.548466   \n",
              "car                  6597.058824  10.477640   185.930427    4.683473   \n",
              "credit_card         11139.995716  11.559501   332.570088    4.688303   \n",
              "major_purchase       7623.854011  10.775755   223.245655    4.491779   \n",
              "wedding              9358.803222  11.731853   279.895259    3.855006   \n",
              "\n",
              "                      annual_inc  loan_status  \n",
              "purpose                                        \n",
              "small_business      62437.207806     0.717819  \n",
              "renewable_energy    59413.662688     0.806452  \n",
              "educational         47228.169068     0.826367  \n",
              "moving              51313.738094     0.832075  \n",
              "other               54918.698447     0.835935  \n",
              "medical             56348.509777     0.838915  \n",
              "house               61678.241446     0.840361  \n",
              "debt_consolidation  59201.469468     0.844458  \n",
              "vacation            54850.712117     0.857939  \n",
              "home_improvement    66894.148613     0.873211  \n",
              "car                 56659.465420     0.889356  \n",
              "credit_card         61766.576894     0.889889  \n",
              "major_purchase      56293.393279     0.893373  \n",
              "wedding             59990.561623     0.896433  "
            ],
            "text/html": [
              "\n",
              "\n",
              "  <div id=\"df-ff329999-2dcb-41f3-9a70-a62797207b04\">\n",
              "    <div class=\"colab-df-container\">\n",
              "      <div>\n",
              "<style scoped>\n",
              "    .dataframe tbody tr th:only-of-type {\n",
              "        vertical-align: middle;\n",
              "    }\n",
              "\n",
              "    .dataframe tbody tr th {\n",
              "        vertical-align: top;\n",
              "    }\n",
              "\n",
              "    .dataframe thead th {\n",
              "        text-align: right;\n",
              "    }\n",
              "</style>\n",
              "<table border=\"1\" class=\"dataframe\">\n",
              "  <thead>\n",
              "    <tr style=\"text-align: right;\">\n",
              "      <th></th>\n",
              "      <th>loan_amnt</th>\n",
              "      <th>int_rate</th>\n",
              "      <th>installment</th>\n",
              "      <th>emp_length</th>\n",
              "      <th>annual_inc</th>\n",
              "      <th>loan_status</th>\n",
              "    </tr>\n",
              "    <tr>\n",
              "      <th>purpose</th>\n",
              "      <th></th>\n",
              "      <th></th>\n",
              "      <th></th>\n",
              "      <th></th>\n",
              "      <th></th>\n",
              "      <th></th>\n",
              "    </tr>\n",
              "  </thead>\n",
              "  <tbody>\n",
              "    <tr>\n",
              "      <th>small_business</th>\n",
              "      <td>12656.689918</td>\n",
              "      <td>12.851211</td>\n",
              "      <td>363.569391</td>\n",
              "      <td>4.374128</td>\n",
              "      <td>62437.207806</td>\n",
              "      <td>0.717819</td>\n",
              "    </tr>\n",
              "    <tr>\n",
              "      <th>renewable_energy</th>\n",
              "      <td>8008.333333</td>\n",
              "      <td>11.285914</td>\n",
              "      <td>225.941505</td>\n",
              "      <td>5.268817</td>\n",
              "      <td>59413.662688</td>\n",
              "      <td>0.806452</td>\n",
              "    </tr>\n",
              "    <tr>\n",
              "      <th>educational</th>\n",
              "      <td>6618.971061</td>\n",
              "      <td>11.627974</td>\n",
              "      <td>211.360965</td>\n",
              "      <td>3.340836</td>\n",
              "      <td>47228.169068</td>\n",
              "      <td>0.826367</td>\n",
              "    </tr>\n",
              "    <tr>\n",
              "      <th>moving</th>\n",
              "      <td>5879.575472</td>\n",
              "      <td>11.519660</td>\n",
              "      <td>175.395698</td>\n",
              "      <td>3.407547</td>\n",
              "      <td>51313.738094</td>\n",
              "      <td>0.832075</td>\n",
              "    </tr>\n",
              "    <tr>\n",
              "      <th>other</th>\n",
              "      <td>7574.856204</td>\n",
              "      <td>11.660507</td>\n",
              "      <td>225.828036</td>\n",
              "      <td>4.499863</td>\n",
              "      <td>54918.698447</td>\n",
              "      <td>0.835935</td>\n",
              "    </tr>\n",
              "    <tr>\n",
              "      <th>medical</th>\n",
              "      <td>7779.266348</td>\n",
              "      <td>11.425247</td>\n",
              "      <td>224.815167</td>\n",
              "      <td>4.827751</td>\n",
              "      <td>56348.509777</td>\n",
              "      <td>0.838915</td>\n",
              "    </tr>\n",
              "    <tr>\n",
              "      <th>house</th>\n",
              "      <td>11742.771084</td>\n",
              "      <td>12.012410</td>\n",
              "      <td>337.652801</td>\n",
              "      <td>4.487952</td>\n",
              "      <td>61678.241446</td>\n",
              "      <td>0.840361</td>\n",
              "    </tr>\n",
              "    <tr>\n",
              "      <th>debt_consolidation</th>\n",
              "      <td>12055.568986</td>\n",
              "      <td>12.328587</td>\n",
              "      <td>351.147284</td>\n",
              "      <td>4.869399</td>\n",
              "      <td>59201.469468</td>\n",
              "      <td>0.844458</td>\n",
              "    </tr>\n",
              "    <tr>\n",
              "      <th>vacation</th>\n",
              "      <td>5270.334262</td>\n",
              "      <td>10.790111</td>\n",
              "      <td>156.596267</td>\n",
              "      <td>5.125348</td>\n",
              "      <td>54850.712117</td>\n",
              "      <td>0.857939</td>\n",
              "    </tr>\n",
              "    <tr>\n",
              "      <th>home_improvement</th>\n",
              "      <td>10199.877301</td>\n",
              "      <td>11.157894</td>\n",
              "      <td>288.057591</td>\n",
              "      <td>5.548466</td>\n",
              "      <td>66894.148613</td>\n",
              "      <td>0.873211</td>\n",
              "    </tr>\n",
              "    <tr>\n",
              "      <th>car</th>\n",
              "      <td>6597.058824</td>\n",
              "      <td>10.477640</td>\n",
              "      <td>185.930427</td>\n",
              "      <td>4.683473</td>\n",
              "      <td>56659.465420</td>\n",
              "      <td>0.889356</td>\n",
              "    </tr>\n",
              "    <tr>\n",
              "      <th>credit_card</th>\n",
              "      <td>11139.995716</td>\n",
              "      <td>11.559501</td>\n",
              "      <td>332.570088</td>\n",
              "      <td>4.688303</td>\n",
              "      <td>61766.576894</td>\n",
              "      <td>0.889889</td>\n",
              "    </tr>\n",
              "    <tr>\n",
              "      <th>major_purchase</th>\n",
              "      <td>7623.854011</td>\n",
              "      <td>10.775755</td>\n",
              "      <td>223.245655</td>\n",
              "      <td>4.491779</td>\n",
              "      <td>56293.393279</td>\n",
              "      <td>0.893373</td>\n",
              "    </tr>\n",
              "    <tr>\n",
              "      <th>wedding</th>\n",
              "      <td>9358.803222</td>\n",
              "      <td>11.731853</td>\n",
              "      <td>279.895259</td>\n",
              "      <td>3.855006</td>\n",
              "      <td>59990.561623</td>\n",
              "      <td>0.896433</td>\n",
              "    </tr>\n",
              "  </tbody>\n",
              "</table>\n",
              "</div>\n",
              "      <button class=\"colab-df-convert\" onclick=\"convertToInteractive('df-ff329999-2dcb-41f3-9a70-a62797207b04')\"\n",
              "              title=\"Convert this dataframe to an interactive table.\"\n",
              "              style=\"display:none;\">\n",
              "\n",
              "  <svg xmlns=\"http://www.w3.org/2000/svg\" height=\"24px\"viewBox=\"0 0 24 24\"\n",
              "       width=\"24px\">\n",
              "    <path d=\"M0 0h24v24H0V0z\" fill=\"none\"/>\n",
              "    <path d=\"M18.56 5.44l.94 2.06.94-2.06 2.06-.94-2.06-.94-.94-2.06-.94 2.06-2.06.94zm-11 1L8.5 8.5l.94-2.06 2.06-.94-2.06-.94L8.5 2.5l-.94 2.06-2.06.94zm10 10l.94 2.06.94-2.06 2.06-.94-2.06-.94-.94-2.06-.94 2.06-2.06.94z\"/><path d=\"M17.41 7.96l-1.37-1.37c-.4-.4-.92-.59-1.43-.59-.52 0-1.04.2-1.43.59L10.3 9.45l-7.72 7.72c-.78.78-.78 2.05 0 2.83L4 21.41c.39.39.9.59 1.41.59.51 0 1.02-.2 1.41-.59l7.78-7.78 2.81-2.81c.8-.78.8-2.07 0-2.86zM5.41 20L4 18.59l7.72-7.72 1.47 1.35L5.41 20z\"/>\n",
              "  </svg>\n",
              "      </button>\n",
              "\n",
              "\n",
              "\n",
              "    <div id=\"df-113289ec-7fb7-43d7-a117-a79ed6ec4d60\">\n",
              "      <button class=\"colab-df-quickchart\" onclick=\"quickchart('df-113289ec-7fb7-43d7-a117-a79ed6ec4d60')\"\n",
              "              title=\"Suggest charts.\"\n",
              "              style=\"display:none;\">\n",
              "\n",
              "<svg xmlns=\"http://www.w3.org/2000/svg\" height=\"24px\"viewBox=\"0 0 24 24\"\n",
              "     width=\"24px\">\n",
              "    <g>\n",
              "        <path d=\"M19 3H5c-1.1 0-2 .9-2 2v14c0 1.1.9 2 2 2h14c1.1 0 2-.9 2-2V5c0-1.1-.9-2-2-2zM9 17H7v-7h2v7zm4 0h-2V7h2v10zm4 0h-2v-4h2v4z\"/>\n",
              "    </g>\n",
              "</svg>\n",
              "      </button>\n",
              "    </div>\n",
              "\n",
              "<style>\n",
              "  .colab-df-quickchart {\n",
              "    background-color: #E8F0FE;\n",
              "    border: none;\n",
              "    border-radius: 50%;\n",
              "    cursor: pointer;\n",
              "    display: none;\n",
              "    fill: #1967D2;\n",
              "    height: 32px;\n",
              "    padding: 0 0 0 0;\n",
              "    width: 32px;\n",
              "  }\n",
              "\n",
              "  .colab-df-quickchart:hover {\n",
              "    background-color: #E2EBFA;\n",
              "    box-shadow: 0px 1px 2px rgba(60, 64, 67, 0.3), 0px 1px 3px 1px rgba(60, 64, 67, 0.15);\n",
              "    fill: #174EA6;\n",
              "  }\n",
              "\n",
              "  [theme=dark] .colab-df-quickchart {\n",
              "    background-color: #3B4455;\n",
              "    fill: #D2E3FC;\n",
              "  }\n",
              "\n",
              "  [theme=dark] .colab-df-quickchart:hover {\n",
              "    background-color: #434B5C;\n",
              "    box-shadow: 0px 1px 3px 1px rgba(0, 0, 0, 0.15);\n",
              "    filter: drop-shadow(0px 1px 2px rgba(0, 0, 0, 0.3));\n",
              "    fill: #FFFFFF;\n",
              "  }\n",
              "</style>\n",
              "\n",
              "    <script>\n",
              "      async function quickchart(key) {\n",
              "        const containerElement = document.querySelector('#' + key);\n",
              "        const charts = await google.colab.kernel.invokeFunction(\n",
              "            'suggestCharts', [key], {});\n",
              "      }\n",
              "    </script>\n",
              "\n",
              "      <script>\n",
              "\n",
              "function displayQuickchartButton(domScope) {\n",
              "  let quickchartButtonEl =\n",
              "    domScope.querySelector('#df-113289ec-7fb7-43d7-a117-a79ed6ec4d60 button.colab-df-quickchart');\n",
              "  quickchartButtonEl.style.display =\n",
              "    google.colab.kernel.accessAllowed ? 'block' : 'none';\n",
              "}\n",
              "\n",
              "        displayQuickchartButton(document);\n",
              "      </script>\n",
              "      <style>\n",
              "    .colab-df-container {\n",
              "      display:flex;\n",
              "      flex-wrap:wrap;\n",
              "      gap: 12px;\n",
              "    }\n",
              "\n",
              "    .colab-df-convert {\n",
              "      background-color: #E8F0FE;\n",
              "      border: none;\n",
              "      border-radius: 50%;\n",
              "      cursor: pointer;\n",
              "      display: none;\n",
              "      fill: #1967D2;\n",
              "      height: 32px;\n",
              "      padding: 0 0 0 0;\n",
              "      width: 32px;\n",
              "    }\n",
              "\n",
              "    .colab-df-convert:hover {\n",
              "      background-color: #E2EBFA;\n",
              "      box-shadow: 0px 1px 2px rgba(60, 64, 67, 0.3), 0px 1px 3px 1px rgba(60, 64, 67, 0.15);\n",
              "      fill: #174EA6;\n",
              "    }\n",
              "\n",
              "    [theme=dark] .colab-df-convert {\n",
              "      background-color: #3B4455;\n",
              "      fill: #D2E3FC;\n",
              "    }\n",
              "\n",
              "    [theme=dark] .colab-df-convert:hover {\n",
              "      background-color: #434B5C;\n",
              "      box-shadow: 0px 1px 3px 1px rgba(0, 0, 0, 0.15);\n",
              "      filter: drop-shadow(0px 1px 2px rgba(0, 0, 0, 0.3));\n",
              "      fill: #FFFFFF;\n",
              "    }\n",
              "  </style>\n",
              "\n",
              "      <script>\n",
              "        const buttonEl =\n",
              "          document.querySelector('#df-ff329999-2dcb-41f3-9a70-a62797207b04 button.colab-df-convert');\n",
              "        buttonEl.style.display =\n",
              "          google.colab.kernel.accessAllowed ? 'block' : 'none';\n",
              "\n",
              "        async function convertToInteractive(key) {\n",
              "          const element = document.querySelector('#df-ff329999-2dcb-41f3-9a70-a62797207b04');\n",
              "          const dataTable =\n",
              "            await google.colab.kernel.invokeFunction('convertToInteractive',\n",
              "                                                     [key], {});\n",
              "          if (!dataTable) return;\n",
              "\n",
              "          const docLinkHtml = 'Like what you see? Visit the ' +\n",
              "            '<a target=\"_blank\" href=https://colab.research.google.com/notebooks/data_table.ipynb>data table notebook</a>'\n",
              "            + ' to learn more about interactive tables.';\n",
              "          element.innerHTML = '';\n",
              "          dataTable['output_type'] = 'display_data';\n",
              "          await google.colab.output.renderOutput(dataTable, element);\n",
              "          const docLink = document.createElement('div');\n",
              "          docLink.innerHTML = docLinkHtml;\n",
              "          element.appendChild(docLink);\n",
              "        }\n",
              "      </script>\n",
              "    </div>\n",
              "  </div>\n"
            ]
          },
          "metadata": {},
          "execution_count": 89
        }
      ]
    },
    {
      "cell_type": "markdown",
      "source": [
        "Observations based on above table\n",
        "\n",
        "1.   Repayment of loans related to Life style related expences like wedding, purchase, credit card, car and home_improvement is high.\n",
        "2.   Repayment of loans related to Small business loans, Renewable energy, Educational is very low.\n",
        "\n",
        "\n",
        "\n"
      ],
      "metadata": {
        "id": "0G--bqUBLkii"
      }
    },
    {
      "cell_type": "markdown",
      "source": [
        "**Lets ceate a pivot table to check the successful payment averages among customers from different income groups and purpose of loan **"
      ],
      "metadata": {
        "id": "shp1qxjPTL1I"
      }
    },
    {
      "cell_type": "code",
      "source": [
        "pd.pivot_table(index='purpose',values=('loan_amnt','loan_status'),columns='annual_inc_range',data=loan_data_status,aggfunc=np.mean)"
      ],
      "metadata": {
        "colab": {
          "base_uri": "https://localhost:8080/",
          "height": 632
        },
        "id": "sLHAOOx7cROs",
        "outputId": "f0006770-b745-47d0-b672-ce78c90737dd"
      },
      "execution_count": 90,
      "outputs": [
        {
          "output_type": "execute_result",
          "data": {
            "text/plain": [
              "                      loan_amnt                                                \\\n",
              "annual_inc_range     (0, 20000] (20000, 40000] (40000, 80000] (80000, 100000]   \n",
              "purpose                                                                         \n",
              "car                 4290.942029    5573.092643    6673.529412     8272.656250   \n",
              "credit_card         3913.725490    7897.081612   11237.588374    13742.258065   \n",
              "debt_consolidation  3997.429907    8360.655328   12429.408108    16060.100527   \n",
              "educational         3875.833333    5301.785714    7600.467290     9531.000000   \n",
              "home_improvement    4708.333333    6859.555288    9853.574281    12579.411765   \n",
              "house               4422.222222    8943.661972   12260.814607    13330.978261   \n",
              "major_purchase      4041.831683    6113.950276    7902.047952     9551.535088   \n",
              "medical             4312.500000    5784.116022    8248.892405    10738.432836   \n",
              "moving              2807.222222    4632.941176    6034.876543     9957.926829   \n",
              "other               3617.613636    5714.943074    8037.781955    10242.636139   \n",
              "renewable_energy    2380.000000    4950.000000    8899.390244     9630.000000   \n",
              "small_business      4445.312500    8365.135542   12962.484549    16025.900000   \n",
              "vacation            2740.000000    4773.267327    5403.867403     6266.216216   \n",
              "wedding             4173.437500    6580.598958    9677.150000    12463.157895   \n",
              "\n",
              "                                                     loan_status  \\\n",
              "annual_inc_range   (100000, 120000] (120000, 140000]  (0, 20000]   \n",
              "purpose                                                            \n",
              "car                     8037.941176     12125.000000    0.855072   \n",
              "credit_card            15706.233062     16368.650794    0.901961   \n",
              "debt_consolidation     17486.308927     17021.338384    0.810748   \n",
              "educational            12044.736842     13000.000000    0.833333   \n",
              "home_improvement       13514.019608     12487.234043    0.818182   \n",
              "house                  14607.500000     17000.000000    0.777778   \n",
              "major_purchase         11378.738318      9916.666667    0.821782   \n",
              "medical                 9866.216216     18000.000000    0.625000   \n",
              "moving                 10174.038462     12595.000000    0.777778   \n",
              "other                  11430.348837     11844.827586    0.750000   \n",
              "renewable_energy       14838.888889      4500.000000    0.600000   \n",
              "small_business         17452.826087     20382.608696    0.645833   \n",
              "vacation                7378.947368      5000.000000    0.800000   \n",
              "wedding                11770.454545     12054.545455    0.812500   \n",
              "\n",
              "                                                                  \\\n",
              "annual_inc_range   (20000, 40000] (40000, 80000] (80000, 100000]   \n",
              "purpose                                                            \n",
              "car                      0.877384       0.893297        0.900000   \n",
              "credit_card              0.856405       0.892380        0.908065   \n",
              "debt_consolidation       0.813657       0.847784        0.873624   \n",
              "educational              0.806122       0.841121        0.840000   \n",
              "home_improvement         0.848558       0.857827        0.895928   \n",
              "house                    0.788732       0.870787        0.847826   \n",
              "major_purchase           0.858195       0.905095        0.934211   \n",
              "medical                  0.839779       0.829114        0.910448   \n",
              "moving                   0.764706       0.876543        0.829268   \n",
              "other                    0.816888       0.843262        0.896040   \n",
              "renewable_energy         0.740741       0.829268        0.900000   \n",
              "small_business           0.689759       0.703337        0.776000   \n",
              "vacation                 0.841584       0.845304        0.945946   \n",
              "wedding                  0.880208       0.900000        0.915789   \n",
              "\n",
              "                                                      \n",
              "annual_inc_range   (100000, 120000] (120000, 140000]  \n",
              "purpose                                               \n",
              "car                        0.905882         0.937500  \n",
              "credit_card                0.918699         0.936508  \n",
              "debt_consolidation         0.886660         0.863636  \n",
              "educational                0.842105         0.500000  \n",
              "home_improvement           0.945098         0.936170  \n",
              "house                      0.750000         0.875000  \n",
              "major_purchase             0.943925         0.888889  \n",
              "medical                    0.945946         0.500000  \n",
              "moving                     0.923077         1.000000  \n",
              "other                      0.860465         0.724138  \n",
              "renewable_energy           0.888889         1.000000  \n",
              "small_business             0.791304         0.782609  \n",
              "vacation                   0.947368         1.000000  \n",
              "wedding                    0.909091         0.909091  "
            ],
            "text/html": [
              "\n",
              "\n",
              "  <div id=\"df-3ba913ab-7022-47fa-9524-cd2a190b3d2d\">\n",
              "    <div class=\"colab-df-container\">\n",
              "      <div>\n",
              "<style scoped>\n",
              "    .dataframe tbody tr th:only-of-type {\n",
              "        vertical-align: middle;\n",
              "    }\n",
              "\n",
              "    .dataframe tbody tr th {\n",
              "        vertical-align: top;\n",
              "    }\n",
              "\n",
              "    .dataframe thead tr th {\n",
              "        text-align: left;\n",
              "    }\n",
              "\n",
              "    .dataframe thead tr:last-of-type th {\n",
              "        text-align: right;\n",
              "    }\n",
              "</style>\n",
              "<table border=\"1\" class=\"dataframe\">\n",
              "  <thead>\n",
              "    <tr>\n",
              "      <th></th>\n",
              "      <th colspan=\"6\" halign=\"left\">loan_amnt</th>\n",
              "      <th colspan=\"6\" halign=\"left\">loan_status</th>\n",
              "    </tr>\n",
              "    <tr>\n",
              "      <th>annual_inc_range</th>\n",
              "      <th>(0, 20000]</th>\n",
              "      <th>(20000, 40000]</th>\n",
              "      <th>(40000, 80000]</th>\n",
              "      <th>(80000, 100000]</th>\n",
              "      <th>(100000, 120000]</th>\n",
              "      <th>(120000, 140000]</th>\n",
              "      <th>(0, 20000]</th>\n",
              "      <th>(20000, 40000]</th>\n",
              "      <th>(40000, 80000]</th>\n",
              "      <th>(80000, 100000]</th>\n",
              "      <th>(100000, 120000]</th>\n",
              "      <th>(120000, 140000]</th>\n",
              "    </tr>\n",
              "    <tr>\n",
              "      <th>purpose</th>\n",
              "      <th></th>\n",
              "      <th></th>\n",
              "      <th></th>\n",
              "      <th></th>\n",
              "      <th></th>\n",
              "      <th></th>\n",
              "      <th></th>\n",
              "      <th></th>\n",
              "      <th></th>\n",
              "      <th></th>\n",
              "      <th></th>\n",
              "      <th></th>\n",
              "    </tr>\n",
              "  </thead>\n",
              "  <tbody>\n",
              "    <tr>\n",
              "      <th>car</th>\n",
              "      <td>4290.942029</td>\n",
              "      <td>5573.092643</td>\n",
              "      <td>6673.529412</td>\n",
              "      <td>8272.656250</td>\n",
              "      <td>8037.941176</td>\n",
              "      <td>12125.000000</td>\n",
              "      <td>0.855072</td>\n",
              "      <td>0.877384</td>\n",
              "      <td>0.893297</td>\n",
              "      <td>0.900000</td>\n",
              "      <td>0.905882</td>\n",
              "      <td>0.937500</td>\n",
              "    </tr>\n",
              "    <tr>\n",
              "      <th>credit_card</th>\n",
              "      <td>3913.725490</td>\n",
              "      <td>7897.081612</td>\n",
              "      <td>11237.588374</td>\n",
              "      <td>13742.258065</td>\n",
              "      <td>15706.233062</td>\n",
              "      <td>16368.650794</td>\n",
              "      <td>0.901961</td>\n",
              "      <td>0.856405</td>\n",
              "      <td>0.892380</td>\n",
              "      <td>0.908065</td>\n",
              "      <td>0.918699</td>\n",
              "      <td>0.936508</td>\n",
              "    </tr>\n",
              "    <tr>\n",
              "      <th>debt_consolidation</th>\n",
              "      <td>3997.429907</td>\n",
              "      <td>8360.655328</td>\n",
              "      <td>12429.408108</td>\n",
              "      <td>16060.100527</td>\n",
              "      <td>17486.308927</td>\n",
              "      <td>17021.338384</td>\n",
              "      <td>0.810748</td>\n",
              "      <td>0.813657</td>\n",
              "      <td>0.847784</td>\n",
              "      <td>0.873624</td>\n",
              "      <td>0.886660</td>\n",
              "      <td>0.863636</td>\n",
              "    </tr>\n",
              "    <tr>\n",
              "      <th>educational</th>\n",
              "      <td>3875.833333</td>\n",
              "      <td>5301.785714</td>\n",
              "      <td>7600.467290</td>\n",
              "      <td>9531.000000</td>\n",
              "      <td>12044.736842</td>\n",
              "      <td>13000.000000</td>\n",
              "      <td>0.833333</td>\n",
              "      <td>0.806122</td>\n",
              "      <td>0.841121</td>\n",
              "      <td>0.840000</td>\n",
              "      <td>0.842105</td>\n",
              "      <td>0.500000</td>\n",
              "    </tr>\n",
              "    <tr>\n",
              "      <th>home_improvement</th>\n",
              "      <td>4708.333333</td>\n",
              "      <td>6859.555288</td>\n",
              "      <td>9853.574281</td>\n",
              "      <td>12579.411765</td>\n",
              "      <td>13514.019608</td>\n",
              "      <td>12487.234043</td>\n",
              "      <td>0.818182</td>\n",
              "      <td>0.848558</td>\n",
              "      <td>0.857827</td>\n",
              "      <td>0.895928</td>\n",
              "      <td>0.945098</td>\n",
              "      <td>0.936170</td>\n",
              "    </tr>\n",
              "    <tr>\n",
              "      <th>house</th>\n",
              "      <td>4422.222222</td>\n",
              "      <td>8943.661972</td>\n",
              "      <td>12260.814607</td>\n",
              "      <td>13330.978261</td>\n",
              "      <td>14607.500000</td>\n",
              "      <td>17000.000000</td>\n",
              "      <td>0.777778</td>\n",
              "      <td>0.788732</td>\n",
              "      <td>0.870787</td>\n",
              "      <td>0.847826</td>\n",
              "      <td>0.750000</td>\n",
              "      <td>0.875000</td>\n",
              "    </tr>\n",
              "    <tr>\n",
              "      <th>major_purchase</th>\n",
              "      <td>4041.831683</td>\n",
              "      <td>6113.950276</td>\n",
              "      <td>7902.047952</td>\n",
              "      <td>9551.535088</td>\n",
              "      <td>11378.738318</td>\n",
              "      <td>9916.666667</td>\n",
              "      <td>0.821782</td>\n",
              "      <td>0.858195</td>\n",
              "      <td>0.905095</td>\n",
              "      <td>0.934211</td>\n",
              "      <td>0.943925</td>\n",
              "      <td>0.888889</td>\n",
              "    </tr>\n",
              "    <tr>\n",
              "      <th>medical</th>\n",
              "      <td>4312.500000</td>\n",
              "      <td>5784.116022</td>\n",
              "      <td>8248.892405</td>\n",
              "      <td>10738.432836</td>\n",
              "      <td>9866.216216</td>\n",
              "      <td>18000.000000</td>\n",
              "      <td>0.625000</td>\n",
              "      <td>0.839779</td>\n",
              "      <td>0.829114</td>\n",
              "      <td>0.910448</td>\n",
              "      <td>0.945946</td>\n",
              "      <td>0.500000</td>\n",
              "    </tr>\n",
              "    <tr>\n",
              "      <th>moving</th>\n",
              "      <td>2807.222222</td>\n",
              "      <td>4632.941176</td>\n",
              "      <td>6034.876543</td>\n",
              "      <td>9957.926829</td>\n",
              "      <td>10174.038462</td>\n",
              "      <td>12595.000000</td>\n",
              "      <td>0.777778</td>\n",
              "      <td>0.764706</td>\n",
              "      <td>0.876543</td>\n",
              "      <td>0.829268</td>\n",
              "      <td>0.923077</td>\n",
              "      <td>1.000000</td>\n",
              "    </tr>\n",
              "    <tr>\n",
              "      <th>other</th>\n",
              "      <td>3617.613636</td>\n",
              "      <td>5714.943074</td>\n",
              "      <td>8037.781955</td>\n",
              "      <td>10242.636139</td>\n",
              "      <td>11430.348837</td>\n",
              "      <td>11844.827586</td>\n",
              "      <td>0.750000</td>\n",
              "      <td>0.816888</td>\n",
              "      <td>0.843262</td>\n",
              "      <td>0.896040</td>\n",
              "      <td>0.860465</td>\n",
              "      <td>0.724138</td>\n",
              "    </tr>\n",
              "    <tr>\n",
              "      <th>renewable_energy</th>\n",
              "      <td>2380.000000</td>\n",
              "      <td>4950.000000</td>\n",
              "      <td>8899.390244</td>\n",
              "      <td>9630.000000</td>\n",
              "      <td>14838.888889</td>\n",
              "      <td>4500.000000</td>\n",
              "      <td>0.600000</td>\n",
              "      <td>0.740741</td>\n",
              "      <td>0.829268</td>\n",
              "      <td>0.900000</td>\n",
              "      <td>0.888889</td>\n",
              "      <td>1.000000</td>\n",
              "    </tr>\n",
              "    <tr>\n",
              "      <th>small_business</th>\n",
              "      <td>4445.312500</td>\n",
              "      <td>8365.135542</td>\n",
              "      <td>12962.484549</td>\n",
              "      <td>16025.900000</td>\n",
              "      <td>17452.826087</td>\n",
              "      <td>20382.608696</td>\n",
              "      <td>0.645833</td>\n",
              "      <td>0.689759</td>\n",
              "      <td>0.703337</td>\n",
              "      <td>0.776000</td>\n",
              "      <td>0.791304</td>\n",
              "      <td>0.782609</td>\n",
              "    </tr>\n",
              "    <tr>\n",
              "      <th>vacation</th>\n",
              "      <td>2740.000000</td>\n",
              "      <td>4773.267327</td>\n",
              "      <td>5403.867403</td>\n",
              "      <td>6266.216216</td>\n",
              "      <td>7378.947368</td>\n",
              "      <td>5000.000000</td>\n",
              "      <td>0.800000</td>\n",
              "      <td>0.841584</td>\n",
              "      <td>0.845304</td>\n",
              "      <td>0.945946</td>\n",
              "      <td>0.947368</td>\n",
              "      <td>1.000000</td>\n",
              "    </tr>\n",
              "    <tr>\n",
              "      <th>wedding</th>\n",
              "      <td>4173.437500</td>\n",
              "      <td>6580.598958</td>\n",
              "      <td>9677.150000</td>\n",
              "      <td>12463.157895</td>\n",
              "      <td>11770.454545</td>\n",
              "      <td>12054.545455</td>\n",
              "      <td>0.812500</td>\n",
              "      <td>0.880208</td>\n",
              "      <td>0.900000</td>\n",
              "      <td>0.915789</td>\n",
              "      <td>0.909091</td>\n",
              "      <td>0.909091</td>\n",
              "    </tr>\n",
              "  </tbody>\n",
              "</table>\n",
              "</div>\n",
              "      <button class=\"colab-df-convert\" onclick=\"convertToInteractive('df-3ba913ab-7022-47fa-9524-cd2a190b3d2d')\"\n",
              "              title=\"Convert this dataframe to an interactive table.\"\n",
              "              style=\"display:none;\">\n",
              "\n",
              "  <svg xmlns=\"http://www.w3.org/2000/svg\" height=\"24px\"viewBox=\"0 0 24 24\"\n",
              "       width=\"24px\">\n",
              "    <path d=\"M0 0h24v24H0V0z\" fill=\"none\"/>\n",
              "    <path d=\"M18.56 5.44l.94 2.06.94-2.06 2.06-.94-2.06-.94-.94-2.06-.94 2.06-2.06.94zm-11 1L8.5 8.5l.94-2.06 2.06-.94-2.06-.94L8.5 2.5l-.94 2.06-2.06.94zm10 10l.94 2.06.94-2.06 2.06-.94-2.06-.94-.94-2.06-.94 2.06-2.06.94z\"/><path d=\"M17.41 7.96l-1.37-1.37c-.4-.4-.92-.59-1.43-.59-.52 0-1.04.2-1.43.59L10.3 9.45l-7.72 7.72c-.78.78-.78 2.05 0 2.83L4 21.41c.39.39.9.59 1.41.59.51 0 1.02-.2 1.41-.59l7.78-7.78 2.81-2.81c.8-.78.8-2.07 0-2.86zM5.41 20L4 18.59l7.72-7.72 1.47 1.35L5.41 20z\"/>\n",
              "  </svg>\n",
              "      </button>\n",
              "\n",
              "\n",
              "\n",
              "    <div id=\"df-c63e9d47-ed4f-41af-9b74-999befc2fe50\">\n",
              "      <button class=\"colab-df-quickchart\" onclick=\"quickchart('df-c63e9d47-ed4f-41af-9b74-999befc2fe50')\"\n",
              "              title=\"Suggest charts.\"\n",
              "              style=\"display:none;\">\n",
              "\n",
              "<svg xmlns=\"http://www.w3.org/2000/svg\" height=\"24px\"viewBox=\"0 0 24 24\"\n",
              "     width=\"24px\">\n",
              "    <g>\n",
              "        <path d=\"M19 3H5c-1.1 0-2 .9-2 2v14c0 1.1.9 2 2 2h14c1.1 0 2-.9 2-2V5c0-1.1-.9-2-2-2zM9 17H7v-7h2v7zm4 0h-2V7h2v10zm4 0h-2v-4h2v4z\"/>\n",
              "    </g>\n",
              "</svg>\n",
              "      </button>\n",
              "    </div>\n",
              "\n",
              "<style>\n",
              "  .colab-df-quickchart {\n",
              "    background-color: #E8F0FE;\n",
              "    border: none;\n",
              "    border-radius: 50%;\n",
              "    cursor: pointer;\n",
              "    display: none;\n",
              "    fill: #1967D2;\n",
              "    height: 32px;\n",
              "    padding: 0 0 0 0;\n",
              "    width: 32px;\n",
              "  }\n",
              "\n",
              "  .colab-df-quickchart:hover {\n",
              "    background-color: #E2EBFA;\n",
              "    box-shadow: 0px 1px 2px rgba(60, 64, 67, 0.3), 0px 1px 3px 1px rgba(60, 64, 67, 0.15);\n",
              "    fill: #174EA6;\n",
              "  }\n",
              "\n",
              "  [theme=dark] .colab-df-quickchart {\n",
              "    background-color: #3B4455;\n",
              "    fill: #D2E3FC;\n",
              "  }\n",
              "\n",
              "  [theme=dark] .colab-df-quickchart:hover {\n",
              "    background-color: #434B5C;\n",
              "    box-shadow: 0px 1px 3px 1px rgba(0, 0, 0, 0.15);\n",
              "    filter: drop-shadow(0px 1px 2px rgba(0, 0, 0, 0.3));\n",
              "    fill: #FFFFFF;\n",
              "  }\n",
              "</style>\n",
              "\n",
              "    <script>\n",
              "      async function quickchart(key) {\n",
              "        const containerElement = document.querySelector('#' + key);\n",
              "        const charts = await google.colab.kernel.invokeFunction(\n",
              "            'suggestCharts', [key], {});\n",
              "      }\n",
              "    </script>\n",
              "\n",
              "      <script>\n",
              "\n",
              "function displayQuickchartButton(domScope) {\n",
              "  let quickchartButtonEl =\n",
              "    domScope.querySelector('#df-c63e9d47-ed4f-41af-9b74-999befc2fe50 button.colab-df-quickchart');\n",
              "  quickchartButtonEl.style.display =\n",
              "    google.colab.kernel.accessAllowed ? 'block' : 'none';\n",
              "}\n",
              "\n",
              "        displayQuickchartButton(document);\n",
              "      </script>\n",
              "      <style>\n",
              "    .colab-df-container {\n",
              "      display:flex;\n",
              "      flex-wrap:wrap;\n",
              "      gap: 12px;\n",
              "    }\n",
              "\n",
              "    .colab-df-convert {\n",
              "      background-color: #E8F0FE;\n",
              "      border: none;\n",
              "      border-radius: 50%;\n",
              "      cursor: pointer;\n",
              "      display: none;\n",
              "      fill: #1967D2;\n",
              "      height: 32px;\n",
              "      padding: 0 0 0 0;\n",
              "      width: 32px;\n",
              "    }\n",
              "\n",
              "    .colab-df-convert:hover {\n",
              "      background-color: #E2EBFA;\n",
              "      box-shadow: 0px 1px 2px rgba(60, 64, 67, 0.3), 0px 1px 3px 1px rgba(60, 64, 67, 0.15);\n",
              "      fill: #174EA6;\n",
              "    }\n",
              "\n",
              "    [theme=dark] .colab-df-convert {\n",
              "      background-color: #3B4455;\n",
              "      fill: #D2E3FC;\n",
              "    }\n",
              "\n",
              "    [theme=dark] .colab-df-convert:hover {\n",
              "      background-color: #434B5C;\n",
              "      box-shadow: 0px 1px 3px 1px rgba(0, 0, 0, 0.15);\n",
              "      filter: drop-shadow(0px 1px 2px rgba(0, 0, 0, 0.3));\n",
              "      fill: #FFFFFF;\n",
              "    }\n",
              "  </style>\n",
              "\n",
              "      <script>\n",
              "        const buttonEl =\n",
              "          document.querySelector('#df-3ba913ab-7022-47fa-9524-cd2a190b3d2d button.colab-df-convert');\n",
              "        buttonEl.style.display =\n",
              "          google.colab.kernel.accessAllowed ? 'block' : 'none';\n",
              "\n",
              "        async function convertToInteractive(key) {\n",
              "          const element = document.querySelector('#df-3ba913ab-7022-47fa-9524-cd2a190b3d2d');\n",
              "          const dataTable =\n",
              "            await google.colab.kernel.invokeFunction('convertToInteractive',\n",
              "                                                     [key], {});\n",
              "          if (!dataTable) return;\n",
              "\n",
              "          const docLinkHtml = 'Like what you see? Visit the ' +\n",
              "            '<a target=\"_blank\" href=https://colab.research.google.com/notebooks/data_table.ipynb>data table notebook</a>'\n",
              "            + ' to learn more about interactive tables.';\n",
              "          element.innerHTML = '';\n",
              "          dataTable['output_type'] = 'display_data';\n",
              "          await google.colab.output.renderOutput(dataTable, element);\n",
              "          const docLink = document.createElement('div');\n",
              "          docLink.innerHTML = docLinkHtml;\n",
              "          element.appendChild(docLink);\n",
              "        }\n",
              "      </script>\n",
              "    </div>\n",
              "  </div>\n"
            ]
          },
          "metadata": {},
          "execution_count": 90
        }
      ]
    },
    {
      "cell_type": "markdown",
      "source": [
        "**Observations from above table**\n",
        "\n",
        "\n",
        "1.   Re-payment of educational and medical loan among the highest income group is very low. Also the average loan amout of these is relatively high.\n",
        "\n"
      ],
      "metadata": {
        "id": "W7UDpG2zTpvZ"
      }
    },
    {
      "cell_type": "code",
      "source": [
        "sns.boxplot(x=\"purpose\", y=\"loan_amnt\",hue=\"loan_status\",data=loan_data_status,hue_order=[1,0])\n",
        "plt.xticks(rotation=90)\n",
        "plt.show()"
      ],
      "metadata": {
        "colab": {
          "base_uri": "https://localhost:8080/",
          "height": 575
        },
        "id": "PqNDdV4FgC1K",
        "outputId": "c682d26d-2324-4e45-b65f-5935fefea247"
      },
      "execution_count": 91,
      "outputs": [
        {
          "output_type": "display_data",
          "data": {
            "text/plain": [
              "<Figure size 640x480 with 1 Axes>"
            ],
            "image/png": "[encoded data removed]"
          },
          "metadata": {}
        }
      ]
    },
    {
      "cell_type": "markdown",
      "source": [
        "**Below, you can see the higher the interest rate the probability of re-paying the loan is less. This is primarily seen in house, car and small business loans**"
      ],
      "metadata": {
        "id": "A7fglW4SPFXk"
      }
    },
    {
      "cell_type": "code",
      "source": [
        "sns.boxplot(x=\"purpose\", y=\"int_rate\",hue=\"loan_status\",data=loan_data_status,hue_order=[1,0])\n",
        "plt.xticks(rotation=90)\n",
        "plt.show()"
      ],
      "metadata": {
        "colab": {
          "base_uri": "https://localhost:8080/",
          "height": 575
        },
        "id": "O0Fq9UXz46ul",
        "outputId": "2dea7053-2615-47b4-f7d8-5abbb5308721"
      },
      "execution_count": 92,
      "outputs": [
        {
          "output_type": "display_data",
          "data": {
            "text/plain": [
              "<Figure size 640x480 with 1 Axes>"
            ],
            "image/png": "[encoded data removed]"
          },
          "metadata": {}
        }
      ]
    },
    {
      "cell_type": "code",
      "source": [
        "pd.pivot_table(index='purpose',values=('loan_status'),columns='annual_inc_range',data=loan_data_status,aggfunc=np.mean)"
      ],
      "metadata": {
        "colab": {
          "base_uri": "https://localhost:8080/",
          "height": 581
        },
        "id": "RaRxqalNVWI9",
        "outputId": "9c40274d-6d66-44fe-cbf7-9ca06894e0bf"
      },
      "execution_count": 93,
      "outputs": [
        {
          "output_type": "execute_result",
          "data": {
            "text/plain": [
              "annual_inc_range    (0, 20000]  (20000, 40000]  (40000, 80000]  \\\n",
              "purpose                                                          \n",
              "car                   0.855072        0.877384        0.893297   \n",
              "credit_card           0.901961        0.856405        0.892380   \n",
              "debt_consolidation    0.810748        0.813657        0.847784   \n",
              "educational           0.833333        0.806122        0.841121   \n",
              "home_improvement      0.818182        0.848558        0.857827   \n",
              "house                 0.777778        0.788732        0.870787   \n",
              "major_purchase        0.821782        0.858195        0.905095   \n",
              "medical               0.625000        0.839779        0.829114   \n",
              "moving                0.777778        0.764706        0.876543   \n",
              "other                 0.750000        0.816888        0.843262   \n",
              "renewable_energy      0.600000        0.740741        0.829268   \n",
              "small_business        0.645833        0.689759        0.703337   \n",
              "vacation              0.800000        0.841584        0.845304   \n",
              "wedding               0.812500        0.880208        0.900000   \n",
              "\n",
              "annual_inc_range    (80000, 100000]  (100000, 120000]  (120000, 140000]  \n",
              "purpose                                                                  \n",
              "car                        0.900000          0.905882          0.937500  \n",
              "credit_card                0.908065          0.918699          0.936508  \n",
              "debt_consolidation         0.873624          0.886660          0.863636  \n",
              "educational                0.840000          0.842105          0.500000  \n",
              "home_improvement           0.895928          0.945098          0.936170  \n",
              "house                      0.847826          0.750000          0.875000  \n",
              "major_purchase             0.934211          0.943925          0.888889  \n",
              "medical                    0.910448          0.945946          0.500000  \n",
              "moving                     0.829268          0.923077          1.000000  \n",
              "other                      0.896040          0.860465          0.724138  \n",
              "renewable_energy           0.900000          0.888889          1.000000  \n",
              "small_business             0.776000          0.791304          0.782609  \n",
              "vacation                   0.945946          0.947368          1.000000  \n",
              "wedding                    0.915789          0.909091          0.909091  "
            ],
            "text/html": [
              "\n",
              "\n",
              "  <div id=\"df-4a831501-8ec2-4ffa-a28a-b409e91ab1c1\">\n",
              "    <div class=\"colab-df-container\">\n",
              "      <div>\n",
              "<style scoped>\n",
              "    .dataframe tbody tr th:only-of-type {\n",
              "        vertical-align: middle;\n",
              "    }\n",
              "\n",
              "    .dataframe tbody tr th {\n",
              "        vertical-align: top;\n",
              "    }\n",
              "\n",
              "    .dataframe thead th {\n",
              "        text-align: right;\n",
              "    }\n",
              "</style>\n",
              "<table border=\"1\" class=\"dataframe\">\n",
              "  <thead>\n",
              "    <tr style=\"text-align: right;\">\n",
              "      <th>annual_inc_range</th>\n",
              "      <th>(0, 20000]</th>\n",
              "      <th>(20000, 40000]</th>\n",
              "      <th>(40000, 80000]</th>\n",
              "      <th>(80000, 100000]</th>\n",
              "      <th>(100000, 120000]</th>\n",
              "      <th>(120000, 140000]</th>\n",
              "    </tr>\n",
              "    <tr>\n",
              "      <th>purpose</th>\n",
              "      <th></th>\n",
              "      <th></th>\n",
              "      <th></th>\n",
              "      <th></th>\n",
              "      <th></th>\n",
              "      <th></th>\n",
              "    </tr>\n",
              "  </thead>\n",
              "  <tbody>\n",
              "    <tr>\n",
              "      <th>car</th>\n",
              "      <td>0.855072</td>\n",
              "      <td>0.877384</td>\n",
              "      <td>0.893297</td>\n",
              "      <td>0.900000</td>\n",
              "      <td>0.905882</td>\n",
              "      <td>0.937500</td>\n",
              "    </tr>\n",
              "    <tr>\n",
              "      <th>credit_card</th>\n",
              "      <td>0.901961</td>\n",
              "      <td>0.856405</td>\n",
              "      <td>0.892380</td>\n",
              "      <td>0.908065</td>\n",
              "      <td>0.918699</td>\n",
              "      <td>0.936508</td>\n",
              "    </tr>\n",
              "    <tr>\n",
              "      <th>debt_consolidation</th>\n",
              "      <td>0.810748</td>\n",
              "      <td>0.813657</td>\n",
              "      <td>0.847784</td>\n",
              "      <td>0.873624</td>\n",
              "      <td>0.886660</td>\n",
              "      <td>0.863636</td>\n",
              "    </tr>\n",
              "    <tr>\n",
              "      <th>educational</th>\n",
              "      <td>0.833333</td>\n",
              "      <td>0.806122</td>\n",
              "      <td>0.841121</td>\n",
              "      <td>0.840000</td>\n",
              "      <td>0.842105</td>\n",
              "      <td>0.500000</td>\n",
              "    </tr>\n",
              "    <tr>\n",
              "      <th>home_improvement</th>\n",
              "      <td>0.818182</td>\n",
              "      <td>0.848558</td>\n",
              "      <td>0.857827</td>\n",
              "      <td>0.895928</td>\n",
              "      <td>0.945098</td>\n",
              "      <td>0.936170</td>\n",
              "    </tr>\n",
              "    <tr>\n",
              "      <th>house</th>\n",
              "      <td>0.777778</td>\n",
              "      <td>0.788732</td>\n",
              "      <td>0.870787</td>\n",
              "      <td>0.847826</td>\n",
              "      <td>0.750000</td>\n",
              "      <td>0.875000</td>\n",
              "    </tr>\n",
              "    <tr>\n",
              "      <th>major_purchase</th>\n",
              "      <td>0.821782</td>\n",
              "      <td>0.858195</td>\n",
              "      <td>0.905095</td>\n",
              "      <td>0.934211</td>\n",
              "      <td>0.943925</td>\n",
              "      <td>0.888889</td>\n",
              "    </tr>\n",
              "    <tr>\n",
              "      <th>medical</th>\n",
              "      <td>0.625000</td>\n",
              "      <td>0.839779</td>\n",
              "      <td>0.829114</td>\n",
              "      <td>0.910448</td>\n",
              "      <td>0.945946</td>\n",
              "      <td>0.500000</td>\n",
              "    </tr>\n",
              "    <tr>\n",
              "      <th>moving</th>\n",
              "      <td>0.777778</td>\n",
              "      <td>0.764706</td>\n",
              "      <td>0.876543</td>\n",
              "      <td>0.829268</td>\n",
              "      <td>0.923077</td>\n",
              "      <td>1.000000</td>\n",
              "    </tr>\n",
              "    <tr>\n",
              "      <th>other</th>\n",
              "      <td>0.750000</td>\n",
              "      <td>0.816888</td>\n",
              "      <td>0.843262</td>\n",
              "      <td>0.896040</td>\n",
              "      <td>0.860465</td>\n",
              "      <td>0.724138</td>\n",
              "    </tr>\n",
              "    <tr>\n",
              "      <th>renewable_energy</th>\n",
              "      <td>0.600000</td>\n",
              "      <td>0.740741</td>\n",
              "      <td>0.829268</td>\n",
              "      <td>0.900000</td>\n",
              "      <td>0.888889</td>\n",
              "      <td>1.000000</td>\n",
              "    </tr>\n",
              "    <tr>\n",
              "      <th>small_business</th>\n",
              "      <td>0.645833</td>\n",
              "      <td>0.689759</td>\n",
              "      <td>0.703337</td>\n",
              "      <td>0.776000</td>\n",
              "      <td>0.791304</td>\n",
              "      <td>0.782609</td>\n",
              "    </tr>\n",
              "    <tr>\n",
              "      <th>vacation</th>\n",
              "      <td>0.800000</td>\n",
              "      <td>0.841584</td>\n",
              "      <td>0.845304</td>\n",
              "      <td>0.945946</td>\n",
              "      <td>0.947368</td>\n",
              "      <td>1.000000</td>\n",
              "    </tr>\n",
              "    <tr>\n",
              "      <th>wedding</th>\n",
              "      <td>0.812500</td>\n",
              "      <td>0.880208</td>\n",
              "      <td>0.900000</td>\n",
              "      <td>0.915789</td>\n",
              "      <td>0.909091</td>\n",
              "      <td>0.909091</td>\n",
              "    </tr>\n",
              "  </tbody>\n",
              "</table>\n",
              "</div>\n",
              "      <button class=\"colab-df-convert\" onclick=\"convertToInteractive('df-4a831501-8ec2-4ffa-a28a-b409e91ab1c1')\"\n",
              "              title=\"Convert this dataframe to an interactive table.\"\n",
              "              style=\"display:none;\">\n",
              "\n",
              "  <svg xmlns=\"http://www.w3.org/2000/svg\" height=\"24px\"viewBox=\"0 0 24 24\"\n",
              "       width=\"24px\">\n",
              "    <path d=\"M0 0h24v24H0V0z\" fill=\"none\"/>\n",
              "    <path d=\"M18.56 5.44l.94 2.06.94-2.06 2.06-.94-2.06-.94-.94-2.06-.94 2.06-2.06.94zm-11 1L8.5 8.5l.94-2.06 2.06-.94-2.06-.94L8.5 2.5l-.94 2.06-2.06.94zm10 10l.94 2.06.94-2.06 2.06-.94-2.06-.94-.94-2.06-.94 2.06-2.06.94z\"/><path d=\"M17.41 7.96l-1.37-1.37c-.4-.4-.92-.59-1.43-.59-.52 0-1.04.2-1.43.59L10.3 9.45l-7.72 7.72c-.78.78-.78 2.05 0 2.83L4 21.41c.39.39.9.59 1.41.59.51 0 1.02-.2 1.41-.59l7.78-7.78 2.81-2.81c.8-.78.8-2.07 0-2.86zM5.41 20L4 18.59l7.72-7.72 1.47 1.35L5.41 20z\"/>\n",
              "  </svg>\n",
              "      </button>\n",
              "\n",
              "\n",
              "\n",
              "    <div id=\"df-2fee40b4-e34a-4a40-bfe0-28fe5f2d7ade\">\n",
              "      <button class=\"colab-df-quickchart\" onclick=\"quickchart('df-2fee40b4-e34a-4a40-bfe0-28fe5f2d7ade')\"\n",
              "              title=\"Suggest charts.\"\n",
              "              style=\"display:none;\">\n",
              "\n",
              "<svg xmlns=\"http://www.w3.org/2000/svg\" height=\"24px\"viewBox=\"0 0 24 24\"\n",
              "     width=\"24px\">\n",
              "    <g>\n",
              "        <path d=\"M19 3H5c-1.1 0-2 .9-2 2v14c0 1.1.9 2 2 2h14c1.1 0 2-.9 2-2V5c0-1.1-.9-2-2-2zM9 17H7v-7h2v7zm4 0h-2V7h2v10zm4 0h-2v-4h2v4z\"/>\n",
              "    </g>\n",
              "</svg>\n",
              "      </button>\n",
              "    </div>\n",
              "\n",
              "<style>\n",
              "  .colab-df-quickchart {\n",
              "    background-color: #E8F0FE;\n",
              "    border: none;\n",
              "    border-radius: 50%;\n",
              "    cursor: pointer;\n",
              "    display: none;\n",
              "    fill: #1967D2;\n",
              "    height: 32px;\n",
              "    padding: 0 0 0 0;\n",
              "    width: 32px;\n",
              "  }\n",
              "\n",
              "  .colab-df-quickchart:hover {\n",
              "    background-color: #E2EBFA;\n",
              "    box-shadow: 0px 1px 2px rgba(60, 64, 67, 0.3), 0px 1px 3px 1px rgba(60, 64, 67, 0.15);\n",
              "    fill: #174EA6;\n",
              "  }\n",
              "\n",
              "  [theme=dark] .colab-df-quickchart {\n",
              "    background-color: #3B4455;\n",
              "    fill: #D2E3FC;\n",
              "  }\n",
              "\n",
              "  [theme=dark] .colab-df-quickchart:hover {\n",
              "    background-color: #434B5C;\n",
              "    box-shadow: 0px 1px 3px 1px rgba(0, 0, 0, 0.15);\n",
              "    filter: drop-shadow(0px 1px 2px rgba(0, 0, 0, 0.3));\n",
              "    fill: #FFFFFF;\n",
              "  }\n",
              "</style>\n",
              "\n",
              "    <script>\n",
              "      async function quickchart(key) {\n",
              "        const containerElement = document.querySelector('#' + key);\n",
              "        const charts = await google.colab.kernel.invokeFunction(\n",
              "            'suggestCharts', [key], {});\n",
              "      }\n",
              "    </script>\n",
              "\n",
              "      <script>\n",
              "\n",
              "function displayQuickchartButton(domScope) {\n",
              "  let quickchartButtonEl =\n",
              "    domScope.querySelector('#df-2fee40b4-e34a-4a40-bfe0-28fe5f2d7ade button.colab-df-quickchart');\n",
              "  quickchartButtonEl.style.display =\n",
              "    google.colab.kernel.accessAllowed ? 'block' : 'none';\n",
              "}\n",
              "\n",
              "        displayQuickchartButton(document);\n",
              "      </script>\n",
              "      <style>\n",
              "    .colab-df-container {\n",
              "      display:flex;\n",
              "      flex-wrap:wrap;\n",
              "      gap: 12px;\n",
              "    }\n",
              "\n",
              "    .colab-df-convert {\n",
              "      background-color: #E8F0FE;\n",
              "      border: none;\n",
              "      border-radius: 50%;\n",
              "      cursor: pointer;\n",
              "      display: none;\n",
              "      fill: #1967D2;\n",
              "      height: 32px;\n",
              "      padding: 0 0 0 0;\n",
              "      width: 32px;\n",
              "    }\n",
              "\n",
              "    .colab-df-convert:hover {\n",
              "      background-color: #E2EBFA;\n",
              "      box-shadow: 0px 1px 2px rgba(60, 64, 67, 0.3), 0px 1px 3px 1px rgba(60, 64, 67, 0.15);\n",
              "      fill: #174EA6;\n",
              "    }\n",
              "\n",
              "    [theme=dark] .colab-df-convert {\n",
              "      background-color: #3B4455;\n",
              "      fill: #D2E3FC;\n",
              "    }\n",
              "\n",
              "    [theme=dark] .colab-df-convert:hover {\n",
              "      background-color: #434B5C;\n",
              "      box-shadow: 0px 1px 3px 1px rgba(0, 0, 0, 0.15);\n",
              "      filter: drop-shadow(0px 1px 2px rgba(0, 0, 0, 0.3));\n",
              "      fill: #FFFFFF;\n",
              "    }\n",
              "  </style>\n",
              "\n",
              "      <script>\n",
              "        const buttonEl =\n",
              "          document.querySelector('#df-4a831501-8ec2-4ffa-a28a-b409e91ab1c1 button.colab-df-convert');\n",
              "        buttonEl.style.display =\n",
              "          google.colab.kernel.accessAllowed ? 'block' : 'none';\n",
              "\n",
              "        async function convertToInteractive(key) {\n",
              "          const element = document.querySelector('#df-4a831501-8ec2-4ffa-a28a-b409e91ab1c1');\n",
              "          const dataTable =\n",
              "            await google.colab.kernel.invokeFunction('convertToInteractive',\n",
              "                                                     [key], {});\n",
              "          if (!dataTable) return;\n",
              "\n",
              "          const docLinkHtml = 'Like what you see? Visit the ' +\n",
              "            '<a target=\"_blank\" href=https://colab.research.google.com/notebooks/data_table.ipynb>data table notebook</a>'\n",
              "            + ' to learn more about interactive tables.';\n",
              "          element.innerHTML = '';\n",
              "          dataTable['output_type'] = 'display_data';\n",
              "          await google.colab.output.renderOutput(dataTable, element);\n",
              "          const docLink = document.createElement('div');\n",
              "          docLink.innerHTML = docLinkHtml;\n",
              "          element.appendChild(docLink);\n",
              "        }\n",
              "      </script>\n",
              "    </div>\n",
              "  </div>\n"
            ]
          },
          "metadata": {},
          "execution_count": 93
        }
      ]
    },
    {
      "cell_type": "markdown",
      "source": [
        "Grade and Sub-grade comparision"
      ],
      "metadata": {
        "id": "he2utPcEUHgS"
      }
    },
    {
      "cell_type": "markdown",
      "source": [
        "Pivot table to compare grades against income range and see the loan status\n",
        "\n",
        "**obsevation**\n",
        "Low loan grades for the customer with annual income less than 40k is resulting in higher defaults"
      ],
      "metadata": {
        "id": "0Y9_4DT2ZQwY"
      }
    },
    {
      "cell_type": "code",
      "source": [
        "with pd.option_context('display.max_rows', None, 'display.max_columns', None):\n",
        "    print(pd.pivot_table(index=['grade'],values='loan_status',columns='annual_inc_range',data=loan_data_status,aggfunc=np.mean))"
      ],
      "metadata": {
        "colab": {
          "base_uri": "https://localhost:8080/"
        },
        "id": "33_TdrYzUM6D",
        "outputId": "d6d4da69-e1c9-466b-d9d9-69bf1b83c5b2"
      },
      "execution_count": 94,
      "outputs": [
        {
          "output_type": "stream",
          "name": "stdout",
          "text": [
            "annual_inc_range  (0, 20000]  (20000, 40000]  (40000, 80000]  (80000, 100000]  \\\n",
            "grade                                                                           \n",
            "A                   0.882353        0.909982        0.942948         0.965004   \n",
            "B                   0.823848        0.840398        0.880444         0.905395   \n",
            "C                   0.744275        0.790685        0.827514         0.860438   \n",
            "D                   0.718563        0.740741        0.779600         0.812395   \n",
            "E                   0.709091        0.678899        0.713505         0.786704   \n",
            "F                   0.777778        0.637931        0.629386         0.745098   \n",
            "G                   0.333333        0.441176        0.638655         0.650000   \n",
            "\n",
            "annual_inc_range  (100000, 120000]  (120000, 140000]  \n",
            "grade                                                 \n",
            "A                         0.973597          0.965517  \n",
            "B                         0.924585          0.916667  \n",
            "C                         0.875576          0.872093  \n",
            "D                         0.824138          0.793103  \n",
            "E                         0.801020          0.800000  \n",
            "F                         0.768421          0.600000  \n",
            "G                         0.727273          0.600000  \n"
          ]
        }
      ]
    },
    {
      "cell_type": "markdown",
      "source": [
        "**From below boxplot, we can conclude that even when the ratings are low, customer with higher income are repaying the loans.\n",
        "Customer with low income are repaying less even when their loan grade is good**"
      ],
      "metadata": {
        "id": "N14f7yHOYM4v"
      }
    },
    {
      "cell_type": "code",
      "source": [
        "sns.boxplot(x=\"grade\", y=\"annual_inc\",hue=\"loan_status\",data=loan_data_status,hue_order=[1,0],order=['A', 'B', 'C','D','E','F'])\n",
        "plt.xticks(rotation=90)\n",
        "plt.show()"
      ],
      "metadata": {
        "colab": {
          "base_uri": "https://localhost:8080/",
          "height": 446
        },
        "id": "0YRzJx9bWl9E",
        "outputId": "caf7bd25-e970-4af3-b41d-c0f54d91a4c3"
      },
      "execution_count": 95,
      "outputs": [
        {
          "output_type": "display_data",
          "data": {
            "text/plain": [
              "<Figure size 640x480 with 1 Axes>"
            ],
            "image/png": "[encoded data removed]"
          },
          "metadata": {}
        }
      ]
    },
    {
      "cell_type": "code",
      "source": [
        "#sns.barplot(x=loan_data_status['purpose'],y=len(loan_data_status['loan_status']),estimator=lambda x: len(x=='Fully Paid')*100.0/len(x))\n",
        "pd.pivot_table(index='purpose',values='loan_status',columns='emp_length',data=loan_data_status,aggfunc=(lambda x : sum(x)/len(x) * 100))\n",
        "\n"
      ],
      "metadata": {
        "colab": {
          "base_uri": "https://localhost:8080/",
          "height": 584
        },
        "id": "7lpvmTjQ34To",
        "outputId": "c1fcf5c2-4142-4175-90e8-90885f0ff6d4"
      },
      "execution_count": 96,
      "outputs": [
        {
          "output_type": "execute_result",
          "data": {
            "text/plain": [
              "emp_length                 0           1          2          3          4   \\\n",
              "purpose                                                                      \n",
              "car                 87.727273   86.923077  93.243243  88.111888  87.068966   \n",
              "credit_card         87.843705   91.183295  91.245136  89.791667  89.260143   \n",
              "debt_consolidation  84.064969   84.712901  86.349372  85.836177  86.390927   \n",
              "educational         79.220779   88.372093  82.222222  73.076923  73.333333   \n",
              "home_improvement    83.157895   81.600000  87.551867  89.082969  89.393939   \n",
              "house               91.111111   82.142857  79.166667  92.500000  87.096774   \n",
              "major_purchase      87.179487   88.571429  90.128755  86.919831  92.090395   \n",
              "medical             78.494624   80.357143  86.486486  83.870968  88.461538   \n",
              "moving              80.851064   79.661017  83.606557  88.135593  82.000000   \n",
              "other               82.995320   84.795322  82.938389  83.146067  83.552632   \n",
              "renewable_energy    92.307692   71.428571  83.333333  60.000000  57.142857   \n",
              "small_business      72.222222   70.303030  76.795580  71.270718  67.361111   \n",
              "vacation            82.758621  100.000000  90.625000  90.909091  86.486486   \n",
              "wedding             90.579710   96.341463  87.288136  90.000000  92.771084   \n",
              "\n",
              "emp_length                 5           6          7           8           9   \\\n",
              "purpose                                                                        \n",
              "car                 90.163934   88.764045  86.301370   91.228070   92.857143   \n",
              "credit_card         86.253369   87.596899  86.301370   89.808917   91.358025   \n",
              "debt_consolidation  85.387812   84.667969  83.396226   84.522003   84.210526   \n",
              "educational         80.952381  100.000000  88.888889  100.000000   87.500000   \n",
              "home_improvement    84.924623   90.070922  90.566038   90.434783   86.746988   \n",
              "house               92.857143   69.230769  72.222222   83.333333   87.500000   \n",
              "major_purchase      88.888889   88.793103  94.871795   93.548387   90.566038   \n",
              "medical             88.095238   86.666667  80.000000   76.923077  100.000000   \n",
              "moving              81.081081   92.000000  87.500000   76.923077   76.470588   \n",
              "other               85.512367   83.625731  83.443709   87.288136   89.380531   \n",
              "renewable_energy    80.000000  100.000000  80.000000   50.000000  100.000000   \n",
              "small_business      72.357724   75.324675  78.666667   64.705882   86.842105   \n",
              "vacation            88.888889   82.352941  64.285714   80.000000   81.250000   \n",
              "wedding             86.000000   92.156863  91.176471   91.304348   94.444444   \n",
              "\n",
              "emp_length                 10  \n",
              "purpose                        \n",
              "car                 88.888889  \n",
              "credit_card         88.612836  \n",
              "debt_consolidation  81.968099  \n",
              "educational         88.888889  \n",
              "home_improvement    87.966805  \n",
              "house               78.688525  \n",
              "major_purchase      89.583333  \n",
              "medical             84.313725  \n",
              "moving              88.333333  \n",
              "other               82.000000  \n",
              "renewable_energy    86.956522  \n",
              "small_business      67.931034  \n",
              "vacation            85.714286  \n",
              "wedding             82.608696  "
            ],
            "text/html": [
              "\n",
              "\n",
              "  <div id=\"df-7d4aa83b-3b30-4cf6-93c0-60bcd1b3b17d\">\n",
              "    <div class=\"colab-df-container\">\n",
              "      <div>\n",
              "<style scoped>\n",
              "    .dataframe tbody tr th:only-of-type {\n",
              "        vertical-align: middle;\n",
              "    }\n",
              "\n",
              "    .dataframe tbody tr th {\n",
              "        vertical-align: top;\n",
              "    }\n",
              "\n",
              "    .dataframe thead th {\n",
              "        text-align: right;\n",
              "    }\n",
              "</style>\n",
              "<table border=\"1\" class=\"dataframe\">\n",
              "  <thead>\n",
              "    <tr style=\"text-align: right;\">\n",
              "      <th>emp_length</th>\n",
              "      <th>0</th>\n",
              "      <th>1</th>\n",
              "      <th>2</th>\n",
              "      <th>3</th>\n",
              "      <th>4</th>\n",
              "      <th>5</th>\n",
              "      <th>6</th>\n",
              "      <th>7</th>\n",
              "      <th>8</th>\n",
              "      <th>9</th>\n",
              "      <th>10</th>\n",
              "    </tr>\n",
              "    <tr>\n",
              "      <th>purpose</th>\n",
              "      <th></th>\n",
              "      <th></th>\n",
              "      <th></th>\n",
              "      <th></th>\n",
              "      <th></th>\n",
              "      <th></th>\n",
              "      <th></th>\n",
              "      <th></th>\n",
              "      <th></th>\n",
              "      <th></th>\n",
              "      <th></th>\n",
              "    </tr>\n",
              "  </thead>\n",
              "  <tbody>\n",
              "    <tr>\n",
              "      <th>car</th>\n",
              "      <td>87.727273</td>\n",
              "      <td>86.923077</td>\n",
              "      <td>93.243243</td>\n",
              "      <td>88.111888</td>\n",
              "      <td>87.068966</td>\n",
              "      <td>90.163934</td>\n",
              "      <td>88.764045</td>\n",
              "      <td>86.301370</td>\n",
              "      <td>91.228070</td>\n",
              "      <td>92.857143</td>\n",
              "      <td>88.888889</td>\n",
              "    </tr>\n",
              "    <tr>\n",
              "      <th>credit_card</th>\n",
              "      <td>87.843705</td>\n",
              "      <td>91.183295</td>\n",
              "      <td>91.245136</td>\n",
              "      <td>89.791667</td>\n",
              "      <td>89.260143</td>\n",
              "      <td>86.253369</td>\n",
              "      <td>87.596899</td>\n",
              "      <td>86.301370</td>\n",
              "      <td>89.808917</td>\n",
              "      <td>91.358025</td>\n",
              "      <td>88.612836</td>\n",
              "    </tr>\n",
              "    <tr>\n",
              "      <th>debt_consolidation</th>\n",
              "      <td>84.064969</td>\n",
              "      <td>84.712901</td>\n",
              "      <td>86.349372</td>\n",
              "      <td>85.836177</td>\n",
              "      <td>86.390927</td>\n",
              "      <td>85.387812</td>\n",
              "      <td>84.667969</td>\n",
              "      <td>83.396226</td>\n",
              "      <td>84.522003</td>\n",
              "      <td>84.210526</td>\n",
              "      <td>81.968099</td>\n",
              "    </tr>\n",
              "    <tr>\n",
              "      <th>educational</th>\n",
              "      <td>79.220779</td>\n",
              "      <td>88.372093</td>\n",
              "      <td>82.222222</td>\n",
              "      <td>73.076923</td>\n",
              "      <td>73.333333</td>\n",
              "      <td>80.952381</td>\n",
              "      <td>100.000000</td>\n",
              "      <td>88.888889</td>\n",
              "      <td>100.000000</td>\n",
              "      <td>87.500000</td>\n",
              "      <td>88.888889</td>\n",
              "    </tr>\n",
              "    <tr>\n",
              "      <th>home_improvement</th>\n",
              "      <td>83.157895</td>\n",
              "      <td>81.600000</td>\n",
              "      <td>87.551867</td>\n",
              "      <td>89.082969</td>\n",
              "      <td>89.393939</td>\n",
              "      <td>84.924623</td>\n",
              "      <td>90.070922</td>\n",
              "      <td>90.566038</td>\n",
              "      <td>90.434783</td>\n",
              "      <td>86.746988</td>\n",
              "      <td>87.966805</td>\n",
              "    </tr>\n",
              "    <tr>\n",
              "      <th>house</th>\n",
              "      <td>91.111111</td>\n",
              "      <td>82.142857</td>\n",
              "      <td>79.166667</td>\n",
              "      <td>92.500000</td>\n",
              "      <td>87.096774</td>\n",
              "      <td>92.857143</td>\n",
              "      <td>69.230769</td>\n",
              "      <td>72.222222</td>\n",
              "      <td>83.333333</td>\n",
              "      <td>87.500000</td>\n",
              "      <td>78.688525</td>\n",
              "    </tr>\n",
              "    <tr>\n",
              "      <th>major_purchase</th>\n",
              "      <td>87.179487</td>\n",
              "      <td>88.571429</td>\n",
              "      <td>90.128755</td>\n",
              "      <td>86.919831</td>\n",
              "      <td>92.090395</td>\n",
              "      <td>88.888889</td>\n",
              "      <td>88.793103</td>\n",
              "      <td>94.871795</td>\n",
              "      <td>93.548387</td>\n",
              "      <td>90.566038</td>\n",
              "      <td>89.583333</td>\n",
              "    </tr>\n",
              "    <tr>\n",
              "      <th>medical</th>\n",
              "      <td>78.494624</td>\n",
              "      <td>80.357143</td>\n",
              "      <td>86.486486</td>\n",
              "      <td>83.870968</td>\n",
              "      <td>88.461538</td>\n",
              "      <td>88.095238</td>\n",
              "      <td>86.666667</td>\n",
              "      <td>80.000000</td>\n",
              "      <td>76.923077</td>\n",
              "      <td>100.000000</td>\n",
              "      <td>84.313725</td>\n",
              "    </tr>\n",
              "    <tr>\n",
              "      <th>moving</th>\n",
              "      <td>80.851064</td>\n",
              "      <td>79.661017</td>\n",
              "      <td>83.606557</td>\n",
              "      <td>88.135593</td>\n",
              "      <td>82.000000</td>\n",
              "      <td>81.081081</td>\n",
              "      <td>92.000000</td>\n",
              "      <td>87.500000</td>\n",
              "      <td>76.923077</td>\n",
              "      <td>76.470588</td>\n",
              "      <td>88.333333</td>\n",
              "    </tr>\n",
              "    <tr>\n",
              "      <th>other</th>\n",
              "      <td>82.995320</td>\n",
              "      <td>84.795322</td>\n",
              "      <td>82.938389</td>\n",
              "      <td>83.146067</td>\n",
              "      <td>83.552632</td>\n",
              "      <td>85.512367</td>\n",
              "      <td>83.625731</td>\n",
              "      <td>83.443709</td>\n",
              "      <td>87.288136</td>\n",
              "      <td>89.380531</td>\n",
              "      <td>82.000000</td>\n",
              "    </tr>\n",
              "    <tr>\n",
              "      <th>renewable_energy</th>\n",
              "      <td>92.307692</td>\n",
              "      <td>71.428571</td>\n",
              "      <td>83.333333</td>\n",
              "      <td>60.000000</td>\n",
              "      <td>57.142857</td>\n",
              "      <td>80.000000</td>\n",
              "      <td>100.000000</td>\n",
              "      <td>80.000000</td>\n",
              "      <td>50.000000</td>\n",
              "      <td>100.000000</td>\n",
              "      <td>86.956522</td>\n",
              "    </tr>\n",
              "    <tr>\n",
              "      <th>small_business</th>\n",
              "      <td>72.222222</td>\n",
              "      <td>70.303030</td>\n",
              "      <td>76.795580</td>\n",
              "      <td>71.270718</td>\n",
              "      <td>67.361111</td>\n",
              "      <td>72.357724</td>\n",
              "      <td>75.324675</td>\n",
              "      <td>78.666667</td>\n",
              "      <td>64.705882</td>\n",
              "      <td>86.842105</td>\n",
              "      <td>67.931034</td>\n",
              "    </tr>\n",
              "    <tr>\n",
              "      <th>vacation</th>\n",
              "      <td>82.758621</td>\n",
              "      <td>100.000000</td>\n",
              "      <td>90.625000</td>\n",
              "      <td>90.909091</td>\n",
              "      <td>86.486486</td>\n",
              "      <td>88.888889</td>\n",
              "      <td>82.352941</td>\n",
              "      <td>64.285714</td>\n",
              "      <td>80.000000</td>\n",
              "      <td>81.250000</td>\n",
              "      <td>85.714286</td>\n",
              "    </tr>\n",
              "    <tr>\n",
              "      <th>wedding</th>\n",
              "      <td>90.579710</td>\n",
              "      <td>96.341463</td>\n",
              "      <td>87.288136</td>\n",
              "      <td>90.000000</td>\n",
              "      <td>92.771084</td>\n",
              "      <td>86.000000</td>\n",
              "      <td>92.156863</td>\n",
              "      <td>91.176471</td>\n",
              "      <td>91.304348</td>\n",
              "      <td>94.444444</td>\n",
              "      <td>82.608696</td>\n",
              "    </tr>\n",
              "  </tbody>\n",
              "</table>\n",
              "</div>\n",
              "      <button class=\"colab-df-convert\" onclick=\"convertToInteractive('df-7d4aa83b-3b30-4cf6-93c0-60bcd1b3b17d')\"\n",
              "              title=\"Convert this dataframe to an interactive table.\"\n",
              "              style=\"display:none;\">\n",
              "\n",
              "  <svg xmlns=\"http://www.w3.org/2000/svg\" height=\"24px\"viewBox=\"0 0 24 24\"\n",
              "       width=\"24px\">\n",
              "    <path d=\"M0 0h24v24H0V0z\" fill=\"none\"/>\n",
              "    <path d=\"M18.56 5.44l.94 2.06.94-2.06 2.06-.94-2.06-.94-.94-2.06-.94 2.06-2.06.94zm-11 1L8.5 8.5l.94-2.06 2.06-.94-2.06-.94L8.5 2.5l-.94 2.06-2.06.94zm10 10l.94 2.06.94-2.06 2.06-.94-2.06-.94-.94-2.06-.94 2.06-2.06.94z\"/><path d=\"M17.41 7.96l-1.37-1.37c-.4-.4-.92-.59-1.43-.59-.52 0-1.04.2-1.43.59L10.3 9.45l-7.72 7.72c-.78.78-.78 2.05 0 2.83L4 21.41c.39.39.9.59 1.41.59.51 0 1.02-.2 1.41-.59l7.78-7.78 2.81-2.81c.8-.78.8-2.07 0-2.86zM5.41 20L4 18.59l7.72-7.72 1.47 1.35L5.41 20z\"/>\n",
              "  </svg>\n",
              "      </button>\n",
              "\n",
              "\n",
              "\n",
              "    <div id=\"df-c24c149b-d4b2-4a11-9917-a766b713250f\">\n",
              "      <button class=\"colab-df-quickchart\" onclick=\"quickchart('df-c24c149b-d4b2-4a11-9917-a766b713250f')\"\n",
              "              title=\"Suggest charts.\"\n",
              "              style=\"display:none;\">\n",
              "\n",
              "<svg xmlns=\"http://www.w3.org/2000/svg\" height=\"24px\"viewBox=\"0 0 24 24\"\n",
              "     width=\"24px\">\n",
              "    <g>\n",
              "        <path d=\"M19 3H5c-1.1 0-2 .9-2 2v14c0 1.1.9 2 2 2h14c1.1 0 2-.9 2-2V5c0-1.1-.9-2-2-2zM9 17H7v-7h2v7zm4 0h-2V7h2v10zm4 0h-2v-4h2v4z\"/>\n",
              "    </g>\n",
              "</svg>\n",
              "      </button>\n",
              "    </div>\n",
              "\n",
              "<style>\n",
              "  .colab-df-quickchart {\n",
              "    background-color: #E8F0FE;\n",
              "    border: none;\n",
              "    border-radius: 50%;\n",
              "    cursor: pointer;\n",
              "    display: none;\n",
              "    fill: #1967D2;\n",
              "    height: 32px;\n",
              "    padding: 0 0 0 0;\n",
              "    width: 32px;\n",
              "  }\n",
              "\n",
              "  .colab-df-quickchart:hover {\n",
              "    background-color: #E2EBFA;\n",
              "    box-shadow: 0px 1px 2px rgba(60, 64, 67, 0.3), 0px 1px 3px 1px rgba(60, 64, 67, 0.15);\n",
              "    fill: #174EA6;\n",
              "  }\n",
              "\n",
              "  [theme=dark] .colab-df-quickchart {\n",
              "    background-color: #3B4455;\n",
              "    fill: #D2E3FC;\n",
              "  }\n",
              "\n",
              "  [theme=dark] .colab-df-quickchart:hover {\n",
              "    background-color: #434B5C;\n",
              "    box-shadow: 0px 1px 3px 1px rgba(0, 0, 0, 0.15);\n",
              "    filter: drop-shadow(0px 1px 2px rgba(0, 0, 0, 0.3));\n",
              "    fill: #FFFFFF;\n",
              "  }\n",
              "</style>\n",
              "\n",
              "    <script>\n",
              "      async function quickchart(key) {\n",
              "        const containerElement = document.querySelector('#' + key);\n",
              "        const charts = await google.colab.kernel.invokeFunction(\n",
              "            'suggestCharts', [key], {});\n",
              "      }\n",
              "    </script>\n",
              "\n",
              "      <script>\n",
              "\n",
              "function displayQuickchartButton(domScope) {\n",
              "  let quickchartButtonEl =\n",
              "    domScope.querySelector('#df-c24c149b-d4b2-4a11-9917-a766b713250f button.colab-df-quickchart');\n",
              "  quickchartButtonEl.style.display =\n",
              "    google.colab.kernel.accessAllowed ? 'block' : 'none';\n",
              "}\n",
              "\n",
              "        displayQuickchartButton(document);\n",
              "      </script>\n",
              "      <style>\n",
              "    .colab-df-container {\n",
              "      display:flex;\n",
              "      flex-wrap:wrap;\n",
              "      gap: 12px;\n",
              "    }\n",
              "\n",
              "    .colab-df-convert {\n",
              "      background-color: #E8F0FE;\n",
              "      border: none;\n",
              "      border-radius: 50%;\n",
              "      cursor: pointer;\n",
              "      display: none;\n",
              "      fill: #1967D2;\n",
              "      height: 32px;\n",
              "      padding: 0 0 0 0;\n",
              "      width: 32px;\n",
              "    }\n",
              "\n",
              "    .colab-df-convert:hover {\n",
              "      background-color: #E2EBFA;\n",
              "      box-shadow: 0px 1px 2px rgba(60, 64, 67, 0.3), 0px 1px 3px 1px rgba(60, 64, 67, 0.15);\n",
              "      fill: #174EA6;\n",
              "    }\n",
              "\n",
              "    [theme=dark] .colab-df-convert {\n",
              "      background-color: #3B4455;\n",
              "      fill: #D2E3FC;\n",
              "    }\n",
              "\n",
              "    [theme=dark] .colab-df-convert:hover {\n",
              "      background-color: #434B5C;\n",
              "      box-shadow: 0px 1px 3px 1px rgba(0, 0, 0, 0.15);\n",
              "      filter: drop-shadow(0px 1px 2px rgba(0, 0, 0, 0.3));\n",
              "      fill: #FFFFFF;\n",
              "    }\n",
              "  </style>\n",
              "\n",
              "      <script>\n",
              "        const buttonEl =\n",
              "          document.querySelector('#df-7d4aa83b-3b30-4cf6-93c0-60bcd1b3b17d button.colab-df-convert');\n",
              "        buttonEl.style.display =\n",
              "          google.colab.kernel.accessAllowed ? 'block' : 'none';\n",
              "\n",
              "        async function convertToInteractive(key) {\n",
              "          const element = document.querySelector('#df-7d4aa83b-3b30-4cf6-93c0-60bcd1b3b17d');\n",
              "          const dataTable =\n",
              "            await google.colab.kernel.invokeFunction('convertToInteractive',\n",
              "                                                     [key], {});\n",
              "          if (!dataTable) return;\n",
              "\n",
              "          const docLinkHtml = 'Like what you see? Visit the ' +\n",
              "            '<a target=\"_blank\" href=https://colab.research.google.com/notebooks/data_table.ipynb>data table notebook</a>'\n",
              "            + ' to learn more about interactive tables.';\n",
              "          element.innerHTML = '';\n",
              "          dataTable['output_type'] = 'display_data';\n",
              "          await google.colab.output.renderOutput(dataTable, element);\n",
              "          const docLink = document.createElement('div');\n",
              "          docLink.innerHTML = docLinkHtml;\n",
              "          element.appendChild(docLink);\n",
              "        }\n",
              "      </script>\n",
              "    </div>\n",
              "  </div>\n"
            ]
          },
          "metadata": {},
          "execution_count": 96
        }
      ]
    },
    {
      "cell_type": "markdown",
      "source": [
        "**Verification status doent give much variation with respective loan repayment**"
      ],
      "metadata": {
        "id": "EV4Cy7iFfddz"
      }
    },
    {
      "cell_type": "code",
      "source": [
        "pd.pivot_table(index='purpose',values='loan_status',columns='verification_status',data=loan_data_status,aggfunc=(lambda x : sum(x)/len(x) * 100))"
      ],
      "metadata": {
        "id": "sGdQa5SqjJ1t",
        "colab": {
          "base_uri": "https://localhost:8080/",
          "height": 520
        },
        "outputId": "4d91ef69-227f-49ea-d25f-b63e9b9aea2a"
      },
      "execution_count": 97,
      "outputs": [
        {
          "output_type": "execute_result",
          "data": {
            "text/plain": [
              "verification_status  Not Verified   Verified\n",
              "purpose                                     \n",
              "car                     91.076115  86.486486\n",
              "credit_card             90.862709  87.380573\n",
              "debt_consolidation      86.936680  82.689988\n",
              "educational             83.555556  80.232558\n",
              "home_improvement        87.791741  86.927122\n",
              "house                   82.307692  85.148515\n",
              "major_purchase          90.476190  88.188188\n",
              "medical                 82.698962  84.911243\n",
              "moving                  86.462882  80.730897\n",
              "other                   84.346505  82.707215\n",
              "renewable_energy        75.000000  84.210526\n",
              "small_business          75.123558  69.690722\n",
              "vacation                85.798817  85.789474\n",
              "wedding                 91.780822  88.095238"
            ],
            "text/html": [
              "\n",
              "\n",
              "  <div id=\"df-ac1172c7-00c0-4ed3-8c9e-c899556f60e3\">\n",
              "    <div class=\"colab-df-container\">\n",
              "      <div>\n",
              "<style scoped>\n",
              "    .dataframe tbody tr th:only-of-type {\n",
              "        vertical-align: middle;\n",
              "    }\n",
              "\n",
              "    .dataframe tbody tr th {\n",
              "        vertical-align: top;\n",
              "    }\n",
              "\n",
              "    .dataframe thead th {\n",
              "        text-align: right;\n",
              "    }\n",
              "</style>\n",
              "<table border=\"1\" class=\"dataframe\">\n",
              "  <thead>\n",
              "    <tr style=\"text-align: right;\">\n",
              "      <th>verification_status</th>\n",
              "      <th>Not Verified</th>\n",
              "      <th>Verified</th>\n",
              "    </tr>\n",
              "    <tr>\n",
              "      <th>purpose</th>\n",
              "      <th></th>\n",
              "      <th></th>\n",
              "    </tr>\n",
              "  </thead>\n",
              "  <tbody>\n",
              "    <tr>\n",
              "      <th>car</th>\n",
              "      <td>91.076115</td>\n",
              "      <td>86.486486</td>\n",
              "    </tr>\n",
              "    <tr>\n",
              "      <th>credit_card</th>\n",
              "      <td>90.862709</td>\n",
              "      <td>87.380573</td>\n",
              "    </tr>\n",
              "    <tr>\n",
              "      <th>debt_consolidation</th>\n",
              "      <td>86.936680</td>\n",
              "      <td>82.689988</td>\n",
              "    </tr>\n",
              "    <tr>\n",
              "      <th>educational</th>\n",
              "      <td>83.555556</td>\n",
              "      <td>80.232558</td>\n",
              "    </tr>\n",
              "    <tr>\n",
              "      <th>home_improvement</th>\n",
              "      <td>87.791741</td>\n",
              "      <td>86.927122</td>\n",
              "    </tr>\n",
              "    <tr>\n",
              "      <th>house</th>\n",
              "      <td>82.307692</td>\n",
              "      <td>85.148515</td>\n",
              "    </tr>\n",
              "    <tr>\n",
              "      <th>major_purchase</th>\n",
              "      <td>90.476190</td>\n",
              "      <td>88.188188</td>\n",
              "    </tr>\n",
              "    <tr>\n",
              "      <th>medical</th>\n",
              "      <td>82.698962</td>\n",
              "      <td>84.911243</td>\n",
              "    </tr>\n",
              "    <tr>\n",
              "      <th>moving</th>\n",
              "      <td>86.462882</td>\n",
              "      <td>80.730897</td>\n",
              "    </tr>\n",
              "    <tr>\n",
              "      <th>other</th>\n",
              "      <td>84.346505</td>\n",
              "      <td>82.707215</td>\n",
              "    </tr>\n",
              "    <tr>\n",
              "      <th>renewable_energy</th>\n",
              "      <td>75.000000</td>\n",
              "      <td>84.210526</td>\n",
              "    </tr>\n",
              "    <tr>\n",
              "      <th>small_business</th>\n",
              "      <td>75.123558</td>\n",
              "      <td>69.690722</td>\n",
              "    </tr>\n",
              "    <tr>\n",
              "      <th>vacation</th>\n",
              "      <td>85.798817</td>\n",
              "      <td>85.789474</td>\n",
              "    </tr>\n",
              "    <tr>\n",
              "      <th>wedding</th>\n",
              "      <td>91.780822</td>\n",
              "      <td>88.095238</td>\n",
              "    </tr>\n",
              "  </tbody>\n",
              "</table>\n",
              "</div>\n",
              "      <button class=\"colab-df-convert\" onclick=\"convertToInteractive('df-ac1172c7-00c0-4ed3-8c9e-c899556f60e3')\"\n",
              "              title=\"Convert this dataframe to an interactive table.\"\n",
              "              style=\"display:none;\">\n",
              "\n",
              "  <svg xmlns=\"http://www.w3.org/2000/svg\" height=\"24px\"viewBox=\"0 0 24 24\"\n",
              "       width=\"24px\">\n",
              "    <path d=\"M0 0h24v24H0V0z\" fill=\"none\"/>\n",
              "    <path d=\"M18.56 5.44l.94 2.06.94-2.06 2.06-.94-2.06-.94-.94-2.06-.94 2.06-2.06.94zm-11 1L8.5 8.5l.94-2.06 2.06-.94-2.06-.94L8.5 2.5l-.94 2.06-2.06.94zm10 10l.94 2.06.94-2.06 2.06-.94-2.06-.94-.94-2.06-.94 2.06-2.06.94z\"/><path d=\"M17.41 7.96l-1.37-1.37c-.4-.4-.92-.59-1.43-.59-.52 0-1.04.2-1.43.59L10.3 9.45l-7.72 7.72c-.78.78-.78 2.05 0 2.83L4 21.41c.39.39.9.59 1.41.59.51 0 1.02-.2 1.41-.59l7.78-7.78 2.81-2.81c.8-.78.8-2.07 0-2.86zM5.41 20L4 18.59l7.72-7.72 1.47 1.35L5.41 20z\"/>\n",
              "  </svg>\n",
              "      </button>\n",
              "\n",
              "\n",
              "\n",
              "    <div id=\"df-1e6160f6-b8f2-4bba-b8a9-ff6521c542b4\">\n",
              "      <button class=\"colab-df-quickchart\" onclick=\"quickchart('df-1e6160f6-b8f2-4bba-b8a9-ff6521c542b4')\"\n",
              "              title=\"Suggest charts.\"\n",
              "              style=\"display:none;\">\n",
              "\n",
              "<svg xmlns=\"http://www.w3.org/2000/svg\" height=\"24px\"viewBox=\"0 0 24 24\"\n",
              "     width=\"24px\">\n",
              "    <g>\n",
              "        <path d=\"M19 3H5c-1.1 0-2 .9-2 2v14c0 1.1.9 2 2 2h14c1.1 0 2-.9 2-2V5c0-1.1-.9-2-2-2zM9 17H7v-7h2v7zm4 0h-2V7h2v10zm4 0h-2v-4h2v4z\"/>\n",
              "    </g>\n",
              "</svg>\n",
              "      </button>\n",
              "    </div>\n",
              "\n",
              "<style>\n",
              "  .colab-df-quickchart {\n",
              "    background-color: #E8F0FE;\n",
              "    border: none;\n",
              "    border-radius: 50%;\n",
              "    cursor: pointer;\n",
              "    display: none;\n",
              "    fill: #1967D2;\n",
              "    height: 32px;\n",
              "    padding: 0 0 0 0;\n",
              "    width: 32px;\n",
              "  }\n",
              "\n",
              "  .colab-df-quickchart:hover {\n",
              "    background-color: #E2EBFA;\n",
              "    box-shadow: 0px 1px 2px rgba(60, 64, 67, 0.3), 0px 1px 3px 1px rgba(60, 64, 67, 0.15);\n",
              "    fill: #174EA6;\n",
              "  }\n",
              "\n",
              "  [theme=dark] .colab-df-quickchart {\n",
              "    background-color: #3B4455;\n",
              "    fill: #D2E3FC;\n",
              "  }\n",
              "\n",
              "  [theme=dark] .colab-df-quickchart:hover {\n",
              "    background-color: #434B5C;\n",
              "    box-shadow: 0px 1px 3px 1px rgba(0, 0, 0, 0.15);\n",
              "    filter: drop-shadow(0px 1px 2px rgba(0, 0, 0, 0.3));\n",
              "    fill: #FFFFFF;\n",
              "  }\n",
              "</style>\n",
              "\n",
              "    <script>\n",
              "      async function quickchart(key) {\n",
              "        const containerElement = document.querySelector('#' + key);\n",
              "        const charts = await google.colab.kernel.invokeFunction(\n",
              "            'suggestCharts', [key], {});\n",
              "      }\n",
              "    </script>\n",
              "\n",
              "      <script>\n",
              "\n",
              "function displayQuickchartButton(domScope) {\n",
              "  let quickchartButtonEl =\n",
              "    domScope.querySelector('#df-1e6160f6-b8f2-4bba-b8a9-ff6521c542b4 button.colab-df-quickchart');\n",
              "  quickchartButtonEl.style.display =\n",
              "    google.colab.kernel.accessAllowed ? 'block' : 'none';\n",
              "}\n",
              "\n",
              "        displayQuickchartButton(document);\n",
              "      </script>\n",
              "      <style>\n",
              "    .colab-df-container {\n",
              "      display:flex;\n",
              "      flex-wrap:wrap;\n",
              "      gap: 12px;\n",
              "    }\n",
              "\n",
              "    .colab-df-convert {\n",
              "      background-color: #E8F0FE;\n",
              "      border: none;\n",
              "      border-radius: 50%;\n",
              "      cursor: pointer;\n",
              "      display: none;\n",
              "      fill: #1967D2;\n",
              "      height: 32px;\n",
              "      padding: 0 0 0 0;\n",
              "      width: 32px;\n",
              "    }\n",
              "\n",
              "    .colab-df-convert:hover {\n",
              "      background-color: #E2EBFA;\n",
              "      box-shadow: 0px 1px 2px rgba(60, 64, 67, 0.3), 0px 1px 3px 1px rgba(60, 64, 67, 0.15);\n",
              "      fill: #174EA6;\n",
              "    }\n",
              "\n",
              "    [theme=dark] .colab-df-convert {\n",
              "      background-color: #3B4455;\n",
              "      fill: #D2E3FC;\n",
              "    }\n",
              "\n",
              "    [theme=dark] .colab-df-convert:hover {\n",
              "      background-color: #434B5C;\n",
              "      box-shadow: 0px 1px 3px 1px rgba(0, 0, 0, 0.15);\n",
              "      filter: drop-shadow(0px 1px 2px rgba(0, 0, 0, 0.3));\n",
              "      fill: #FFFFFF;\n",
              "    }\n",
              "  </style>\n",
              "\n",
              "      <script>\n",
              "        const buttonEl =\n",
              "          document.querySelector('#df-ac1172c7-00c0-4ed3-8c9e-c899556f60e3 button.colab-df-convert');\n",
              "        buttonEl.style.display =\n",
              "          google.colab.kernel.accessAllowed ? 'block' : 'none';\n",
              "\n",
              "        async function convertToInteractive(key) {\n",
              "          const element = document.querySelector('#df-ac1172c7-00c0-4ed3-8c9e-c899556f60e3');\n",
              "          const dataTable =\n",
              "            await google.colab.kernel.invokeFunction('convertToInteractive',\n",
              "                                                     [key], {});\n",
              "          if (!dataTable) return;\n",
              "\n",
              "          const docLinkHtml = 'Like what you see? Visit the ' +\n",
              "            '<a target=\"_blank\" href=https://colab.research.google.com/notebooks/data_table.ipynb>data table notebook</a>'\n",
              "            + ' to learn more about interactive tables.';\n",
              "          element.innerHTML = '';\n",
              "          dataTable['output_type'] = 'display_data';\n",
              "          await google.colab.output.renderOutput(dataTable, element);\n",
              "          const docLink = document.createElement('div');\n",
              "          docLink.innerHTML = docLinkHtml;\n",
              "          element.appendChild(docLink);\n",
              "        }\n",
              "      </script>\n",
              "    </div>\n",
              "  </div>\n"
            ]
          },
          "metadata": {},
          "execution_count": 97
        }
      ]
    },
    {
      "cell_type": "markdown",
      "source": [
        "**Analysis using home ownership didnt give much variance to come to conclusion**"
      ],
      "metadata": {
        "id": "HxiakYs-hv40"
      }
    },
    {
      "cell_type": "code",
      "source": [
        "pd.pivot_table(index='purpose',values='loan_status',columns='home_ownership',data=loan_data_status,aggfunc=(lambda x : sum(x)/len(x) * 100))"
      ],
      "metadata": {
        "colab": {
          "base_uri": "https://localhost:8080/",
          "height": 520
        },
        "id": "flAopOPBgz8D",
        "outputId": "e833d481-bc42-4540-e6d6-3984fca8c6fc"
      },
      "execution_count": 98,
      "outputs": [
        {
          "output_type": "execute_result",
          "data": {
            "text/plain": [
              "home_ownership       MORTGAGE   NONE       OTHER        OWN       RENT\n",
              "purpose                                                               \n",
              "car                 90.029326    NaN   50.000000  89.583333  87.666667\n",
              "credit_card         89.138195    NaN   81.818182  86.545455  89.178026\n",
              "debt_consolidation  84.223013  100.0   84.210526  84.284533  84.634255\n",
              "educational         86.419753    NaN  100.000000  75.000000  81.642512\n",
              "home_improvement    87.807431    NaN   80.000000  86.411150  84.710744\n",
              "house               87.288136    NaN  100.000000  89.285714  81.081081\n",
              "major_purchase      91.504854    NaN  100.000000  87.962963  87.733888\n",
              "medical             84.705882    NaN  100.000000  84.375000  83.006536\n",
              "moving              90.697674    NaN    0.000000  75.000000  82.338902\n",
              "other               86.687797  100.0   84.615385  83.661972  81.624567\n",
              "renewable_energy    82.000000    NaN         NaN  88.888889  76.470588\n",
              "small_business      74.574050    NaN   60.000000  67.346939  69.546742\n",
              "vacation            91.056911    NaN         NaN  86.666667  82.524272\n",
              "wedding             87.550201    NaN  100.000000  94.117647  90.140845"
            ],
            "text/html": [
              "\n",
              "\n",
              "  <div id=\"df-763463a3-155f-4e42-86c2-377c01eb90ea\">\n",
              "    <div class=\"colab-df-container\">\n",
              "      <div>\n",
              "<style scoped>\n",
              "    .dataframe tbody tr th:only-of-type {\n",
              "        vertical-align: middle;\n",
              "    }\n",
              "\n",
              "    .dataframe tbody tr th {\n",
              "        vertical-align: top;\n",
              "    }\n",
              "\n",
              "    .dataframe thead th {\n",
              "        text-align: right;\n",
              "    }\n",
              "</style>\n",
              "<table border=\"1\" class=\"dataframe\">\n",
              "  <thead>\n",
              "    <tr style=\"text-align: right;\">\n",
              "      <th>home_ownership</th>\n",
              "      <th>MORTGAGE</th>\n",
              "      <th>NONE</th>\n",
              "      <th>OTHER</th>\n",
              "      <th>OWN</th>\n",
              "      <th>RENT</th>\n",
              "    </tr>\n",
              "    <tr>\n",
              "      <th>purpose</th>\n",
              "      <th></th>\n",
              "      <th></th>\n",
              "      <th></th>\n",
              "      <th></th>\n",
              "      <th></th>\n",
              "    </tr>\n",
              "  </thead>\n",
              "  <tbody>\n",
              "    <tr>\n",
              "      <th>car</th>\n",
              "      <td>90.029326</td>\n",
              "      <td>NaN</td>\n",
              "      <td>50.000000</td>\n",
              "      <td>89.583333</td>\n",
              "      <td>87.666667</td>\n",
              "    </tr>\n",
              "    <tr>\n",
              "      <th>credit_card</th>\n",
              "      <td>89.138195</td>\n",
              "      <td>NaN</td>\n",
              "      <td>81.818182</td>\n",
              "      <td>86.545455</td>\n",
              "      <td>89.178026</td>\n",
              "    </tr>\n",
              "    <tr>\n",
              "      <th>debt_consolidation</th>\n",
              "      <td>84.223013</td>\n",
              "      <td>100.0</td>\n",
              "      <td>84.210526</td>\n",
              "      <td>84.284533</td>\n",
              "      <td>84.634255</td>\n",
              "    </tr>\n",
              "    <tr>\n",
              "      <th>educational</th>\n",
              "      <td>86.419753</td>\n",
              "      <td>NaN</td>\n",
              "      <td>100.000000</td>\n",
              "      <td>75.000000</td>\n",
              "      <td>81.642512</td>\n",
              "    </tr>\n",
              "    <tr>\n",
              "      <th>home_improvement</th>\n",
              "      <td>87.807431</td>\n",
              "      <td>NaN</td>\n",
              "      <td>80.000000</td>\n",
              "      <td>86.411150</td>\n",
              "      <td>84.710744</td>\n",
              "    </tr>\n",
              "    <tr>\n",
              "      <th>house</th>\n",
              "      <td>87.288136</td>\n",
              "      <td>NaN</td>\n",
              "      <td>100.000000</td>\n",
              "      <td>89.285714</td>\n",
              "      <td>81.081081</td>\n",
              "    </tr>\n",
              "    <tr>\n",
              "      <th>major_purchase</th>\n",
              "      <td>91.504854</td>\n",
              "      <td>NaN</td>\n",
              "      <td>100.000000</td>\n",
              "      <td>87.962963</td>\n",
              "      <td>87.733888</td>\n",
              "    </tr>\n",
              "    <tr>\n",
              "      <th>medical</th>\n",
              "      <td>84.705882</td>\n",
              "      <td>NaN</td>\n",
              "      <td>100.000000</td>\n",
              "      <td>84.375000</td>\n",
              "      <td>83.006536</td>\n",
              "    </tr>\n",
              "    <tr>\n",
              "      <th>moving</th>\n",
              "      <td>90.697674</td>\n",
              "      <td>NaN</td>\n",
              "      <td>0.000000</td>\n",
              "      <td>75.000000</td>\n",
              "      <td>82.338902</td>\n",
              "    </tr>\n",
              "    <tr>\n",
              "      <th>other</th>\n",
              "      <td>86.687797</td>\n",
              "      <td>100.0</td>\n",
              "      <td>84.615385</td>\n",
              "      <td>83.661972</td>\n",
              "      <td>81.624567</td>\n",
              "    </tr>\n",
              "    <tr>\n",
              "      <th>renewable_energy</th>\n",
              "      <td>82.000000</td>\n",
              "      <td>NaN</td>\n",
              "      <td>NaN</td>\n",
              "      <td>88.888889</td>\n",
              "      <td>76.470588</td>\n",
              "    </tr>\n",
              "    <tr>\n",
              "      <th>small_business</th>\n",
              "      <td>74.574050</td>\n",
              "      <td>NaN</td>\n",
              "      <td>60.000000</td>\n",
              "      <td>67.346939</td>\n",
              "      <td>69.546742</td>\n",
              "    </tr>\n",
              "    <tr>\n",
              "      <th>vacation</th>\n",
              "      <td>91.056911</td>\n",
              "      <td>NaN</td>\n",
              "      <td>NaN</td>\n",
              "      <td>86.666667</td>\n",
              "      <td>82.524272</td>\n",
              "    </tr>\n",
              "    <tr>\n",
              "      <th>wedding</th>\n",
              "      <td>87.550201</td>\n",
              "      <td>NaN</td>\n",
              "      <td>100.000000</td>\n",
              "      <td>94.117647</td>\n",
              "      <td>90.140845</td>\n",
              "    </tr>\n",
              "  </tbody>\n",
              "</table>\n",
              "</div>\n",
              "      <button class=\"colab-df-convert\" onclick=\"convertToInteractive('df-763463a3-155f-4e42-86c2-377c01eb90ea')\"\n",
              "              title=\"Convert this dataframe to an interactive table.\"\n",
              "              style=\"display:none;\">\n",
              "\n",
              "  <svg xmlns=\"http://www.w3.org/2000/svg\" height=\"24px\"viewBox=\"0 0 24 24\"\n",
              "       width=\"24px\">\n",
              "    <path d=\"M0 0h24v24H0V0z\" fill=\"none\"/>\n",
              "    <path d=\"M18.56 5.44l.94 2.06.94-2.06 2.06-.94-2.06-.94-.94-2.06-.94 2.06-2.06.94zm-11 1L8.5 8.5l.94-2.06 2.06-.94-2.06-.94L8.5 2.5l-.94 2.06-2.06.94zm10 10l.94 2.06.94-2.06 2.06-.94-2.06-.94-.94-2.06-.94 2.06-2.06.94z\"/><path d=\"M17.41 7.96l-1.37-1.37c-.4-.4-.92-.59-1.43-.59-.52 0-1.04.2-1.43.59L10.3 9.45l-7.72 7.72c-.78.78-.78 2.05 0 2.83L4 21.41c.39.39.9.59 1.41.59.51 0 1.02-.2 1.41-.59l7.78-7.78 2.81-2.81c.8-.78.8-2.07 0-2.86zM5.41 20L4 18.59l7.72-7.72 1.47 1.35L5.41 20z\"/>\n",
              "  </svg>\n",
              "      </button>\n",
              "\n",
              "\n",
              "\n",
              "    <div id=\"df-52b69ef5-a417-4d63-a4a1-bf5098e70ea4\">\n",
              "      <button class=\"colab-df-quickchart\" onclick=\"quickchart('df-52b69ef5-a417-4d63-a4a1-bf5098e70ea4')\"\n",
              "              title=\"Suggest charts.\"\n",
              "              style=\"display:none;\">\n",
              "\n",
              "<svg xmlns=\"http://www.w3.org/2000/svg\" height=\"24px\"viewBox=\"0 0 24 24\"\n",
              "     width=\"24px\">\n",
              "    <g>\n",
              "        <path d=\"M19 3H5c-1.1 0-2 .9-2 2v14c0 1.1.9 2 2 2h14c1.1 0 2-.9 2-2V5c0-1.1-.9-2-2-2zM9 17H7v-7h2v7zm4 0h-2V7h2v10zm4 0h-2v-4h2v4z\"/>\n",
              "    </g>\n",
              "</svg>\n",
              "      </button>\n",
              "    </div>\n",
              "\n",
              "<style>\n",
              "  .colab-df-quickchart {\n",
              "    background-color: #E8F0FE;\n",
              "    border: none;\n",
              "    border-radius: 50%;\n",
              "    cursor: pointer;\n",
              "    display: none;\n",
              "    fill: #1967D2;\n",
              "    height: 32px;\n",
              "    padding: 0 0 0 0;\n",
              "    width: 32px;\n",
              "  }\n",
              "\n",
              "  .colab-df-quickchart:hover {\n",
              "    background-color: #E2EBFA;\n",
              "    box-shadow: 0px 1px 2px rgba(60, 64, 67, 0.3), 0px 1px 3px 1px rgba(60, 64, 67, 0.15);\n",
              "    fill: #174EA6;\n",
              "  }\n",
              "\n",
              "  [theme=dark] .colab-df-quickchart {\n",
              "    background-color: #3B4455;\n",
              "    fill: #D2E3FC;\n",
              "  }\n",
              "\n",
              "  [theme=dark] .colab-df-quickchart:hover {\n",
              "    background-color: #434B5C;\n",
              "    box-shadow: 0px 1px 3px 1px rgba(0, 0, 0, 0.15);\n",
              "    filter: drop-shadow(0px 1px 2px rgba(0, 0, 0, 0.3));\n",
              "    fill: #FFFFFF;\n",
              "  }\n",
              "</style>\n",
              "\n",
              "    <script>\n",
              "      async function quickchart(key) {\n",
              "        const containerElement = document.querySelector('#' + key);\n",
              "        const charts = await google.colab.kernel.invokeFunction(\n",
              "            'suggestCharts', [key], {});\n",
              "      }\n",
              "    </script>\n",
              "\n",
              "      <script>\n",
              "\n",
              "function displayQuickchartButton(domScope) {\n",
              "  let quickchartButtonEl =\n",
              "    domScope.querySelector('#df-52b69ef5-a417-4d63-a4a1-bf5098e70ea4 button.colab-df-quickchart');\n",
              "  quickchartButtonEl.style.display =\n",
              "    google.colab.kernel.accessAllowed ? 'block' : 'none';\n",
              "}\n",
              "\n",
              "        displayQuickchartButton(document);\n",
              "      </script>\n",
              "      <style>\n",
              "    .colab-df-container {\n",
              "      display:flex;\n",
              "      flex-wrap:wrap;\n",
              "      gap: 12px;\n",
              "    }\n",
              "\n",
              "    .colab-df-convert {\n",
              "      background-color: #E8F0FE;\n",
              "      border: none;\n",
              "      border-radius: 50%;\n",
              "      cursor: pointer;\n",
              "      display: none;\n",
              "      fill: #1967D2;\n",
              "      height: 32px;\n",
              "      padding: 0 0 0 0;\n",
              "      width: 32px;\n",
              "    }\n",
              "\n",
              "    .colab-df-convert:hover {\n",
              "      background-color: #E2EBFA;\n",
              "      box-shadow: 0px 1px 2px rgba(60, 64, 67, 0.3), 0px 1px 3px 1px rgba(60, 64, 67, 0.15);\n",
              "      fill: #174EA6;\n",
              "    }\n",
              "\n",
              "    [theme=dark] .colab-df-convert {\n",
              "      background-color: #3B4455;\n",
              "      fill: #D2E3FC;\n",
              "    }\n",
              "\n",
              "    [theme=dark] .colab-df-convert:hover {\n",
              "      background-color: #434B5C;\n",
              "      box-shadow: 0px 1px 3px 1px rgba(0, 0, 0, 0.15);\n",
              "      filter: drop-shadow(0px 1px 2px rgba(0, 0, 0, 0.3));\n",
              "      fill: #FFFFFF;\n",
              "    }\n",
              "  </style>\n",
              "\n",
              "      <script>\n",
              "        const buttonEl =\n",
              "          document.querySelector('#df-763463a3-155f-4e42-86c2-377c01eb90ea button.colab-df-convert');\n",
              "        buttonEl.style.display =\n",
              "          google.colab.kernel.accessAllowed ? 'block' : 'none';\n",
              "\n",
              "        async function convertToInteractive(key) {\n",
              "          const element = document.querySelector('#df-763463a3-155f-4e42-86c2-377c01eb90ea');\n",
              "          const dataTable =\n",
              "            await google.colab.kernel.invokeFunction('convertToInteractive',\n",
              "                                                     [key], {});\n",
              "          if (!dataTable) return;\n",
              "\n",
              "          const docLinkHtml = 'Like what you see? Visit the ' +\n",
              "            '<a target=\"_blank\" href=https://colab.research.google.com/notebooks/data_table.ipynb>data table notebook</a>'\n",
              "            + ' to learn more about interactive tables.';\n",
              "          element.innerHTML = '';\n",
              "          dataTable['output_type'] = 'display_data';\n",
              "          await google.colab.output.renderOutput(dataTable, element);\n",
              "          const docLink = document.createElement('div');\n",
              "          docLink.innerHTML = docLinkHtml;\n",
              "          element.appendChild(docLink);\n",
              "        }\n",
              "      </script>\n",
              "    </div>\n",
              "  </div>\n"
            ]
          },
          "metadata": {},
          "execution_count": 98
        }
      ]
    },
    {
      "cell_type": "code",
      "source": [
        "loan_data_status.groupby(by='addr_state')['loan_status'].mean().plot.bar()\n",
        "plt.xticks(fontsize=6)\n",
        "#plt.figure(figsize=(50,50))\n",
        "plt.show()"
      ],
      "metadata": {
        "colab": {
          "base_uri": "https://localhost:8080/",
          "height": 450
        },
        "id": "zpGyaWb5tIG7",
        "outputId": "8a37ea3a-71f2-4781-83a5-88e8c9f5fd87"
      },
      "execution_count": 99,
      "outputs": [
        {
          "output_type": "display_data",
          "data": {
            "text/plain": [
              "<Figure size 640x480 with 1 Axes>"
            ],
            "image/png": "[encoded data removed]"
          },
          "metadata": {}
        }
      ]
    }
  ]
}